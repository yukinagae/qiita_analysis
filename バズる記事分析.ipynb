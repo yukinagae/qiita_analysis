{
 "cells": [
  {
   "cell_type": "markdown",
   "metadata": {},
   "source": [
    "# Qiita\n",
    "\n",
    "* 対象データ\n",
    "  * 期間: TODO\n",
    "  * 内容: 記事データ（item）※本文（body）は除く\n",
    "  * 取得方法: API経由 TODO\n",
    "  \n",
    "## バズる記事とは？\n",
    "\n",
    "バズる記事の定義\n",
    "\n",
    "* コメント数（comments_count）の多い記事\n",
    "  * かついいね数（likes_count）が多い: 良い意味でバズった or 良記事\n",
    "  * かついいね数（likes_count）が少ない: 悪い意味でバズった or 荒れた記事 or （自分のメモ代わりにしている人）\n",
    "  \n",
    "## 参考資料\n",
    "\n",
    "* Qiita: [お前らの記事のタイトルは間違っている〜爆速で誰でもできるQiitaでバズらせる6個の必殺技まとめ](https://qiita.com/SugarShootingStar/items/bba0fab1e55936e7234a)"
   ]
  },
  {
   "cell_type": "code",
   "execution_count": 7,
   "metadata": {},
   "outputs": [],
   "source": [
    "import numpy as np\n",
    "import pandas as pd\n",
    "\n",
    "from pandas_summary import DataFrameSummary\n",
    "\n",
    "import matplotlib.pyplot as plt\n",
    "%matplotlib inline\n",
    "\n",
    "import pymc3 as pm"
   ]
  },
  {
   "cell_type": "code",
   "execution_count": 8,
   "metadata": {},
   "outputs": [],
   "source": [
    "df = pd.read_csv('input/summary.csv')"
   ]
  },
  {
   "cell_type": "markdown",
   "metadata": {},
   "source": [
    "データの形\n",
    "\n",
    "* カラム数: 10\n",
    "* レコード数: 87990"
   ]
  },
  {
   "cell_type": "code",
   "execution_count": 17,
   "metadata": {},
   "outputs": [
    {
     "name": "stdout",
     "output_type": "stream",
     "text": [
      "カラム数: 10\n",
      "レコード数: 87990\n"
     ]
    }
   ],
   "source": [
    "print(\"カラム数: {}\".format(df.shape[1]))\n",
    "print(\"レコード数: {}\".format(df.shape[0]))"
   ]
  },
  {
   "cell_type": "markdown",
   "metadata": {},
   "source": [
    "カラム一覧"
   ]
  },
  {
   "cell_type": "code",
   "execution_count": 19,
   "metadata": {},
   "outputs": [
    {
     "name": "stdout",
     "output_type": "stream",
     "text": [
      "title\n",
      "id\n",
      "created_at\n",
      "updated_at\n",
      "likes_count\n",
      "comments_count\n",
      "tags_str\n",
      "user_id\n",
      "user_permanent_id\n",
      "url\n"
     ]
    }
   ],
   "source": [
    "for c in df.columns:\n",
    "    print(c)"
   ]
  },
  {
   "cell_type": "code",
   "execution_count": 13,
   "metadata": {},
   "outputs": [
    {
     "data": {
      "text/html": [
       "<div>\n",
       "<style scoped>\n",
       "    .dataframe tbody tr th:only-of-type {\n",
       "        vertical-align: middle;\n",
       "    }\n",
       "\n",
       "    .dataframe tbody tr th {\n",
       "        vertical-align: top;\n",
       "    }\n",
       "\n",
       "    .dataframe thead th {\n",
       "        text-align: right;\n",
       "    }\n",
       "</style>\n",
       "<table border=\"1\" class=\"dataframe\">\n",
       "  <thead>\n",
       "    <tr style=\"text-align: right;\">\n",
       "      <th></th>\n",
       "      <th>0</th>\n",
       "      <th>1</th>\n",
       "      <th>2</th>\n",
       "    </tr>\n",
       "  </thead>\n",
       "  <tbody>\n",
       "    <tr>\n",
       "      <th>title</th>\n",
       "      <td>DynamoDB ローカルでチュートリアル</td>\n",
       "      <td>C++で初めてのゲーム開発する時に、気をつけて欲しいこと</td>\n",
       "      <td>LSTMの簡易まとめ</td>\n",
       "    </tr>\n",
       "    <tr>\n",
       "      <th>id</th>\n",
       "      <td>022f5c5b4e45f42727e9</td>\n",
       "      <td>1b7ab644e7de7709b073</td>\n",
       "      <td>636ec5e15df4e57f78a0</td>\n",
       "    </tr>\n",
       "    <tr>\n",
       "      <th>created_at</th>\n",
       "      <td>2017-12-31T08:54:37+09:00</td>\n",
       "      <td>2017-12-31T08:39:29+09:00</td>\n",
       "      <td>2017-12-31T08:32:55+09:00</td>\n",
       "    </tr>\n",
       "    <tr>\n",
       "      <th>updated_at</th>\n",
       "      <td>2017-12-31T08:54:37+09:00</td>\n",
       "      <td>2017-12-31T14:21:16+09:00</td>\n",
       "      <td>2018-01-04T11:16:21+09:00</td>\n",
       "    </tr>\n",
       "    <tr>\n",
       "      <th>likes_count</th>\n",
       "      <td>1</td>\n",
       "      <td>35</td>\n",
       "      <td>2</td>\n",
       "    </tr>\n",
       "    <tr>\n",
       "      <th>comments_count</th>\n",
       "      <td>0</td>\n",
       "      <td>0</td>\n",
       "      <td>0</td>\n",
       "    </tr>\n",
       "    <tr>\n",
       "      <th>tags_str</th>\n",
       "      <td>AWS,チュートリアル,DynamoDB</td>\n",
       "      <td>C++</td>\n",
       "      <td>機械学習,深層学習,LSTM,TensorFlow</td>\n",
       "    </tr>\n",
       "    <tr>\n",
       "      <th>user_id</th>\n",
       "      <td>h2m_kinoko</td>\n",
       "      <td>4_mio_11</td>\n",
       "      <td>matsui-k20xx</td>\n",
       "    </tr>\n",
       "    <tr>\n",
       "      <th>user_permanent_id</th>\n",
       "      <td>119864</td>\n",
       "      <td>36899</td>\n",
       "      <td>214997</td>\n",
       "    </tr>\n",
       "    <tr>\n",
       "      <th>url</th>\n",
       "      <td>https://qiita.com/h2m_kinoko/items/022f5c5b4e4...</td>\n",
       "      <td>https://qiita.com/4_mio_11/items/1b7ab644e7de7...</td>\n",
       "      <td>https://qiita.com/matsui-k20xx/items/636ec5e15...</td>\n",
       "    </tr>\n",
       "  </tbody>\n",
       "</table>\n",
       "</div>"
      ],
      "text/plain": [
       "                                                                   0  \\\n",
       "title                                          DynamoDB ローカルでチュートリアル   \n",
       "id                                              022f5c5b4e45f42727e9   \n",
       "created_at                                 2017-12-31T08:54:37+09:00   \n",
       "updated_at                                 2017-12-31T08:54:37+09:00   \n",
       "likes_count                                                        1   \n",
       "comments_count                                                     0   \n",
       "tags_str                                        AWS,チュートリアル,DynamoDB   \n",
       "user_id                                                   h2m_kinoko   \n",
       "user_permanent_id                                             119864   \n",
       "url                https://qiita.com/h2m_kinoko/items/022f5c5b4e4...   \n",
       "\n",
       "                                                                   1  \\\n",
       "title                                   C++で初めてのゲーム開発する時に、気をつけて欲しいこと   \n",
       "id                                              1b7ab644e7de7709b073   \n",
       "created_at                                 2017-12-31T08:39:29+09:00   \n",
       "updated_at                                 2017-12-31T14:21:16+09:00   \n",
       "likes_count                                                       35   \n",
       "comments_count                                                     0   \n",
       "tags_str                                                         C++   \n",
       "user_id                                                     4_mio_11   \n",
       "user_permanent_id                                              36899   \n",
       "url                https://qiita.com/4_mio_11/items/1b7ab644e7de7...   \n",
       "\n",
       "                                                                   2  \n",
       "title                                                     LSTMの簡易まとめ  \n",
       "id                                              636ec5e15df4e57f78a0  \n",
       "created_at                                 2017-12-31T08:32:55+09:00  \n",
       "updated_at                                 2018-01-04T11:16:21+09:00  \n",
       "likes_count                                                        2  \n",
       "comments_count                                                     0  \n",
       "tags_str                                   機械学習,深層学習,LSTM,TensorFlow  \n",
       "user_id                                                 matsui-k20xx  \n",
       "user_permanent_id                                             214997  \n",
       "url                https://qiita.com/matsui-k20xx/items/636ec5e15...  "
      ]
     },
     "execution_count": 13,
     "metadata": {},
     "output_type": "execute_result"
    }
   ],
   "source": [
    "df.head(3).T"
   ]
  },
  {
   "cell_type": "markdown",
   "metadata": {},
   "source": [
    "# EDA"
   ]
  },
  {
   "cell_type": "markdown",
   "metadata": {},
   "source": [
    "要約統計量"
   ]
  },
  {
   "cell_type": "code",
   "execution_count": 10,
   "metadata": {},
   "outputs": [
    {
     "data": {
      "text/html": [
       "<div>\n",
       "<style scoped>\n",
       "    .dataframe tbody tr th:only-of-type {\n",
       "        vertical-align: middle;\n",
       "    }\n",
       "\n",
       "    .dataframe tbody tr th {\n",
       "        vertical-align: top;\n",
       "    }\n",
       "\n",
       "    .dataframe thead th {\n",
       "        text-align: right;\n",
       "    }\n",
       "</style>\n",
       "<table border=\"1\" class=\"dataframe\">\n",
       "  <thead>\n",
       "    <tr style=\"text-align: right;\">\n",
       "      <th></th>\n",
       "      <th>title</th>\n",
       "      <th>id</th>\n",
       "      <th>created_at</th>\n",
       "      <th>updated_at</th>\n",
       "      <th>likes_count</th>\n",
       "      <th>comments_count</th>\n",
       "      <th>tags_str</th>\n",
       "      <th>user_id</th>\n",
       "      <th>user_permanent_id</th>\n",
       "      <th>url</th>\n",
       "    </tr>\n",
       "  </thead>\n",
       "  <tbody>\n",
       "    <tr>\n",
       "      <th>count</th>\n",
       "      <td>NaN</td>\n",
       "      <td>NaN</td>\n",
       "      <td>NaN</td>\n",
       "      <td>NaN</td>\n",
       "      <td>87990</td>\n",
       "      <td>87990</td>\n",
       "      <td>NaN</td>\n",
       "      <td>NaN</td>\n",
       "      <td>87990</td>\n",
       "      <td>NaN</td>\n",
       "    </tr>\n",
       "    <tr>\n",
       "      <th>mean</th>\n",
       "      <td>NaN</td>\n",
       "      <td>NaN</td>\n",
       "      <td>NaN</td>\n",
       "      <td>NaN</td>\n",
       "      <td>8.14695</td>\n",
       "      <td>0.319536</td>\n",
       "      <td>NaN</td>\n",
       "      <td>NaN</td>\n",
       "      <td>147979</td>\n",
       "      <td>NaN</td>\n",
       "    </tr>\n",
       "    <tr>\n",
       "      <th>std</th>\n",
       "      <td>NaN</td>\n",
       "      <td>NaN</td>\n",
       "      <td>NaN</td>\n",
       "      <td>NaN</td>\n",
       "      <td>58.1444</td>\n",
       "      <td>1.69247</td>\n",
       "      <td>NaN</td>\n",
       "      <td>NaN</td>\n",
       "      <td>88418.7</td>\n",
       "      <td>NaN</td>\n",
       "    </tr>\n",
       "    <tr>\n",
       "      <th>min</th>\n",
       "      <td>NaN</td>\n",
       "      <td>NaN</td>\n",
       "      <td>NaN</td>\n",
       "      <td>NaN</td>\n",
       "      <td>0</td>\n",
       "      <td>0</td>\n",
       "      <td>NaN</td>\n",
       "      <td>NaN</td>\n",
       "      <td>29</td>\n",
       "      <td>NaN</td>\n",
       "    </tr>\n",
       "    <tr>\n",
       "      <th>25%</th>\n",
       "      <td>NaN</td>\n",
       "      <td>NaN</td>\n",
       "      <td>NaN</td>\n",
       "      <td>NaN</td>\n",
       "      <td>0</td>\n",
       "      <td>0</td>\n",
       "      <td>NaN</td>\n",
       "      <td>NaN</td>\n",
       "      <td>65978</td>\n",
       "      <td>NaN</td>\n",
       "    </tr>\n",
       "    <tr>\n",
       "      <th>50%</th>\n",
       "      <td>NaN</td>\n",
       "      <td>NaN</td>\n",
       "      <td>NaN</td>\n",
       "      <td>NaN</td>\n",
       "      <td>1</td>\n",
       "      <td>0</td>\n",
       "      <td>NaN</td>\n",
       "      <td>NaN</td>\n",
       "      <td>148882</td>\n",
       "      <td>NaN</td>\n",
       "    </tr>\n",
       "    <tr>\n",
       "      <th>75%</th>\n",
       "      <td>NaN</td>\n",
       "      <td>NaN</td>\n",
       "      <td>NaN</td>\n",
       "      <td>NaN</td>\n",
       "      <td>4</td>\n",
       "      <td>0</td>\n",
       "      <td>NaN</td>\n",
       "      <td>NaN</td>\n",
       "      <td>227518</td>\n",
       "      <td>NaN</td>\n",
       "    </tr>\n",
       "    <tr>\n",
       "      <th>max</th>\n",
       "      <td>NaN</td>\n",
       "      <td>NaN</td>\n",
       "      <td>NaN</td>\n",
       "      <td>NaN</td>\n",
       "      <td>3583</td>\n",
       "      <td>104</td>\n",
       "      <td>NaN</td>\n",
       "      <td>NaN</td>\n",
       "      <td>322336</td>\n",
       "      <td>NaN</td>\n",
       "    </tr>\n",
       "    <tr>\n",
       "      <th>counts</th>\n",
       "      <td>87990</td>\n",
       "      <td>87990</td>\n",
       "      <td>87990</td>\n",
       "      <td>87990</td>\n",
       "      <td>87990</td>\n",
       "      <td>87990</td>\n",
       "      <td>87990</td>\n",
       "      <td>87990</td>\n",
       "      <td>87990</td>\n",
       "      <td>87990</td>\n",
       "    </tr>\n",
       "    <tr>\n",
       "      <th>uniques</th>\n",
       "      <td>87815</td>\n",
       "      <td>87990</td>\n",
       "      <td>87815</td>\n",
       "      <td>87825</td>\n",
       "      <td>603</td>\n",
       "      <td>54</td>\n",
       "      <td>54919</td>\n",
       "      <td>21091</td>\n",
       "      <td>21091</td>\n",
       "      <td>87990</td>\n",
       "    </tr>\n",
       "    <tr>\n",
       "      <th>missing</th>\n",
       "      <td>0</td>\n",
       "      <td>0</td>\n",
       "      <td>0</td>\n",
       "      <td>0</td>\n",
       "      <td>0</td>\n",
       "      <td>0</td>\n",
       "      <td>0</td>\n",
       "      <td>0</td>\n",
       "      <td>0</td>\n",
       "      <td>0</td>\n",
       "    </tr>\n",
       "    <tr>\n",
       "      <th>missing_perc</th>\n",
       "      <td>0%</td>\n",
       "      <td>0%</td>\n",
       "      <td>0%</td>\n",
       "      <td>0%</td>\n",
       "      <td>0%</td>\n",
       "      <td>0%</td>\n",
       "      <td>0%</td>\n",
       "      <td>0%</td>\n",
       "      <td>0%</td>\n",
       "      <td>0%</td>\n",
       "    </tr>\n",
       "    <tr>\n",
       "      <th>types</th>\n",
       "      <td>categorical</td>\n",
       "      <td>unique</td>\n",
       "      <td>categorical</td>\n",
       "      <td>categorical</td>\n",
       "      <td>numeric</td>\n",
       "      <td>numeric</td>\n",
       "      <td>categorical</td>\n",
       "      <td>categorical</td>\n",
       "      <td>numeric</td>\n",
       "      <td>unique</td>\n",
       "    </tr>\n",
       "  </tbody>\n",
       "</table>\n",
       "</div>"
      ],
      "text/plain": [
       "                    title      id   created_at   updated_at likes_count  \\\n",
       "count                 NaN     NaN          NaN          NaN       87990   \n",
       "mean                  NaN     NaN          NaN          NaN     8.14695   \n",
       "std                   NaN     NaN          NaN          NaN     58.1444   \n",
       "min                   NaN     NaN          NaN          NaN           0   \n",
       "25%                   NaN     NaN          NaN          NaN           0   \n",
       "50%                   NaN     NaN          NaN          NaN           1   \n",
       "75%                   NaN     NaN          NaN          NaN           4   \n",
       "max                   NaN     NaN          NaN          NaN        3583   \n",
       "counts              87990   87990        87990        87990       87990   \n",
       "uniques             87815   87990        87815        87825         603   \n",
       "missing                 0       0            0            0           0   \n",
       "missing_perc           0%      0%           0%           0%          0%   \n",
       "types         categorical  unique  categorical  categorical     numeric   \n",
       "\n",
       "             comments_count     tags_str      user_id user_permanent_id  \\\n",
       "count                 87990          NaN          NaN             87990   \n",
       "mean               0.319536          NaN          NaN            147979   \n",
       "std                 1.69247          NaN          NaN           88418.7   \n",
       "min                       0          NaN          NaN                29   \n",
       "25%                       0          NaN          NaN             65978   \n",
       "50%                       0          NaN          NaN            148882   \n",
       "75%                       0          NaN          NaN            227518   \n",
       "max                     104          NaN          NaN            322336   \n",
       "counts                87990        87990        87990             87990   \n",
       "uniques                  54        54919        21091             21091   \n",
       "missing                   0            0            0                 0   \n",
       "missing_perc             0%           0%           0%                0%   \n",
       "types               numeric  categorical  categorical           numeric   \n",
       "\n",
       "                 url  \n",
       "count            NaN  \n",
       "mean             NaN  \n",
       "std              NaN  \n",
       "min              NaN  \n",
       "25%              NaN  \n",
       "50%              NaN  \n",
       "75%              NaN  \n",
       "max              NaN  \n",
       "counts         87990  \n",
       "uniques        87990  \n",
       "missing            0  \n",
       "missing_perc      0%  \n",
       "types         unique  "
      ]
     },
     "execution_count": 10,
     "metadata": {},
     "output_type": "execute_result"
    }
   ],
   "source": [
    "DataFrameSummary(df).summary()"
   ]
  },
  {
   "cell_type": "markdown",
   "metadata": {},
   "source": [
    "## コメント数といいね数"
   ]
  },
  {
   "cell_type": "markdown",
   "metadata": {},
   "source": [
    "コメント数の分布"
   ]
  },
  {
   "cell_type": "code",
   "execution_count": 21,
   "metadata": {},
   "outputs": [
    {
     "data": {
      "text/plain": [
       "(array([8.7699e+04, 2.1300e+02, 3.7000e+01, 2.3000e+01, 7.0000e+00,\n",
       "        6.0000e+00, 0.0000e+00, 0.0000e+00, 2.0000e+00, 3.0000e+00]),\n",
       " array([  0. ,  10.4,  20.8,  31.2,  41.6,  52. ,  62.4,  72.8,  83.2,\n",
       "         93.6, 104. ]),\n",
       " <a list of 10 Patch objects>)"
      ]
     },
     "execution_count": 21,
     "metadata": {},
     "output_type": "execute_result"
    },
    {
     "data": {
      "image/png": "[encoded data removed]",
      "text/plain": [
       "<Figure size 864x576 with 1 Axes>"
      ]
     },
     "metadata": {
      "needs_background": "light"
     },
     "output_type": "display_data"
    }
   ],
   "source": [
    "plt.figure(figsize=(12, 8))\n",
    "plt.hist(df['comments_count'])"
   ]
  },
  {
   "cell_type": "markdown",
   "metadata": {},
   "source": [
    "コメントが0の割合\n",
    "\n",
    "* コメント0の記事は全体の約89%"
   ]
  },
  {
   "cell_type": "code",
   "execution_count": 33,
   "metadata": {},
   "outputs": [
    {
     "name": "stdout",
     "output_type": "stream",
     "text": [
      "89.24%\n"
     ]
    }
   ],
   "source": [
    "print(\"{:.2f}%\".format(len(df[df['comments_count']==0]) / len(df) * 100))"
   ]
  },
  {
   "cell_type": "markdown",
   "metadata": {},
   "source": [
    "コメント数の分布がエグいの対数変換してみる\n",
    "\n",
    "* 対数変換してもかなり偏った分布になる"
   ]
  },
  {
   "cell_type": "code",
   "execution_count": 25,
   "metadata": {},
   "outputs": [
    {
     "data": {
      "text/plain": [
       "(array([7.8521e+04, 3.0370e+03, 4.4260e+03, 1.0770e+03, 5.6800e+02,\n",
       "        2.1300e+02, 8.8000e+01, 4.0000e+01, 1.5000e+01, 5.0000e+00]),\n",
       " array([0.        , 0.46539604, 0.93079207, 1.39618811, 1.86158414,\n",
       "        2.32698018, 2.79237621, 3.25777225, 3.72316828, 4.18856432,\n",
       "        4.65396035]),\n",
       " <a list of 10 Patch objects>)"
      ]
     },
     "execution_count": 25,
     "metadata": {},
     "output_type": "execute_result"
    },
    {
     "data": {
      "image/png": "[encoded data removed]",
      "text/plain": [
       "<Figure size 864x576 with 1 Axes>"
      ]
     },
     "metadata": {
      "needs_background": "light"
     },
     "output_type": "display_data"
    }
   ],
   "source": [
    "plt.figure(figsize=(12, 8))\n",
    "plt.hist(np.log(df['comments_count'].values+1))"
   ]
  },
  {
   "cell_type": "markdown",
   "metadata": {},
   "source": [
    "いいね数の分布"
   ]
  },
  {
   "cell_type": "code",
   "execution_count": 22,
   "metadata": {},
   "outputs": [
    {
     "data": {
      "text/plain": [
       "(array([8.7635e+04, 2.2500e+02, 6.4000e+01, 3.8000e+01, 1.6000e+01,\n",
       "        6.0000e+00, 4.0000e+00, 1.0000e+00, 0.0000e+00, 1.0000e+00]),\n",
       " array([   0. ,  358.3,  716.6, 1074.9, 1433.2, 1791.5, 2149.8, 2508.1,\n",
       "        2866.4, 3224.7, 3583. ]),\n",
       " <a list of 10 Patch objects>)"
      ]
     },
     "execution_count": 22,
     "metadata": {},
     "output_type": "execute_result"
    },
    {
     "data": {
      "image/png": "[encoded data removed]",
      "text/plain": [
       "<Figure size 864x576 with 1 Axes>"
      ]
     },
     "metadata": {
      "needs_background": "light"
     },
     "output_type": "display_data"
    }
   ],
   "source": [
    "plt.figure(figsize=(12, 8))\n",
    "plt.hist(df['likes_count'])"
   ]
  },
  {
   "cell_type": "markdown",
   "metadata": {},
   "source": [
    "いいねが0の割合\n",
    "\n",
    "* いいね0の記事は全体の約32%"
   ]
  },
  {
   "cell_type": "code",
   "execution_count": 34,
   "metadata": {},
   "outputs": [
    {
     "name": "stdout",
     "output_type": "stream",
     "text": [
      "31.65%\n"
     ]
    }
   ],
   "source": [
    "print(\"{:.2f}%\".format(len(df[df['likes_count']==0]) / len(df) * 100))"
   ]
  },
  {
   "cell_type": "markdown",
   "metadata": {},
   "source": [
    "いいね数の分布もエグいの対数変換してみる\n",
    "\n",
    "* 対数変換するとコメント数の対数分布よりはましになる"
   ]
  },
  {
   "cell_type": "code",
   "execution_count": 26,
   "metadata": {},
   "outputs": [
    {
     "data": {
      "text/plain": [
       "(array([4.6195e+04, 2.2701e+04, 1.1175e+04, 4.9110e+03, 1.5020e+03,\n",
       "        6.8100e+02, 4.0800e+02, 2.8200e+02, 1.1500e+02, 2.0000e+01]),\n",
       " array([0.        , 0.81842348, 1.63684695, 2.45527043, 3.27369391,\n",
       "        4.09211739, 4.91054086, 5.72896434, 6.54738782, 7.3658113 ,\n",
       "        8.18423477]),\n",
       " <a list of 10 Patch objects>)"
      ]
     },
     "execution_count": 26,
     "metadata": {},
     "output_type": "execute_result"
    },
    {
     "data": {
      "image/png": "[encoded data removed]",
      "text/plain": [
       "<Figure size 864x576 with 1 Axes>"
      ]
     },
     "metadata": {
      "needs_background": "light"
     },
     "output_type": "display_data"
    }
   ],
   "source": [
    "plt.figure(figsize=(12, 8))\n",
    "plt.hist(np.log(df['likes_count'].values+1))"
   ]
  },
  {
   "cell_type": "markdown",
   "metadata": {},
   "source": [
    "## コメント数の詳細"
   ]
  },
  {
   "cell_type": "markdown",
   "metadata": {},
   "source": [
    "コメントありの記事だけ抽出"
   ]
  },
  {
   "cell_type": "code",
   "execution_count": 46,
   "metadata": {},
   "outputs": [
    {
     "name": "stdout",
     "output_type": "stream",
     "text": [
      "count: 9469\n"
     ]
    }
   ],
   "source": [
    "df_with_comments = df[df['comments_count']>0]\n",
    "print(\"count: {}\".format(len(df_with_comments)))"
   ]
  },
  {
   "cell_type": "markdown",
   "metadata": {},
   "source": [
    "コメント数が多い記事のTop20\n",
    "\n",
    "* コメント数が多いといっていいね数が多いわけではない（コメント数は多いがいいね数が少ない記事が割とある）\n",
    "  * メモ代わりに自分でコメントしている\n",
    "  * 一部の人が会話している（多くの人が興味を持つ話題ではない）\n",
    "  * 記事内のコードに不具合がありコメントでやり取りして長引いている（GitHubのissue使った方がいいと思う）"
   ]
  },
  {
   "cell_type": "code",
   "execution_count": 54,
   "metadata": {},
   "outputs": [
    {
     "data": {
      "text/html": [
       "<div>\n",
       "<style scoped>\n",
       "    .dataframe tbody tr th:only-of-type {\n",
       "        vertical-align: middle;\n",
       "    }\n",
       "\n",
       "    .dataframe tbody tr th {\n",
       "        vertical-align: top;\n",
       "    }\n",
       "\n",
       "    .dataframe thead th {\n",
       "        text-align: right;\n",
       "    }\n",
       "</style>\n",
       "<table border=\"1\" class=\"dataframe\">\n",
       "  <thead>\n",
       "    <tr style=\"text-align: right;\">\n",
       "      <th></th>\n",
       "      <th>title</th>\n",
       "      <th>tags_str</th>\n",
       "      <th>comments_count</th>\n",
       "      <th>likes_count</th>\n",
       "      <th>url</th>\n",
       "    </tr>\n",
       "  </thead>\n",
       "  <tbody>\n",
       "    <tr>\n",
       "      <th>71463</th>\n",
       "      <td>「ゴミ記事が多すぎる問題」に対する私見</td>\n",
       "      <td>ポエム,アウトプット</td>\n",
       "      <td>104</td>\n",
       "      <td>852</td>\n",
       "      <td>https://qiita.com/akira_/items/c8881dcde93d4cb...</td>\n",
       "    </tr>\n",
       "    <tr>\n",
       "      <th>68243</th>\n",
       "      <td>オブジェクト指向が5000%理解できる記事</td>\n",
       "      <td>オブジェクト指向</td>\n",
       "      <td>102</td>\n",
       "      <td>1463</td>\n",
       "      <td>https://qiita.com/it-hero/items/b2f8e39d7cc23a...</td>\n",
       "    </tr>\n",
       "    <tr>\n",
       "      <th>80049</th>\n",
       "      <td>全ての開発者がQiitaへのアウトプットをやめるべき理由</td>\n",
       "      <td>Qiita,ポエム,キャリア,エンジニア,アウトプット</td>\n",
       "      <td>100</td>\n",
       "      <td>320</td>\n",
       "      <td>https://qiita.com/qiitadaisuki/items/2160a390c...</td>\n",
       "    </tr>\n",
       "    <tr>\n",
       "      <th>34628</th>\n",
       "      <td>Windows への OpenPose導入手順【7/7追記】</td>\n",
       "      <td>Windows,OpenPose</td>\n",
       "      <td>90</td>\n",
       "      <td>30</td>\n",
       "      <td>https://qiita.com/miu200521358/items/539aaa63f...</td>\n",
       "    </tr>\n",
       "    <tr>\n",
       "      <th>5663</th>\n",
       "      <td>JavaScriptにSchemeを実装する</td>\n",
       "      <td>JavaScript,Scheme,lisp,言語作成</td>\n",
       "      <td>89</td>\n",
       "      <td>16</td>\n",
       "      <td>https://qiita.com/tutinoco/items/f22f4005703e0...</td>\n",
       "    </tr>\n",
       "    <tr>\n",
       "      <th>30368</th>\n",
       "      <td>Java初心者時代にコードレビューで指摘された悪しき習慣</td>\n",
       "      <td>Java,悪い見本,コードレビュー,新人プログラマ応援</td>\n",
       "      <td>62</td>\n",
       "      <td>964</td>\n",
       "      <td>https://qiita.com/gengogo5/items/5b038cf0b4034...</td>\n",
       "    </tr>\n",
       "    <tr>\n",
       "      <th>20415</th>\n",
       "      <td>Laravelの開発環境を仮想マシン上に構築してVueのサンプルを動かしてみる</td>\n",
       "      <td>npm,SPA,vue,vue-router,laravel5.5</td>\n",
       "      <td>61</td>\n",
       "      <td>1</td>\n",
       "      <td>https://qiita.com/kenyuasa/items/b7be72823b353...</td>\n",
       "    </tr>\n",
       "    <tr>\n",
       "      <th>79197</th>\n",
       "      <td>報酬がQiitaを阻害する「アンダーマイニング効果」（人間とは、かくもヘンテコな生きものなり）</td>\n",
       "      <td>Qiita,UX,ポエム,心理学,エンジニア</td>\n",
       "      <td>60</td>\n",
       "      <td>809</td>\n",
       "      <td>https://qiita.com/youwht/items/1c7ae618c8b2498...</td>\n",
       "    </tr>\n",
       "    <tr>\n",
       "      <th>42197</th>\n",
       "      <td>glibc newlib より速いクイックソート(qs9 qs10)、 世界最速をめざして</td>\n",
       "      <td>sort,アルゴリズム,ソート,クイックソート,qsort</td>\n",
       "      <td>56</td>\n",
       "      <td>1</td>\n",
       "      <td>https://qiita.com/t-kawa/items/99408891b18bd1f...</td>\n",
       "    </tr>\n",
       "    <tr>\n",
       "      <th>78400</th>\n",
       "      <td>侍エンジニア塾のC言語のサンプルがヤバすぎる。</td>\n",
       "      <td>C</td>\n",
       "      <td>54</td>\n",
       "      <td>724</td>\n",
       "      <td>https://qiita.com/hamichamp/items/7b7a7ee091a6...</td>\n",
       "    </tr>\n",
       "    <tr>\n",
       "      <th>74134</th>\n",
       "      <td>東京五輪ボランティア応募サイトを検証したら予想以上にヤバかった（語彙力）</td>\n",
       "      <td>HTML,CSS,reactjs</td>\n",
       "      <td>54</td>\n",
       "      <td>319</td>\n",
       "      <td>https://qiita.com/yoshi1125hisa/items/3f60b801...</td>\n",
       "    </tr>\n",
       "    <tr>\n",
       "      <th>55692</th>\n",
       "      <td>「世界最悪のログイン処理コード」を解説してみた</td>\n",
       "      <td>JavaScript,SQL,セキュリティ,脆弱性</td>\n",
       "      <td>51</td>\n",
       "      <td>1578</td>\n",
       "      <td>https://qiita.com/YSRKEN/items/0095cf75be3f607...</td>\n",
       "    </tr>\n",
       "    <tr>\n",
       "      <th>1054</th>\n",
       "      <td>イマドキのJavaScriptの書き方2018</td>\n",
       "      <td>JavaScript</td>\n",
       "      <td>45</td>\n",
       "      <td>3583</td>\n",
       "      <td>https://qiita.com/shibukawa/items/19ab5c381bbb...</td>\n",
       "    </tr>\n",
       "    <tr>\n",
       "      <th>80437</th>\n",
       "      <td>最近のQiitaの記事の質が下がってきている事への考察</td>\n",
       "      <td>Qiita,ポエム,意見記事</td>\n",
       "      <td>45</td>\n",
       "      <td>169</td>\n",
       "      <td>https://qiita.com/wannabe/items/294b34334a94e8...</td>\n",
       "    </tr>\n",
       "    <tr>\n",
       "      <th>34627</th>\n",
       "      <td>Windows への 3d-pose-baseline-vmd の導入手順</td>\n",
       "      <td>Python,Windows,3d-pose-baseline</td>\n",
       "      <td>45</td>\n",
       "      <td>15</td>\n",
       "      <td>https://qiita.com/miu200521358/items/d00c3b6d1...</td>\n",
       "    </tr>\n",
       "    <tr>\n",
       "      <th>73204</th>\n",
       "      <td>エンジニアは全員技術記事を書くことを習慣化した方がいいぞ</td>\n",
       "      <td>Qiita,翻訳,アウトプット,新人プログラマ応援</td>\n",
       "      <td>44</td>\n",
       "      <td>2090</td>\n",
       "      <td>https://qiita.com/HiromuMasuda0228/items/a71de...</td>\n",
       "    </tr>\n",
       "    <tr>\n",
       "      <th>86410</th>\n",
       "      <td>O/Rマッピングは百害あって一利なし！</td>\n",
       "      <td>SQL,ポエム,Webアプリケーション,ORM,フレームワーク</td>\n",
       "      <td>44</td>\n",
       "      <td>165</td>\n",
       "      <td>https://qiita.com/gomiryo/items/6d448c500749f9...</td>\n",
       "    </tr>\n",
       "    <tr>\n",
       "      <th>77441</th>\n",
       "      <td>バカにC言語は難しい~プログラミングの機会損失~</td>\n",
       "      <td>Python,プログラミング,初心者,C言語,初心者向け</td>\n",
       "      <td>42</td>\n",
       "      <td>355</td>\n",
       "      <td>https://qiita.com/Tommy_/items/bedc86bfcf7926d...</td>\n",
       "    </tr>\n",
       "    <tr>\n",
       "      <th>76925</th>\n",
       "      <td>お前らはまだ、侍エンジニア塾の凄さを知らない</td>\n",
       "      <td>HTML,SEO,侍エンジニア塾</td>\n",
       "      <td>41</td>\n",
       "      <td>1038</td>\n",
       "      <td>https://qiita.com/mu_tomoya/items/b764b6552911...</td>\n",
       "    </tr>\n",
       "    <tr>\n",
       "      <th>48178</th>\n",
       "      <td>pythonでデータの中身を意識しないということ</td>\n",
       "      <td>Python,C,C++</td>\n",
       "      <td>41</td>\n",
       "      <td>1</td>\n",
       "      <td>https://qiita.com/kooka2525/items/87c4b22c3f1f...</td>\n",
       "    </tr>\n",
       "  </tbody>\n",
       "</table>\n",
       "</div>"
      ],
      "text/plain": [
       "                                                 title  \\\n",
       "71463                              「ゴミ記事が多すぎる問題」に対する私見   \n",
       "68243                            オブジェクト指向が5000%理解できる記事   \n",
       "80049                     全ての開発者がQiitaへのアウトプットをやめるべき理由   \n",
       "34628                   Windows への OpenPose導入手順【7/7追記】   \n",
       "5663                            JavaScriptにSchemeを実装する   \n",
       "30368                     Java初心者時代にコードレビューで指摘された悪しき習慣   \n",
       "20415          Laravelの開発環境を仮想マシン上に構築してVueのサンプルを動かしてみる   \n",
       "79197  報酬がQiitaを阻害する「アンダーマイニング効果」（人間とは、かくもヘンテコな生きものなり）   \n",
       "42197    glibc newlib より速いクイックソート(qs9 qs10)、 世界最速をめざして   \n",
       "78400                          侍エンジニア塾のC言語のサンプルがヤバすぎる。   \n",
       "74134             東京五輪ボランティア応募サイトを検証したら予想以上にヤバかった（語彙力）   \n",
       "55692                          「世界最悪のログイン処理コード」を解説してみた   \n",
       "1054                           イマドキのJavaScriptの書き方2018   \n",
       "80437                      最近のQiitaの記事の質が下がってきている事への考察   \n",
       "34627            Windows への 3d-pose-baseline-vmd の導入手順   \n",
       "73204                     エンジニアは全員技術記事を書くことを習慣化した方がいいぞ   \n",
       "86410                              O/Rマッピングは百害あって一利なし！   \n",
       "77441                         バカにC言語は難しい~プログラミングの機会損失~   \n",
       "76925                           お前らはまだ、侍エンジニア塾の凄さを知らない   \n",
       "48178                         pythonでデータの中身を意識しないということ   \n",
       "\n",
       "                                tags_str  comments_count  likes_count  \\\n",
       "71463                         ポエム,アウトプット             104          852   \n",
       "68243                           オブジェクト指向             102         1463   \n",
       "80049        Qiita,ポエム,キャリア,エンジニア,アウトプット             100          320   \n",
       "34628                   Windows,OpenPose              90           30   \n",
       "5663         JavaScript,Scheme,lisp,言語作成              89           16   \n",
       "30368        Java,悪い見本,コードレビュー,新人プログラマ応援              62          964   \n",
       "20415  npm,SPA,vue,vue-router,laravel5.5              61            1   \n",
       "79197             Qiita,UX,ポエム,心理学,エンジニア              60          809   \n",
       "42197      sort,アルゴリズム,ソート,クイックソート,qsort              56            1   \n",
       "78400                                  C              54          724   \n",
       "74134                   HTML,CSS,reactjs              54          319   \n",
       "55692          JavaScript,SQL,セキュリティ,脆弱性              51         1578   \n",
       "1054                          JavaScript              45         3583   \n",
       "80437                     Qiita,ポエム,意見記事              45          169   \n",
       "34627    Python,Windows,3d-pose-baseline              45           15   \n",
       "73204          Qiita,翻訳,アウトプット,新人プログラマ応援              44         2090   \n",
       "86410    SQL,ポエム,Webアプリケーション,ORM,フレームワーク              44          165   \n",
       "77441       Python,プログラミング,初心者,C言語,初心者向け              42          355   \n",
       "76925                   HTML,SEO,侍エンジニア塾              41         1038   \n",
       "48178                       Python,C,C++              41            1   \n",
       "\n",
       "                                                     url  \n",
       "71463  https://qiita.com/akira_/items/c8881dcde93d4cb...  \n",
       "68243  https://qiita.com/it-hero/items/b2f8e39d7cc23a...  \n",
       "80049  https://qiita.com/qiitadaisuki/items/2160a390c...  \n",
       "34628  https://qiita.com/miu200521358/items/539aaa63f...  \n",
       "5663   https://qiita.com/tutinoco/items/f22f4005703e0...  \n",
       "30368  https://qiita.com/gengogo5/items/5b038cf0b4034...  \n",
       "20415  https://qiita.com/kenyuasa/items/b7be72823b353...  \n",
       "79197  https://qiita.com/youwht/items/1c7ae618c8b2498...  \n",
       "42197  https://qiita.com/t-kawa/items/99408891b18bd1f...  \n",
       "78400  https://qiita.com/hamichamp/items/7b7a7ee091a6...  \n",
       "74134  https://qiita.com/yoshi1125hisa/items/3f60b801...  \n",
       "55692  https://qiita.com/YSRKEN/items/0095cf75be3f607...  \n",
       "1054   https://qiita.com/shibukawa/items/19ab5c381bbb...  \n",
       "80437  https://qiita.com/wannabe/items/294b34334a94e8...  \n",
       "34627  https://qiita.com/miu200521358/items/d00c3b6d1...  \n",
       "73204  https://qiita.com/HiromuMasuda0228/items/a71de...  \n",
       "86410  https://qiita.com/gomiryo/items/6d448c500749f9...  \n",
       "77441  https://qiita.com/Tommy_/items/bedc86bfcf7926d...  \n",
       "76925  https://qiita.com/mu_tomoya/items/b764b6552911...  \n",
       "48178  https://qiita.com/kooka2525/items/87c4b22c3f1f...  "
      ]
     },
     "execution_count": 54,
     "metadata": {},
     "output_type": "execute_result"
    }
   ],
   "source": [
    "df_with_comments.sort_values(by='comments_count', ascending=False)[[\n",
    "    \"title\",\n",
    "    \"tags_str\",\n",
    "    \"comments_count\",\n",
    "    \"likes_count\",\n",
    "    \"url\"\n",
    "]].head(20)"
   ]
  },
  {
   "cell_type": "markdown",
   "metadata": {},
   "source": [
    "## いいね数の詳細"
   ]
  },
  {
   "cell_type": "code",
   "execution_count": 52,
   "metadata": {},
   "outputs": [
    {
     "name": "stdout",
     "output_type": "stream",
     "text": [
      "count: 60137\n"
     ]
    }
   ],
   "source": [
    "df_with_likes = df[df['likes_count']>0]\n",
    "print(\"count: {}\".format(len(df_with_likes)))"
   ]
  },
  {
   "cell_type": "markdown",
   "metadata": {},
   "source": [
    "いいね数が多い記事のTop20\n",
    "\n",
    "* いいね数が多い記事は平均してコメントも多い傾向にある"
   ]
  },
  {
   "cell_type": "code",
   "execution_count": 55,
   "metadata": {},
   "outputs": [
    {
     "data": {
      "text/html": [
       "<div>\n",
       "<style scoped>\n",
       "    .dataframe tbody tr th:only-of-type {\n",
       "        vertical-align: middle;\n",
       "    }\n",
       "\n",
       "    .dataframe tbody tr th {\n",
       "        vertical-align: top;\n",
       "    }\n",
       "\n",
       "    .dataframe thead th {\n",
       "        text-align: right;\n",
       "    }\n",
       "</style>\n",
       "<table border=\"1\" class=\"dataframe\">\n",
       "  <thead>\n",
       "    <tr style=\"text-align: right;\">\n",
       "      <th></th>\n",
       "      <th>title</th>\n",
       "      <th>tags_str</th>\n",
       "      <th>comments_count</th>\n",
       "      <th>likes_count</th>\n",
       "      <th>url</th>\n",
       "    </tr>\n",
       "  </thead>\n",
       "  <tbody>\n",
       "    <tr>\n",
       "      <th>1054</th>\n",
       "      <td>イマドキのJavaScriptの書き方2018</td>\n",
       "      <td>JavaScript</td>\n",
       "      <td>45</td>\n",
       "      <td>3583</td>\n",
       "      <td>https://qiita.com/shibukawa/items/19ab5c381bbb...</td>\n",
       "    </tr>\n",
       "    <tr>\n",
       "      <th>33967</th>\n",
       "      <td>開設後３週間で収益１０万円を得た個人開発サイトでやったことの全部を公開する</td>\n",
       "      <td>Ruby,JavaScript,Heroku,AWS,個人開発</td>\n",
       "      <td>37</td>\n",
       "      <td>2686</td>\n",
       "      <td>https://qiita.com/jabba/items/1a49e860a09a613b...</td>\n",
       "    </tr>\n",
       "    <tr>\n",
       "      <th>37148</th>\n",
       "      <td>2018年の最先端バックエンドエンジニアに必要なスキルについて考えてみました。</td>\n",
       "      <td>AWS,gcp,キャリア</td>\n",
       "      <td>15</td>\n",
       "      <td>2487</td>\n",
       "      <td>https://qiita.com/poly_soft/items/fb649573c19b...</td>\n",
       "    </tr>\n",
       "    <tr>\n",
       "      <th>69409</th>\n",
       "      <td>[2018] 個人でも使える！おすすめAPI一覧</td>\n",
       "      <td>Python,Instagram,GoogleCloudPlatform</td>\n",
       "      <td>15</td>\n",
       "      <td>2439</td>\n",
       "      <td>https://qiita.com/mikan3rd/items/ba4737023f08b...</td>\n",
       "    </tr>\n",
       "    <tr>\n",
       "      <th>33628</th>\n",
       "      <td>コーディングをするときに鼻血がでるほど便利なwebツールリスト(随時更新予定)</td>\n",
       "      <td>正規表現,Web,tool,coding,naming</td>\n",
       "      <td>18</td>\n",
       "      <td>2404</td>\n",
       "      <td>https://qiita.com/isuke/items/7fcc5eb0b985005b...</td>\n",
       "    </tr>\n",
       "    <tr>\n",
       "      <th>65115</th>\n",
       "      <td>Chrome拡張の高速な英語辞書ツールをつくりました(Mouse Dictionary)</td>\n",
       "      <td>JavaScript,Chrome,chrome-extension,English</td>\n",
       "      <td>31</td>\n",
       "      <td>2349</td>\n",
       "      <td>https://qiita.com/wtetsu/items/c43232c6c44918e...</td>\n",
       "    </tr>\n",
       "    <tr>\n",
       "      <th>73204</th>\n",
       "      <td>エンジニアは全員技術記事を書くことを習慣化した方がいいぞ</td>\n",
       "      <td>Qiita,翻訳,アウトプット,新人プログラマ応援</td>\n",
       "      <td>44</td>\n",
       "      <td>2090</td>\n",
       "      <td>https://qiita.com/HiromuMasuda0228/items/a71de...</td>\n",
       "    </tr>\n",
       "    <tr>\n",
       "      <th>68548</th>\n",
       "      <td>なぜ我々はいまだに文字列でコメントを書いているのか</td>\n",
       "      <td>Emacs,SublimeText3,コメント,Visual,VSCode</td>\n",
       "      <td>23</td>\n",
       "      <td>2062</td>\n",
       "      <td>https://qiita.com/tkrkt/items/2fc9a9a59ce679aa...</td>\n",
       "    </tr>\n",
       "    <tr>\n",
       "      <th>70338</th>\n",
       "      <td>もっと気軽にアウトプットできる技術ブログサービス「Qrunch（クランチ）」をリリースした【...</td>\n",
       "      <td>Ruby,Markdown,RubyOnRails,Webサービス,個人開発</td>\n",
       "      <td>34</td>\n",
       "      <td>1952</td>\n",
       "      <td>https://qiita.com/c0domisu/items/95a561d163d26...</td>\n",
       "    </tr>\n",
       "    <tr>\n",
       "      <th>10263</th>\n",
       "      <td>【今日からできる】コミットメッセージに 「プレフィックス」 をつけるだけで、開発効率が上がった話</td>\n",
       "      <td>Git,GitHub,devops,チーム,新人プログラマ応援</td>\n",
       "      <td>33</td>\n",
       "      <td>1947</td>\n",
       "      <td>https://qiita.com/numanomanu/items/45dd285b286...</td>\n",
       "    </tr>\n",
       "    <tr>\n",
       "      <th>15851</th>\n",
       "      <td>GitHub に AWS キーペアを上げると抜かれるってほんと？？？試してみよー！</td>\n",
       "      <td>GitHub,AWS</td>\n",
       "      <td>13</td>\n",
       "      <td>1900</td>\n",
       "      <td>https://qiita.com/saitotak/items/813ac6c2057ac...</td>\n",
       "    </tr>\n",
       "    <tr>\n",
       "      <th>7784</th>\n",
       "      <td>新人達を1ヶ月でガチvimmerにした方法</td>\n",
       "      <td>Vim,新人教育,Vimmer</td>\n",
       "      <td>6</td>\n",
       "      <td>1795</td>\n",
       "      <td>https://qiita.com/nyantera/items/4bf29ca6f11bc...</td>\n",
       "    </tr>\n",
       "    <tr>\n",
       "      <th>58782</th>\n",
       "      <td>ソフトウェア開発に役立つ　心理学的現象、行動経済学の概念など　15題</td>\n",
       "      <td>プログラミング,チーム開発,プロジェクト管理,開発プロセス,マネジメント</td>\n",
       "      <td>11</td>\n",
       "      <td>1762</td>\n",
       "      <td>https://qiita.com/arai-wa/items/4c7629276ced7e...</td>\n",
       "    </tr>\n",
       "    <tr>\n",
       "      <th>49714</th>\n",
       "      <td>初心者プログラマが犯しがちな過ち25選</td>\n",
       "      <td>JavaScript,初心者,プログラマ</td>\n",
       "      <td>18</td>\n",
       "      <td>1732</td>\n",
       "      <td>https://qiita.com/rana_kualu/items/379eefb3a40...</td>\n",
       "    </tr>\n",
       "    <tr>\n",
       "      <th>55159</th>\n",
       "      <td>いまさらだけどGitを基本から分かりやすくまとめてみた</td>\n",
       "      <td>Git</td>\n",
       "      <td>13</td>\n",
       "      <td>1688</td>\n",
       "      <td>https://qiita.com/gold-kou/items/7f6a3b46e2781...</td>\n",
       "    </tr>\n",
       "    <tr>\n",
       "      <th>5240</th>\n",
       "      <td>Webアプリケーションフレームワーク導入時に考慮すべき22の観点</td>\n",
       "      <td>Java,Ruby,PHP,Scala,設計</td>\n",
       "      <td>10</td>\n",
       "      <td>1672</td>\n",
       "      <td>https://qiita.com/tmknom/items/08b69594e32a92b...</td>\n",
       "    </tr>\n",
       "    <tr>\n",
       "      <th>34639</th>\n",
       "      <td>「赤の他人」の対義語は「白い恋人」 これを自動生成したい物語</td>\n",
       "      <td>Python,mecab,自然言語処理,python3,word2vec</td>\n",
       "      <td>20</td>\n",
       "      <td>1648</td>\n",
       "      <td>https://qiita.com/youwht/items/f21325ff62603e8...</td>\n",
       "    </tr>\n",
       "    <tr>\n",
       "      <th>76112</th>\n",
       "      <td>Webパフォーマンス虎の巻</td>\n",
       "      <td>JavaScript,ChromeDevTool,performance</td>\n",
       "      <td>1</td>\n",
       "      <td>1634</td>\n",
       "      <td>https://qiita.com/usagi-f/items/10f35969f08dd0...</td>\n",
       "    </tr>\n",
       "    <tr>\n",
       "      <th>47148</th>\n",
       "      <td>治安の悪い Slack Emoji を作るツールを作った</td>\n",
       "      <td>JavaScript,HTML5,canvas,Slack</td>\n",
       "      <td>16</td>\n",
       "      <td>1625</td>\n",
       "      <td>https://qiita.com/zk_phi/items/8a24b8ad9d1eabd...</td>\n",
       "    </tr>\n",
       "    <tr>\n",
       "      <th>26141</th>\n",
       "      <td>システムで「性別」の情報を扱う前に知っておくべきこと</td>\n",
       "      <td>プログラミング,Web,Database,ISO</td>\n",
       "      <td>5</td>\n",
       "      <td>1590</td>\n",
       "      <td>https://qiita.com/aoshirobo/items/32deb45cb8c8...</td>\n",
       "    </tr>\n",
       "  </tbody>\n",
       "</table>\n",
       "</div>"
      ],
      "text/plain": [
       "                                                   title  \\\n",
       "1054                             イマドキのJavaScriptの書き方2018   \n",
       "33967              開設後３週間で収益１０万円を得た個人開発サイトでやったことの全部を公開する   \n",
       "37148            2018年の最先端バックエンドエンジニアに必要なスキルについて考えてみました。   \n",
       "69409                           [2018] 個人でも使える！おすすめAPI一覧   \n",
       "33628            コーディングをするときに鼻血がでるほど便利なwebツールリスト(随時更新予定)   \n",
       "65115       Chrome拡張の高速な英語辞書ツールをつくりました(Mouse Dictionary)   \n",
       "73204                       エンジニアは全員技術記事を書くことを習慣化した方がいいぞ   \n",
       "68548                          なぜ我々はいまだに文字列でコメントを書いているのか   \n",
       "70338  もっと気軽にアウトプットできる技術ブログサービス「Qrunch（クランチ）」をリリースした【...   \n",
       "10263   【今日からできる】コミットメッセージに 「プレフィックス」 をつけるだけで、開発効率が上がった話   \n",
       "15851          GitHub に AWS キーペアを上げると抜かれるってほんと？？？試してみよー！   \n",
       "7784                               新人達を1ヶ月でガチvimmerにした方法   \n",
       "58782                 ソフトウェア開発に役立つ　心理学的現象、行動経済学の概念など　15題   \n",
       "49714                                初心者プログラマが犯しがちな過ち25選   \n",
       "55159                        いまさらだけどGitを基本から分かりやすくまとめてみた   \n",
       "5240                    Webアプリケーションフレームワーク導入時に考慮すべき22の観点   \n",
       "34639                     「赤の他人」の対義語は「白い恋人」 これを自動生成したい物語   \n",
       "76112                                      Webパフォーマンス虎の巻   \n",
       "47148                       治安の悪い Slack Emoji を作るツールを作った   \n",
       "26141                         システムで「性別」の情報を扱う前に知っておくべきこと   \n",
       "\n",
       "                                         tags_str  comments_count  \\\n",
       "1054                                   JavaScript              45   \n",
       "33967             Ruby,JavaScript,Heroku,AWS,個人開発              37   \n",
       "37148                                AWS,gcp,キャリア              15   \n",
       "69409        Python,Instagram,GoogleCloudPlatform              15   \n",
       "33628                 正規表現,Web,tool,coding,naming              18   \n",
       "65115  JavaScript,Chrome,chrome-extension,English              31   \n",
       "73204                   Qiita,翻訳,アウトプット,新人プログラマ応援              44   \n",
       "68548       Emacs,SublimeText3,コメント,Visual,VSCode              23   \n",
       "70338      Ruby,Markdown,RubyOnRails,Webサービス,個人開発              34   \n",
       "10263             Git,GitHub,devops,チーム,新人プログラマ応援              33   \n",
       "15851                                  GitHub,AWS              13   \n",
       "7784                              Vim,新人教育,Vimmer               6   \n",
       "58782        プログラミング,チーム開発,プロジェクト管理,開発プロセス,マネジメント              11   \n",
       "49714                        JavaScript,初心者,プログラマ              18   \n",
       "55159                                         Git              13   \n",
       "5240                       Java,Ruby,PHP,Scala,設計              10   \n",
       "34639        Python,mecab,自然言語処理,python3,word2vec              20   \n",
       "76112        JavaScript,ChromeDevTool,performance               1   \n",
       "47148               JavaScript,HTML5,canvas,Slack              16   \n",
       "26141                    プログラミング,Web,Database,ISO               5   \n",
       "\n",
       "       likes_count                                                url  \n",
       "1054          3583  https://qiita.com/shibukawa/items/19ab5c381bbb...  \n",
       "33967         2686  https://qiita.com/jabba/items/1a49e860a09a613b...  \n",
       "37148         2487  https://qiita.com/poly_soft/items/fb649573c19b...  \n",
       "69409         2439  https://qiita.com/mikan3rd/items/ba4737023f08b...  \n",
       "33628         2404  https://qiita.com/isuke/items/7fcc5eb0b985005b...  \n",
       "65115         2349  https://qiita.com/wtetsu/items/c43232c6c44918e...  \n",
       "73204         2090  https://qiita.com/HiromuMasuda0228/items/a71de...  \n",
       "68548         2062  https://qiita.com/tkrkt/items/2fc9a9a59ce679aa...  \n",
       "70338         1952  https://qiita.com/c0domisu/items/95a561d163d26...  \n",
       "10263         1947  https://qiita.com/numanomanu/items/45dd285b286...  \n",
       "15851         1900  https://qiita.com/saitotak/items/813ac6c2057ac...  \n",
       "7784          1795  https://qiita.com/nyantera/items/4bf29ca6f11bc...  \n",
       "58782         1762  https://qiita.com/arai-wa/items/4c7629276ced7e...  \n",
       "49714         1732  https://qiita.com/rana_kualu/items/379eefb3a40...  \n",
       "55159         1688  https://qiita.com/gold-kou/items/7f6a3b46e2781...  \n",
       "5240          1672  https://qiita.com/tmknom/items/08b69594e32a92b...  \n",
       "34639         1648  https://qiita.com/youwht/items/f21325ff62603e8...  \n",
       "76112         1634  https://qiita.com/usagi-f/items/10f35969f08dd0...  \n",
       "47148         1625  https://qiita.com/zk_phi/items/8a24b8ad9d1eabd...  \n",
       "26141         1590  https://qiita.com/aoshirobo/items/32deb45cb8c8...  "
      ]
     },
     "execution_count": 55,
     "metadata": {},
     "output_type": "execute_result"
    }
   ],
   "source": [
    "df_with_likes.sort_values(by='likes_count', ascending=False)[[\n",
    "    \"title\",\n",
    "    \"tags_str\",\n",
    "    \"comments_count\",\n",
    "    \"likes_count\",\n",
    "    \"url\"\n",
    "]].head(20)"
   ]
  },
  {
   "cell_type": "markdown",
   "metadata": {},
   "source": [
    "# 特徴量\n",
    "\n",
    "* タイトル\n",
    "  * <font color=\"red\">長さ</font> （たぶん最大250文字。実際にはせいぜい100文字以内が表示的に現実的）\n",
    "  * 文字種の数\n",
    "    * <font color=\"red\">数字の数</font>\n",
    "    * アルファベットの数（大文字・小文字は区別しない）\n",
    "    * ひらがなの数\n",
    "    * カタカナの数\n",
    "    * 漢字の数\n",
    "    * それ以外の数（記号など）\n",
    "* タグ\n",
    "  * タグの数\n",
    "  * 文字種の数（タイトルと同様）"
   ]
  },
  {
   "cell_type": "markdown",
   "metadata": {},
   "source": [
    "ちなみに最大文字数のタイトルは239文字"
   ]
  },
  {
   "cell_type": "code",
   "execution_count": 65,
   "metadata": {},
   "outputs": [
    {
     "name": "stdout",
     "output_type": "stream",
     "text": [
      "YYPHP#54「PhpStormの法人ライセンスは1台にしか入れられない？、Laravelでブログを作るには？、Chromeのみ対応のシステムをIE11対応させたいが…、みんながDockerをどんなふうに使っているのか開発のしかたなどを聞きたい、PHPはフランス語に弱い？、前前人者が作ったシステムが良くわからない、型とオブジェクト指向がマイブームで再燃しているのはなぜか？、PhpStormのEAPでコレクション型のジェネリクス表記ができるようになったよ、技術書典５の案内」\n",
      "239\n"
     ]
    }
   ],
   "source": [
    "print(max(df[\"title\"], key=len))\n",
    "print(len(max(df[\"title\"], key=len)))"
   ]
  },
  {
   "cell_type": "markdown",
   "metadata": {},
   "source": [
    "## モデリング"
   ]
  },
  {
   "cell_type": "code",
   "execution_count": 75,
   "metadata": {},
   "outputs": [],
   "source": [
    "model = pm.Model()\n",
    "\n",
    "with model:\n",
    "        # define priors, weakly informative Normal\n",
    "    b0 = pm.Normal('b0_intercept', mu=0, sd=10)\n",
    "\n",
    "    # define linear model and exp link function\n",
    "    theta = b0\n",
    "    comments = pm.Poisson(\"comments\", mu=np.exp(theta), observed=df[\"comments_count\"].values)"
   ]
  },
  {
   "cell_type": "code",
   "execution_count": 76,
   "metadata": {},
   "outputs": [
    {
     "name": "stderr",
     "output_type": "stream",
     "text": [
      "Auto-assigning NUTS sampler...\n",
      "Initializing NUTS using jitter+adapt_diag...\n",
      "Multiprocess sampling (2 chains in 2 jobs)\n",
      "NUTS: [b0_intercept]\n",
      "Sampling 2 chains: 100%|██████████| 2000/2000 [00:04<00:00, 494.30draws/s]\n",
      "The acceptance probability does not match the target. It is 0.8888344291034943, but should be close to 0.8. Try to increase the number of tuning steps.\n",
      "The acceptance probability does not match the target. It is 0.8932596580563543, but should be close to 0.8. Try to increase the number of tuning steps.\n"
     ]
    }
   ],
   "source": [
    "with model:\n",
    "    trace = pm.sample()"
   ]
  },
  {
   "cell_type": "code",
   "execution_count": 77,
   "metadata": {},
   "outputs": [
    {
     "name": "stderr",
     "output_type": "stream",
     "text": [
      "/Users/yuki/.pyenv/versions/miniconda3-4.1.11/envs/pymc3/lib/python3.6/site-packages/matplotlib/axes/_base.py:3449: MatplotlibDeprecationWarning: \n",
      "The `ymin` argument was deprecated in Matplotlib 3.0 and will be removed in 3.2. Use `bottom` instead.\n",
      "  alternative='`bottom`', obj_type='argument')\n"
     ]
    },
    {
     "data": {
      "image/png": "[encoded data removed]",
      "text/plain": [
       "<Figure size 864x144 with 2 Axes>"
      ]
     },
     "metadata": {},
     "output_type": "display_data"
    }
   ],
   "source": [
    "pm.traceplot(trace);"
   ]
  },
  {
   "cell_type": "code",
   "execution_count": 78,
   "metadata": {},
   "outputs": [
    {
     "data": {
      "text/html": [
       "<div>\n",
       "<style scoped>\n",
       "    .dataframe tbody tr th:only-of-type {\n",
       "        vertical-align: middle;\n",
       "    }\n",
       "\n",
       "    .dataframe tbody tr th {\n",
       "        vertical-align: top;\n",
       "    }\n",
       "\n",
       "    .dataframe thead th {\n",
       "        text-align: right;\n",
       "    }\n",
       "</style>\n",
       "<table border=\"1\" class=\"dataframe\">\n",
       "  <thead>\n",
       "    <tr style=\"text-align: right;\">\n",
       "      <th></th>\n",
       "      <th>mean</th>\n",
       "      <th>sd</th>\n",
       "      <th>mc_error</th>\n",
       "      <th>hpd_2.5</th>\n",
       "      <th>hpd_97.5</th>\n",
       "      <th>n_eff</th>\n",
       "      <th>Rhat</th>\n",
       "    </tr>\n",
       "  </thead>\n",
       "  <tbody>\n",
       "    <tr>\n",
       "      <th>b0_intercept</th>\n",
       "      <td>-1.141064</td>\n",
       "      <td>0.005904</td>\n",
       "      <td>0.000295</td>\n",
       "      <td>-1.152185</td>\n",
       "      <td>-1.129829</td>\n",
       "      <td>365.647616</td>\n",
       "      <td>1.001114</td>\n",
       "    </tr>\n",
       "  </tbody>\n",
       "</table>\n",
       "</div>"
      ],
      "text/plain": [
       "                  mean        sd  mc_error   hpd_2.5  hpd_97.5       n_eff  \\\n",
       "b0_intercept -1.141064  0.005904  0.000295 -1.152185 -1.129829  365.647616   \n",
       "\n",
       "                  Rhat  \n",
       "b0_intercept  1.001114  "
      ]
     },
     "execution_count": 78,
     "metadata": {},
     "output_type": "execute_result"
    }
   ],
   "source": [
    "pm.summary(trace)"
   ]
  },
  {
   "cell_type": "code",
   "execution_count": null,
   "metadata": {},
   "outputs": [],
   "source": []
  }
 ],
 "metadata": {
  "kernelspec": {
   "display_name": "Python 3",
   "language": "python",
   "name": "python3"
  },
  "language_info": {
   "codemirror_mode": {
    "name": "ipython",
    "version": 3
   },
   "file_extension": ".py",
   "mimetype": "text/x-python",
   "name": "python",
   "nbconvert_exporter": "python",
   "pygments_lexer": "ipython3",
   "version": "3.6.2"
  }
 },
 "nbformat": 4,
 "nbformat_minor": 2
}
