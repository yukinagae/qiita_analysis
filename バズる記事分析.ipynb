{
 "cells": [
  {
   "cell_type": "markdown",
   "metadata": {},
   "source": [
    "# Qiita\n",
    "\n",
    "* 対象データ\n",
    "  * 期間: TODO\n",
    "  * 内容: 記事データ（item）※本文（body）は除く\n",
    "  * 取得方法: API経由 TODO\n",
    "  \n",
    "## バズる記事とは？\n",
    "\n",
    "バズる記事の定義\n",
    "\n",
    "* コメント数（comments_count）の多い記事\n",
    "  * かついいね数（likes_count）が多い: 良い意味でバズった or 良記事\n",
    "  * かついいね数（likes_count）が少ない: 悪い意味でバズった or 荒れた記事 or （自分のメモ代わりにしている人）\n",
    "  \n",
    "## 参考資料\n",
    "\n",
    "* Qiita: [お前らの記事のタイトルは間違っている〜爆速で誰でもできるQiitaでバズらせる6個の必殺技まとめ](https://qiita.com/SugarShootingStar/items/bba0fab1e55936e7234a)"
   ]
  },
  {
   "cell_type": "code",
   "execution_count": 79,
   "metadata": {},
   "outputs": [],
   "source": [
    "import numpy as np\n",
    "import pandas as pd\n",
    "\n",
    "from pandas_summary import DataFrameSummary\n",
    "\n",
    "import matplotlib.pyplot as plt\n",
    "%matplotlib inline\n",
    "\n",
    "import pymc3 as pm\n",
    "\n",
    "import collections\n",
    "import string"
   ]
  },
  {
   "cell_type": "code",
   "execution_count": 80,
   "metadata": {},
   "outputs": [],
   "source": [
    "df = pd.read_csv('input/summary.csv')"
   ]
  },
  {
   "cell_type": "markdown",
   "metadata": {},
   "source": [
    "データの形\n",
    "\n",
    "* カラム数: 10\n",
    "* レコード数: 87990"
   ]
  },
  {
   "cell_type": "code",
   "execution_count": 81,
   "metadata": {},
   "outputs": [
    {
     "name": "stdout",
     "output_type": "stream",
     "text": [
      "カラム数: 10\n",
      "レコード数: 87990\n"
     ]
    }
   ],
   "source": [
    "print(\"カラム数: {}\".format(df.shape[1]))\n",
    "print(\"レコード数: {}\".format(df.shape[0]))"
   ]
  },
  {
   "cell_type": "markdown",
   "metadata": {},
   "source": [
    "カラム一覧"
   ]
  },
  {
   "cell_type": "code",
   "execution_count": 82,
   "metadata": {},
   "outputs": [
    {
     "name": "stdout",
     "output_type": "stream",
     "text": [
      "title\n",
      "id\n",
      "created_at\n",
      "updated_at\n",
      "likes_count\n",
      "comments_count\n",
      "tags_str\n",
      "user_id\n",
      "user_permanent_id\n",
      "url\n"
     ]
    }
   ],
   "source": [
    "for c in df.columns:\n",
    "    print(c)"
   ]
  },
  {
   "cell_type": "code",
   "execution_count": 83,
   "metadata": {},
   "outputs": [
    {
     "data": {
      "text/html": [
       "<div>\n",
       "<style scoped>\n",
       "    .dataframe tbody tr th:only-of-type {\n",
       "        vertical-align: middle;\n",
       "    }\n",
       "\n",
       "    .dataframe tbody tr th {\n",
       "        vertical-align: top;\n",
       "    }\n",
       "\n",
       "    .dataframe thead th {\n",
       "        text-align: right;\n",
       "    }\n",
       "</style>\n",
       "<table border=\"1\" class=\"dataframe\">\n",
       "  <thead>\n",
       "    <tr style=\"text-align: right;\">\n",
       "      <th></th>\n",
       "      <th>0</th>\n",
       "      <th>1</th>\n",
       "      <th>2</th>\n",
       "    </tr>\n",
       "  </thead>\n",
       "  <tbody>\n",
       "    <tr>\n",
       "      <th>title</th>\n",
       "      <td>DynamoDB ローカルでチュートリアル</td>\n",
       "      <td>C++で初めてのゲーム開発する時に、気をつけて欲しいこと</td>\n",
       "      <td>LSTMの簡易まとめ</td>\n",
       "    </tr>\n",
       "    <tr>\n",
       "      <th>id</th>\n",
       "      <td>022f5c5b4e45f42727e9</td>\n",
       "      <td>1b7ab644e7de7709b073</td>\n",
       "      <td>636ec5e15df4e57f78a0</td>\n",
       "    </tr>\n",
       "    <tr>\n",
       "      <th>created_at</th>\n",
       "      <td>2017-12-31T08:54:37+09:00</td>\n",
       "      <td>2017-12-31T08:39:29+09:00</td>\n",
       "      <td>2017-12-31T08:32:55+09:00</td>\n",
       "    </tr>\n",
       "    <tr>\n",
       "      <th>updated_at</th>\n",
       "      <td>2017-12-31T08:54:37+09:00</td>\n",
       "      <td>2017-12-31T14:21:16+09:00</td>\n",
       "      <td>2018-01-04T11:16:21+09:00</td>\n",
       "    </tr>\n",
       "    <tr>\n",
       "      <th>likes_count</th>\n",
       "      <td>1</td>\n",
       "      <td>35</td>\n",
       "      <td>2</td>\n",
       "    </tr>\n",
       "    <tr>\n",
       "      <th>comments_count</th>\n",
       "      <td>0</td>\n",
       "      <td>0</td>\n",
       "      <td>0</td>\n",
       "    </tr>\n",
       "    <tr>\n",
       "      <th>tags_str</th>\n",
       "      <td>AWS,チュートリアル,DynamoDB</td>\n",
       "      <td>C++</td>\n",
       "      <td>機械学習,深層学習,LSTM,TensorFlow</td>\n",
       "    </tr>\n",
       "    <tr>\n",
       "      <th>user_id</th>\n",
       "      <td>h2m_kinoko</td>\n",
       "      <td>4_mio_11</td>\n",
       "      <td>matsui-k20xx</td>\n",
       "    </tr>\n",
       "    <tr>\n",
       "      <th>user_permanent_id</th>\n",
       "      <td>119864</td>\n",
       "      <td>36899</td>\n",
       "      <td>214997</td>\n",
       "    </tr>\n",
       "    <tr>\n",
       "      <th>url</th>\n",
       "      <td>https://qiita.com/h2m_kinoko/items/022f5c5b4e4...</td>\n",
       "      <td>https://qiita.com/4_mio_11/items/1b7ab644e7de7...</td>\n",
       "      <td>https://qiita.com/matsui-k20xx/items/636ec5e15...</td>\n",
       "    </tr>\n",
       "  </tbody>\n",
       "</table>\n",
       "</div>"
      ],
      "text/plain": [
       "                                                                   0  \\\n",
       "title                                          DynamoDB ローカルでチュートリアル   \n",
       "id                                              022f5c5b4e45f42727e9   \n",
       "created_at                                 2017-12-31T08:54:37+09:00   \n",
       "updated_at                                 2017-12-31T08:54:37+09:00   \n",
       "likes_count                                                        1   \n",
       "comments_count                                                     0   \n",
       "tags_str                                        AWS,チュートリアル,DynamoDB   \n",
       "user_id                                                   h2m_kinoko   \n",
       "user_permanent_id                                             119864   \n",
       "url                https://qiita.com/h2m_kinoko/items/022f5c5b4e4...   \n",
       "\n",
       "                                                                   1  \\\n",
       "title                                   C++で初めてのゲーム開発する時に、気をつけて欲しいこと   \n",
       "id                                              1b7ab644e7de7709b073   \n",
       "created_at                                 2017-12-31T08:39:29+09:00   \n",
       "updated_at                                 2017-12-31T14:21:16+09:00   \n",
       "likes_count                                                       35   \n",
       "comments_count                                                     0   \n",
       "tags_str                                                         C++   \n",
       "user_id                                                     4_mio_11   \n",
       "user_permanent_id                                              36899   \n",
       "url                https://qiita.com/4_mio_11/items/1b7ab644e7de7...   \n",
       "\n",
       "                                                                   2  \n",
       "title                                                     LSTMの簡易まとめ  \n",
       "id                                              636ec5e15df4e57f78a0  \n",
       "created_at                                 2017-12-31T08:32:55+09:00  \n",
       "updated_at                                 2018-01-04T11:16:21+09:00  \n",
       "likes_count                                                        2  \n",
       "comments_count                                                     0  \n",
       "tags_str                                   機械学習,深層学習,LSTM,TensorFlow  \n",
       "user_id                                                 matsui-k20xx  \n",
       "user_permanent_id                                             214997  \n",
       "url                https://qiita.com/matsui-k20xx/items/636ec5e15...  "
      ]
     },
     "execution_count": 83,
     "metadata": {},
     "output_type": "execute_result"
    }
   ],
   "source": [
    "df.head(3).T"
   ]
  },
  {
   "cell_type": "markdown",
   "metadata": {},
   "source": [
    "# EDA"
   ]
  },
  {
   "cell_type": "markdown",
   "metadata": {},
   "source": [
    "要約統計量"
   ]
  },
  {
   "cell_type": "code",
   "execution_count": 84,
   "metadata": {},
   "outputs": [
    {
     "data": {
      "text/html": [
       "<div>\n",
       "<style scoped>\n",
       "    .dataframe tbody tr th:only-of-type {\n",
       "        vertical-align: middle;\n",
       "    }\n",
       "\n",
       "    .dataframe tbody tr th {\n",
       "        vertical-align: top;\n",
       "    }\n",
       "\n",
       "    .dataframe thead th {\n",
       "        text-align: right;\n",
       "    }\n",
       "</style>\n",
       "<table border=\"1\" class=\"dataframe\">\n",
       "  <thead>\n",
       "    <tr style=\"text-align: right;\">\n",
       "      <th></th>\n",
       "      <th>title</th>\n",
       "      <th>id</th>\n",
       "      <th>created_at</th>\n",
       "      <th>updated_at</th>\n",
       "      <th>likes_count</th>\n",
       "      <th>comments_count</th>\n",
       "      <th>tags_str</th>\n",
       "      <th>user_id</th>\n",
       "      <th>user_permanent_id</th>\n",
       "      <th>url</th>\n",
       "    </tr>\n",
       "  </thead>\n",
       "  <tbody>\n",
       "    <tr>\n",
       "      <th>count</th>\n",
       "      <td>NaN</td>\n",
       "      <td>NaN</td>\n",
       "      <td>NaN</td>\n",
       "      <td>NaN</td>\n",
       "      <td>87990</td>\n",
       "      <td>87990</td>\n",
       "      <td>NaN</td>\n",
       "      <td>NaN</td>\n",
       "      <td>87990</td>\n",
       "      <td>NaN</td>\n",
       "    </tr>\n",
       "    <tr>\n",
       "      <th>mean</th>\n",
       "      <td>NaN</td>\n",
       "      <td>NaN</td>\n",
       "      <td>NaN</td>\n",
       "      <td>NaN</td>\n",
       "      <td>8.14695</td>\n",
       "      <td>0.319536</td>\n",
       "      <td>NaN</td>\n",
       "      <td>NaN</td>\n",
       "      <td>147979</td>\n",
       "      <td>NaN</td>\n",
       "    </tr>\n",
       "    <tr>\n",
       "      <th>std</th>\n",
       "      <td>NaN</td>\n",
       "      <td>NaN</td>\n",
       "      <td>NaN</td>\n",
       "      <td>NaN</td>\n",
       "      <td>58.1444</td>\n",
       "      <td>1.69247</td>\n",
       "      <td>NaN</td>\n",
       "      <td>NaN</td>\n",
       "      <td>88418.7</td>\n",
       "      <td>NaN</td>\n",
       "    </tr>\n",
       "    <tr>\n",
       "      <th>min</th>\n",
       "      <td>NaN</td>\n",
       "      <td>NaN</td>\n",
       "      <td>NaN</td>\n",
       "      <td>NaN</td>\n",
       "      <td>0</td>\n",
       "      <td>0</td>\n",
       "      <td>NaN</td>\n",
       "      <td>NaN</td>\n",
       "      <td>29</td>\n",
       "      <td>NaN</td>\n",
       "    </tr>\n",
       "    <tr>\n",
       "      <th>25%</th>\n",
       "      <td>NaN</td>\n",
       "      <td>NaN</td>\n",
       "      <td>NaN</td>\n",
       "      <td>NaN</td>\n",
       "      <td>0</td>\n",
       "      <td>0</td>\n",
       "      <td>NaN</td>\n",
       "      <td>NaN</td>\n",
       "      <td>65978</td>\n",
       "      <td>NaN</td>\n",
       "    </tr>\n",
       "    <tr>\n",
       "      <th>50%</th>\n",
       "      <td>NaN</td>\n",
       "      <td>NaN</td>\n",
       "      <td>NaN</td>\n",
       "      <td>NaN</td>\n",
       "      <td>1</td>\n",
       "      <td>0</td>\n",
       "      <td>NaN</td>\n",
       "      <td>NaN</td>\n",
       "      <td>148882</td>\n",
       "      <td>NaN</td>\n",
       "    </tr>\n",
       "    <tr>\n",
       "      <th>75%</th>\n",
       "      <td>NaN</td>\n",
       "      <td>NaN</td>\n",
       "      <td>NaN</td>\n",
       "      <td>NaN</td>\n",
       "      <td>4</td>\n",
       "      <td>0</td>\n",
       "      <td>NaN</td>\n",
       "      <td>NaN</td>\n",
       "      <td>227518</td>\n",
       "      <td>NaN</td>\n",
       "    </tr>\n",
       "    <tr>\n",
       "      <th>max</th>\n",
       "      <td>NaN</td>\n",
       "      <td>NaN</td>\n",
       "      <td>NaN</td>\n",
       "      <td>NaN</td>\n",
       "      <td>3583</td>\n",
       "      <td>104</td>\n",
       "      <td>NaN</td>\n",
       "      <td>NaN</td>\n",
       "      <td>322336</td>\n",
       "      <td>NaN</td>\n",
       "    </tr>\n",
       "    <tr>\n",
       "      <th>counts</th>\n",
       "      <td>87990</td>\n",
       "      <td>87990</td>\n",
       "      <td>87990</td>\n",
       "      <td>87990</td>\n",
       "      <td>87990</td>\n",
       "      <td>87990</td>\n",
       "      <td>87990</td>\n",
       "      <td>87990</td>\n",
       "      <td>87990</td>\n",
       "      <td>87990</td>\n",
       "    </tr>\n",
       "    <tr>\n",
       "      <th>uniques</th>\n",
       "      <td>87815</td>\n",
       "      <td>87990</td>\n",
       "      <td>87815</td>\n",
       "      <td>87825</td>\n",
       "      <td>603</td>\n",
       "      <td>54</td>\n",
       "      <td>54919</td>\n",
       "      <td>21091</td>\n",
       "      <td>21091</td>\n",
       "      <td>87990</td>\n",
       "    </tr>\n",
       "    <tr>\n",
       "      <th>missing</th>\n",
       "      <td>0</td>\n",
       "      <td>0</td>\n",
       "      <td>0</td>\n",
       "      <td>0</td>\n",
       "      <td>0</td>\n",
       "      <td>0</td>\n",
       "      <td>0</td>\n",
       "      <td>0</td>\n",
       "      <td>0</td>\n",
       "      <td>0</td>\n",
       "    </tr>\n",
       "    <tr>\n",
       "      <th>missing_perc</th>\n",
       "      <td>0%</td>\n",
       "      <td>0%</td>\n",
       "      <td>0%</td>\n",
       "      <td>0%</td>\n",
       "      <td>0%</td>\n",
       "      <td>0%</td>\n",
       "      <td>0%</td>\n",
       "      <td>0%</td>\n",
       "      <td>0%</td>\n",
       "      <td>0%</td>\n",
       "    </tr>\n",
       "    <tr>\n",
       "      <th>types</th>\n",
       "      <td>categorical</td>\n",
       "      <td>unique</td>\n",
       "      <td>categorical</td>\n",
       "      <td>categorical</td>\n",
       "      <td>numeric</td>\n",
       "      <td>numeric</td>\n",
       "      <td>categorical</td>\n",
       "      <td>categorical</td>\n",
       "      <td>numeric</td>\n",
       "      <td>unique</td>\n",
       "    </tr>\n",
       "  </tbody>\n",
       "</table>\n",
       "</div>"
      ],
      "text/plain": [
       "                    title      id   created_at   updated_at likes_count  \\\n",
       "count                 NaN     NaN          NaN          NaN       87990   \n",
       "mean                  NaN     NaN          NaN          NaN     8.14695   \n",
       "std                   NaN     NaN          NaN          NaN     58.1444   \n",
       "min                   NaN     NaN          NaN          NaN           0   \n",
       "25%                   NaN     NaN          NaN          NaN           0   \n",
       "50%                   NaN     NaN          NaN          NaN           1   \n",
       "75%                   NaN     NaN          NaN          NaN           4   \n",
       "max                   NaN     NaN          NaN          NaN        3583   \n",
       "counts              87990   87990        87990        87990       87990   \n",
       "uniques             87815   87990        87815        87825         603   \n",
       "missing                 0       0            0            0           0   \n",
       "missing_perc           0%      0%           0%           0%          0%   \n",
       "types         categorical  unique  categorical  categorical     numeric   \n",
       "\n",
       "             comments_count     tags_str      user_id user_permanent_id  \\\n",
       "count                 87990          NaN          NaN             87990   \n",
       "mean               0.319536          NaN          NaN            147979   \n",
       "std                 1.69247          NaN          NaN           88418.7   \n",
       "min                       0          NaN          NaN                29   \n",
       "25%                       0          NaN          NaN             65978   \n",
       "50%                       0          NaN          NaN            148882   \n",
       "75%                       0          NaN          NaN            227518   \n",
       "max                     104          NaN          NaN            322336   \n",
       "counts                87990        87990        87990             87990   \n",
       "uniques                  54        54919        21091             21091   \n",
       "missing                   0            0            0                 0   \n",
       "missing_perc             0%           0%           0%                0%   \n",
       "types               numeric  categorical  categorical           numeric   \n",
       "\n",
       "                 url  \n",
       "count            NaN  \n",
       "mean             NaN  \n",
       "std              NaN  \n",
       "min              NaN  \n",
       "25%              NaN  \n",
       "50%              NaN  \n",
       "75%              NaN  \n",
       "max              NaN  \n",
       "counts         87990  \n",
       "uniques        87990  \n",
       "missing            0  \n",
       "missing_perc      0%  \n",
       "types         unique  "
      ]
     },
     "execution_count": 84,
     "metadata": {},
     "output_type": "execute_result"
    }
   ],
   "source": [
    "DataFrameSummary(df).summary()"
   ]
  },
  {
   "cell_type": "markdown",
   "metadata": {},
   "source": [
    "## コメント数といいね数"
   ]
  },
  {
   "cell_type": "markdown",
   "metadata": {},
   "source": [
    "コメント数の分布"
   ]
  },
  {
   "cell_type": "code",
   "execution_count": 85,
   "metadata": {},
   "outputs": [
    {
     "data": {
      "text/plain": [
       "(array([8.7699e+04, 2.1300e+02, 3.7000e+01, 2.3000e+01, 7.0000e+00,\n",
       "        6.0000e+00, 0.0000e+00, 0.0000e+00, 2.0000e+00, 3.0000e+00]),\n",
       " array([  0. ,  10.4,  20.8,  31.2,  41.6,  52. ,  62.4,  72.8,  83.2,\n",
       "         93.6, 104. ]),\n",
       " <a list of 10 Patch objects>)"
      ]
     },
     "execution_count": 85,
     "metadata": {},
     "output_type": "execute_result"
    },
    {
     "data": {
      "image/png": "[encoded data removed]",
      "text/plain": [
       "<Figure size 864x576 with 1 Axes>"
      ]
     },
     "metadata": {
      "needs_background": "light"
     },
     "output_type": "display_data"
    }
   ],
   "source": [
    "plt.figure(figsize=(12, 8))\n",
    "plt.hist(df['comments_count'])"
   ]
  },
  {
   "cell_type": "markdown",
   "metadata": {},
   "source": [
    "コメントが0の割合\n",
    "\n",
    "* コメント0の記事は全体の約89%"
   ]
  },
  {
   "cell_type": "code",
   "execution_count": 86,
   "metadata": {},
   "outputs": [
    {
     "name": "stdout",
     "output_type": "stream",
     "text": [
      "89.24%\n"
     ]
    }
   ],
   "source": [
    "print(\"{:.2f}%\".format(len(df[df['comments_count']==0]) / len(df) * 100))"
   ]
  },
  {
   "cell_type": "markdown",
   "metadata": {},
   "source": [
    "コメント数の分布がエグいの対数変換してみる\n",
    "\n",
    "* 対数変換してもかなり偏った分布になる"
   ]
  },
  {
   "cell_type": "code",
   "execution_count": 87,
   "metadata": {},
   "outputs": [
    {
     "data": {
      "text/plain": [
       "(array([7.8521e+04, 3.0370e+03, 4.4260e+03, 1.0770e+03, 5.6800e+02,\n",
       "        2.1300e+02, 8.8000e+01, 4.0000e+01, 1.5000e+01, 5.0000e+00]),\n",
       " array([0.        , 0.46539604, 0.93079207, 1.39618811, 1.86158414,\n",
       "        2.32698018, 2.79237621, 3.25777225, 3.72316828, 4.18856432,\n",
       "        4.65396035]),\n",
       " <a list of 10 Patch objects>)"
      ]
     },
     "execution_count": 87,
     "metadata": {},
     "output_type": "execute_result"
    },
    {
     "data": {
      "image/png": "[encoded data removed]",
      "text/plain": [
       "<Figure size 864x576 with 1 Axes>"
      ]
     },
     "metadata": {
      "needs_background": "light"
     },
     "output_type": "display_data"
    }
   ],
   "source": [
    "plt.figure(figsize=(12, 8))\n",
    "plt.hist(np.log(df['comments_count'].values+1))"
   ]
  },
  {
   "cell_type": "markdown",
   "metadata": {},
   "source": [
    "いいね数の分布"
   ]
  },
  {
   "cell_type": "code",
   "execution_count": 88,
   "metadata": {},
   "outputs": [
    {
     "data": {
      "text/plain": [
       "(array([8.7635e+04, 2.2500e+02, 6.4000e+01, 3.8000e+01, 1.6000e+01,\n",
       "        6.0000e+00, 4.0000e+00, 1.0000e+00, 0.0000e+00, 1.0000e+00]),\n",
       " array([   0. ,  358.3,  716.6, 1074.9, 1433.2, 1791.5, 2149.8, 2508.1,\n",
       "        2866.4, 3224.7, 3583. ]),\n",
       " <a list of 10 Patch objects>)"
      ]
     },
     "execution_count": 88,
     "metadata": {},
     "output_type": "execute_result"
    },
    {
     "data": {
      "image/png": "[encoded data removed]",
      "text/plain": [
       "<Figure size 864x576 with 1 Axes>"
      ]
     },
     "metadata": {
      "needs_background": "light"
     },
     "output_type": "display_data"
    }
   ],
   "source": [
    "plt.figure(figsize=(12, 8))\n",
    "plt.hist(df['likes_count'])"
   ]
  },
  {
   "cell_type": "markdown",
   "metadata": {},
   "source": [
    "いいねが0の割合\n",
    "\n",
    "* いいね0の記事は全体の約32%"
   ]
  },
  {
   "cell_type": "code",
   "execution_count": 89,
   "metadata": {},
   "outputs": [
    {
     "name": "stdout",
     "output_type": "stream",
     "text": [
      "31.65%\n"
     ]
    }
   ],
   "source": [
    "print(\"{:.2f}%\".format(len(df[df['likes_count']==0]) / len(df) * 100))"
   ]
  },
  {
   "cell_type": "markdown",
   "metadata": {},
   "source": [
    "いいね数の分布もエグいの対数変換してみる\n",
    "\n",
    "* 対数変換するとコメント数の対数分布よりはましになる"
   ]
  },
  {
   "cell_type": "code",
   "execution_count": 90,
   "metadata": {},
   "outputs": [
    {
     "data": {
      "text/plain": [
       "(array([4.6195e+04, 2.2701e+04, 1.1175e+04, 4.9110e+03, 1.5020e+03,\n",
       "        6.8100e+02, 4.0800e+02, 2.8200e+02, 1.1500e+02, 2.0000e+01]),\n",
       " array([0.        , 0.81842348, 1.63684695, 2.45527043, 3.27369391,\n",
       "        4.09211739, 4.91054086, 5.72896434, 6.54738782, 7.3658113 ,\n",
       "        8.18423477]),\n",
       " <a list of 10 Patch objects>)"
      ]
     },
     "execution_count": 90,
     "metadata": {},
     "output_type": "execute_result"
    },
    {
     "data": {
      "image/png": "[encoded data removed]",
      "text/plain": [
       "<Figure size 864x576 with 1 Axes>"
      ]
     },
     "metadata": {
      "needs_background": "light"
     },
     "output_type": "display_data"
    }
   ],
   "source": [
    "plt.figure(figsize=(12, 8))\n",
    "plt.hist(np.log(df['likes_count'].values+1))"
   ]
  },
  {
   "cell_type": "markdown",
   "metadata": {},
   "source": [
    "## コメント数の詳細"
   ]
  },
  {
   "cell_type": "markdown",
   "metadata": {},
   "source": [
    "コメントありの記事だけ抽出"
   ]
  },
  {
   "cell_type": "code",
   "execution_count": 91,
   "metadata": {},
   "outputs": [
    {
     "name": "stdout",
     "output_type": "stream",
     "text": [
      "count: 9469\n"
     ]
    }
   ],
   "source": [
    "df_with_comments = df[df['comments_count']>0]\n",
    "print(\"count: {}\".format(len(df_with_comments)))"
   ]
  },
  {
   "cell_type": "markdown",
   "metadata": {},
   "source": [
    "コメント数が多い記事のTop20\n",
    "\n",
    "* コメント数が多いといっていいね数が多いわけではない（コメント数は多いがいいね数が少ない記事が割とある）\n",
    "  * メモ代わりに自分でコメントしている\n",
    "  * 一部の人が会話している（多くの人が興味を持つ話題ではない）\n",
    "  * 記事内のコードに不具合がありコメントでやり取りして長引いている（GitHubのissue使った方がいいと思う）"
   ]
  },
  {
   "cell_type": "code",
   "execution_count": 92,
   "metadata": {},
   "outputs": [
    {
     "data": {
      "text/html": [
       "<div>\n",
       "<style scoped>\n",
       "    .dataframe tbody tr th:only-of-type {\n",
       "        vertical-align: middle;\n",
       "    }\n",
       "\n",
       "    .dataframe tbody tr th {\n",
       "        vertical-align: top;\n",
       "    }\n",
       "\n",
       "    .dataframe thead th {\n",
       "        text-align: right;\n",
       "    }\n",
       "</style>\n",
       "<table border=\"1\" class=\"dataframe\">\n",
       "  <thead>\n",
       "    <tr style=\"text-align: right;\">\n",
       "      <th></th>\n",
       "      <th>title</th>\n",
       "      <th>tags_str</th>\n",
       "      <th>comments_count</th>\n",
       "      <th>likes_count</th>\n",
       "      <th>url</th>\n",
       "    </tr>\n",
       "  </thead>\n",
       "  <tbody>\n",
       "    <tr>\n",
       "      <th>71463</th>\n",
       "      <td>「ゴミ記事が多すぎる問題」に対する私見</td>\n",
       "      <td>ポエム,アウトプット</td>\n",
       "      <td>104</td>\n",
       "      <td>852</td>\n",
       "      <td>https://qiita.com/akira_/items/c8881dcde93d4cb...</td>\n",
       "    </tr>\n",
       "    <tr>\n",
       "      <th>68243</th>\n",
       "      <td>オブジェクト指向が5000%理解できる記事</td>\n",
       "      <td>オブジェクト指向</td>\n",
       "      <td>102</td>\n",
       "      <td>1463</td>\n",
       "      <td>https://qiita.com/it-hero/items/b2f8e39d7cc23a...</td>\n",
       "    </tr>\n",
       "    <tr>\n",
       "      <th>80049</th>\n",
       "      <td>全ての開発者がQiitaへのアウトプットをやめるべき理由</td>\n",
       "      <td>Qiita,ポエム,キャリア,エンジニア,アウトプット</td>\n",
       "      <td>100</td>\n",
       "      <td>320</td>\n",
       "      <td>https://qiita.com/qiitadaisuki/items/2160a390c...</td>\n",
       "    </tr>\n",
       "    <tr>\n",
       "      <th>34628</th>\n",
       "      <td>Windows への OpenPose導入手順【7/7追記】</td>\n",
       "      <td>Windows,OpenPose</td>\n",
       "      <td>90</td>\n",
       "      <td>30</td>\n",
       "      <td>https://qiita.com/miu200521358/items/539aaa63f...</td>\n",
       "    </tr>\n",
       "    <tr>\n",
       "      <th>5663</th>\n",
       "      <td>JavaScriptにSchemeを実装する</td>\n",
       "      <td>JavaScript,Scheme,lisp,言語作成</td>\n",
       "      <td>89</td>\n",
       "      <td>16</td>\n",
       "      <td>https://qiita.com/tutinoco/items/f22f4005703e0...</td>\n",
       "    </tr>\n",
       "    <tr>\n",
       "      <th>30368</th>\n",
       "      <td>Java初心者時代にコードレビューで指摘された悪しき習慣</td>\n",
       "      <td>Java,悪い見本,コードレビュー,新人プログラマ応援</td>\n",
       "      <td>62</td>\n",
       "      <td>964</td>\n",
       "      <td>https://qiita.com/gengogo5/items/5b038cf0b4034...</td>\n",
       "    </tr>\n",
       "    <tr>\n",
       "      <th>20415</th>\n",
       "      <td>Laravelの開発環境を仮想マシン上に構築してVueのサンプルを動かしてみる</td>\n",
       "      <td>npm,SPA,vue,vue-router,laravel5.5</td>\n",
       "      <td>61</td>\n",
       "      <td>1</td>\n",
       "      <td>https://qiita.com/kenyuasa/items/b7be72823b353...</td>\n",
       "    </tr>\n",
       "    <tr>\n",
       "      <th>79197</th>\n",
       "      <td>報酬がQiitaを阻害する「アンダーマイニング効果」（人間とは、かくもヘンテコな生きものなり）</td>\n",
       "      <td>Qiita,UX,ポエム,心理学,エンジニア</td>\n",
       "      <td>60</td>\n",
       "      <td>809</td>\n",
       "      <td>https://qiita.com/youwht/items/1c7ae618c8b2498...</td>\n",
       "    </tr>\n",
       "    <tr>\n",
       "      <th>42197</th>\n",
       "      <td>glibc newlib より速いクイックソート(qs9 qs10)、 世界最速をめざして</td>\n",
       "      <td>sort,アルゴリズム,ソート,クイックソート,qsort</td>\n",
       "      <td>56</td>\n",
       "      <td>1</td>\n",
       "      <td>https://qiita.com/t-kawa/items/99408891b18bd1f...</td>\n",
       "    </tr>\n",
       "    <tr>\n",
       "      <th>78400</th>\n",
       "      <td>侍エンジニア塾のC言語のサンプルがヤバすぎる。</td>\n",
       "      <td>C</td>\n",
       "      <td>54</td>\n",
       "      <td>724</td>\n",
       "      <td>https://qiita.com/hamichamp/items/7b7a7ee091a6...</td>\n",
       "    </tr>\n",
       "    <tr>\n",
       "      <th>74134</th>\n",
       "      <td>東京五輪ボランティア応募サイトを検証したら予想以上にヤバかった（語彙力）</td>\n",
       "      <td>HTML,CSS,reactjs</td>\n",
       "      <td>54</td>\n",
       "      <td>319</td>\n",
       "      <td>https://qiita.com/yoshi1125hisa/items/3f60b801...</td>\n",
       "    </tr>\n",
       "    <tr>\n",
       "      <th>55692</th>\n",
       "      <td>「世界最悪のログイン処理コード」を解説してみた</td>\n",
       "      <td>JavaScript,SQL,セキュリティ,脆弱性</td>\n",
       "      <td>51</td>\n",
       "      <td>1578</td>\n",
       "      <td>https://qiita.com/YSRKEN/items/0095cf75be3f607...</td>\n",
       "    </tr>\n",
       "    <tr>\n",
       "      <th>1054</th>\n",
       "      <td>イマドキのJavaScriptの書き方2018</td>\n",
       "      <td>JavaScript</td>\n",
       "      <td>45</td>\n",
       "      <td>3583</td>\n",
       "      <td>https://qiita.com/shibukawa/items/19ab5c381bbb...</td>\n",
       "    </tr>\n",
       "    <tr>\n",
       "      <th>80437</th>\n",
       "      <td>最近のQiitaの記事の質が下がってきている事への考察</td>\n",
       "      <td>Qiita,ポエム,意見記事</td>\n",
       "      <td>45</td>\n",
       "      <td>169</td>\n",
       "      <td>https://qiita.com/wannabe/items/294b34334a94e8...</td>\n",
       "    </tr>\n",
       "    <tr>\n",
       "      <th>34627</th>\n",
       "      <td>Windows への 3d-pose-baseline-vmd の導入手順</td>\n",
       "      <td>Python,Windows,3d-pose-baseline</td>\n",
       "      <td>45</td>\n",
       "      <td>15</td>\n",
       "      <td>https://qiita.com/miu200521358/items/d00c3b6d1...</td>\n",
       "    </tr>\n",
       "    <tr>\n",
       "      <th>73204</th>\n",
       "      <td>エンジニアは全員技術記事を書くことを習慣化した方がいいぞ</td>\n",
       "      <td>Qiita,翻訳,アウトプット,新人プログラマ応援</td>\n",
       "      <td>44</td>\n",
       "      <td>2090</td>\n",
       "      <td>https://qiita.com/HiromuMasuda0228/items/a71de...</td>\n",
       "    </tr>\n",
       "    <tr>\n",
       "      <th>86410</th>\n",
       "      <td>O/Rマッピングは百害あって一利なし！</td>\n",
       "      <td>SQL,ポエム,Webアプリケーション,ORM,フレームワーク</td>\n",
       "      <td>44</td>\n",
       "      <td>165</td>\n",
       "      <td>https://qiita.com/gomiryo/items/6d448c500749f9...</td>\n",
       "    </tr>\n",
       "    <tr>\n",
       "      <th>77441</th>\n",
       "      <td>バカにC言語は難しい~プログラミングの機会損失~</td>\n",
       "      <td>Python,プログラミング,初心者,C言語,初心者向け</td>\n",
       "      <td>42</td>\n",
       "      <td>355</td>\n",
       "      <td>https://qiita.com/Tommy_/items/bedc86bfcf7926d...</td>\n",
       "    </tr>\n",
       "    <tr>\n",
       "      <th>76925</th>\n",
       "      <td>お前らはまだ、侍エンジニア塾の凄さを知らない</td>\n",
       "      <td>HTML,SEO,侍エンジニア塾</td>\n",
       "      <td>41</td>\n",
       "      <td>1038</td>\n",
       "      <td>https://qiita.com/mu_tomoya/items/b764b6552911...</td>\n",
       "    </tr>\n",
       "    <tr>\n",
       "      <th>48178</th>\n",
       "      <td>pythonでデータの中身を意識しないということ</td>\n",
       "      <td>Python,C,C++</td>\n",
       "      <td>41</td>\n",
       "      <td>1</td>\n",
       "      <td>https://qiita.com/kooka2525/items/87c4b22c3f1f...</td>\n",
       "    </tr>\n",
       "  </tbody>\n",
       "</table>\n",
       "</div>"
      ],
      "text/plain": [
       "                                                 title  \\\n",
       "71463                              「ゴミ記事が多すぎる問題」に対する私見   \n",
       "68243                            オブジェクト指向が5000%理解できる記事   \n",
       "80049                     全ての開発者がQiitaへのアウトプットをやめるべき理由   \n",
       "34628                   Windows への OpenPose導入手順【7/7追記】   \n",
       "5663                            JavaScriptにSchemeを実装する   \n",
       "30368                     Java初心者時代にコードレビューで指摘された悪しき習慣   \n",
       "20415          Laravelの開発環境を仮想マシン上に構築してVueのサンプルを動かしてみる   \n",
       "79197  報酬がQiitaを阻害する「アンダーマイニング効果」（人間とは、かくもヘンテコな生きものなり）   \n",
       "42197    glibc newlib より速いクイックソート(qs9 qs10)、 世界最速をめざして   \n",
       "78400                          侍エンジニア塾のC言語のサンプルがヤバすぎる。   \n",
       "74134             東京五輪ボランティア応募サイトを検証したら予想以上にヤバかった（語彙力）   \n",
       "55692                          「世界最悪のログイン処理コード」を解説してみた   \n",
       "1054                           イマドキのJavaScriptの書き方2018   \n",
       "80437                      最近のQiitaの記事の質が下がってきている事への考察   \n",
       "34627            Windows への 3d-pose-baseline-vmd の導入手順   \n",
       "73204                     エンジニアは全員技術記事を書くことを習慣化した方がいいぞ   \n",
       "86410                              O/Rマッピングは百害あって一利なし！   \n",
       "77441                         バカにC言語は難しい~プログラミングの機会損失~   \n",
       "76925                           お前らはまだ、侍エンジニア塾の凄さを知らない   \n",
       "48178                         pythonでデータの中身を意識しないということ   \n",
       "\n",
       "                                tags_str  comments_count  likes_count  \\\n",
       "71463                         ポエム,アウトプット             104          852   \n",
       "68243                           オブジェクト指向             102         1463   \n",
       "80049        Qiita,ポエム,キャリア,エンジニア,アウトプット             100          320   \n",
       "34628                   Windows,OpenPose              90           30   \n",
       "5663         JavaScript,Scheme,lisp,言語作成              89           16   \n",
       "30368        Java,悪い見本,コードレビュー,新人プログラマ応援              62          964   \n",
       "20415  npm,SPA,vue,vue-router,laravel5.5              61            1   \n",
       "79197             Qiita,UX,ポエム,心理学,エンジニア              60          809   \n",
       "42197      sort,アルゴリズム,ソート,クイックソート,qsort              56            1   \n",
       "78400                                  C              54          724   \n",
       "74134                   HTML,CSS,reactjs              54          319   \n",
       "55692          JavaScript,SQL,セキュリティ,脆弱性              51         1578   \n",
       "1054                          JavaScript              45         3583   \n",
       "80437                     Qiita,ポエム,意見記事              45          169   \n",
       "34627    Python,Windows,3d-pose-baseline              45           15   \n",
       "73204          Qiita,翻訳,アウトプット,新人プログラマ応援              44         2090   \n",
       "86410    SQL,ポエム,Webアプリケーション,ORM,フレームワーク              44          165   \n",
       "77441       Python,プログラミング,初心者,C言語,初心者向け              42          355   \n",
       "76925                   HTML,SEO,侍エンジニア塾              41         1038   \n",
       "48178                       Python,C,C++              41            1   \n",
       "\n",
       "                                                     url  \n",
       "71463  https://qiita.com/akira_/items/c8881dcde93d4cb...  \n",
       "68243  https://qiita.com/it-hero/items/b2f8e39d7cc23a...  \n",
       "80049  https://qiita.com/qiitadaisuki/items/2160a390c...  \n",
       "34628  https://qiita.com/miu200521358/items/539aaa63f...  \n",
       "5663   https://qiita.com/tutinoco/items/f22f4005703e0...  \n",
       "30368  https://qiita.com/gengogo5/items/5b038cf0b4034...  \n",
       "20415  https://qiita.com/kenyuasa/items/b7be72823b353...  \n",
       "79197  https://qiita.com/youwht/items/1c7ae618c8b2498...  \n",
       "42197  https://qiita.com/t-kawa/items/99408891b18bd1f...  \n",
       "78400  https://qiita.com/hamichamp/items/7b7a7ee091a6...  \n",
       "74134  https://qiita.com/yoshi1125hisa/items/3f60b801...  \n",
       "55692  https://qiita.com/YSRKEN/items/0095cf75be3f607...  \n",
       "1054   https://qiita.com/shibukawa/items/19ab5c381bbb...  \n",
       "80437  https://qiita.com/wannabe/items/294b34334a94e8...  \n",
       "34627  https://qiita.com/miu200521358/items/d00c3b6d1...  \n",
       "73204  https://qiita.com/HiromuMasuda0228/items/a71de...  \n",
       "86410  https://qiita.com/gomiryo/items/6d448c500749f9...  \n",
       "77441  https://qiita.com/Tommy_/items/bedc86bfcf7926d...  \n",
       "76925  https://qiita.com/mu_tomoya/items/b764b6552911...  \n",
       "48178  https://qiita.com/kooka2525/items/87c4b22c3f1f...  "
      ]
     },
     "execution_count": 92,
     "metadata": {},
     "output_type": "execute_result"
    }
   ],
   "source": [
    "df_with_comments.sort_values(by='comments_count', ascending=False)[[\n",
    "    \"title\",\n",
    "    \"tags_str\",\n",
    "    \"comments_count\",\n",
    "    \"likes_count\",\n",
    "    \"url\"\n",
    "]].head(20)"
   ]
  },
  {
   "cell_type": "markdown",
   "metadata": {},
   "source": [
    "## いいね数の詳細"
   ]
  },
  {
   "cell_type": "code",
   "execution_count": 93,
   "metadata": {},
   "outputs": [
    {
     "name": "stdout",
     "output_type": "stream",
     "text": [
      "count: 60137\n"
     ]
    }
   ],
   "source": [
    "df_with_likes = df[df['likes_count']>0]\n",
    "print(\"count: {}\".format(len(df_with_likes)))"
   ]
  },
  {
   "cell_type": "markdown",
   "metadata": {},
   "source": [
    "いいね数が多い記事のTop20\n",
    "\n",
    "* いいね数が多い記事は平均してコメントも多い傾向にある"
   ]
  },
  {
   "cell_type": "code",
   "execution_count": 94,
   "metadata": {},
   "outputs": [
    {
     "data": {
      "text/html": [
       "<div>\n",
       "<style scoped>\n",
       "    .dataframe tbody tr th:only-of-type {\n",
       "        vertical-align: middle;\n",
       "    }\n",
       "\n",
       "    .dataframe tbody tr th {\n",
       "        vertical-align: top;\n",
       "    }\n",
       "\n",
       "    .dataframe thead th {\n",
       "        text-align: right;\n",
       "    }\n",
       "</style>\n",
       "<table border=\"1\" class=\"dataframe\">\n",
       "  <thead>\n",
       "    <tr style=\"text-align: right;\">\n",
       "      <th></th>\n",
       "      <th>title</th>\n",
       "      <th>tags_str</th>\n",
       "      <th>comments_count</th>\n",
       "      <th>likes_count</th>\n",
       "      <th>url</th>\n",
       "    </tr>\n",
       "  </thead>\n",
       "  <tbody>\n",
       "    <tr>\n",
       "      <th>1054</th>\n",
       "      <td>イマドキのJavaScriptの書き方2018</td>\n",
       "      <td>JavaScript</td>\n",
       "      <td>45</td>\n",
       "      <td>3583</td>\n",
       "      <td>https://qiita.com/shibukawa/items/19ab5c381bbb...</td>\n",
       "    </tr>\n",
       "    <tr>\n",
       "      <th>33967</th>\n",
       "      <td>開設後３週間で収益１０万円を得た個人開発サイトでやったことの全部を公開する</td>\n",
       "      <td>Ruby,JavaScript,Heroku,AWS,個人開発</td>\n",
       "      <td>37</td>\n",
       "      <td>2686</td>\n",
       "      <td>https://qiita.com/jabba/items/1a49e860a09a613b...</td>\n",
       "    </tr>\n",
       "    <tr>\n",
       "      <th>37148</th>\n",
       "      <td>2018年の最先端バックエンドエンジニアに必要なスキルについて考えてみました。</td>\n",
       "      <td>AWS,gcp,キャリア</td>\n",
       "      <td>15</td>\n",
       "      <td>2487</td>\n",
       "      <td>https://qiita.com/poly_soft/items/fb649573c19b...</td>\n",
       "    </tr>\n",
       "    <tr>\n",
       "      <th>69409</th>\n",
       "      <td>[2018] 個人でも使える！おすすめAPI一覧</td>\n",
       "      <td>Python,Instagram,GoogleCloudPlatform</td>\n",
       "      <td>15</td>\n",
       "      <td>2439</td>\n",
       "      <td>https://qiita.com/mikan3rd/items/ba4737023f08b...</td>\n",
       "    </tr>\n",
       "    <tr>\n",
       "      <th>33628</th>\n",
       "      <td>コーディングをするときに鼻血がでるほど便利なwebツールリスト(随時更新予定)</td>\n",
       "      <td>正規表現,Web,tool,coding,naming</td>\n",
       "      <td>18</td>\n",
       "      <td>2404</td>\n",
       "      <td>https://qiita.com/isuke/items/7fcc5eb0b985005b...</td>\n",
       "    </tr>\n",
       "    <tr>\n",
       "      <th>65115</th>\n",
       "      <td>Chrome拡張の高速な英語辞書ツールをつくりました(Mouse Dictionary)</td>\n",
       "      <td>JavaScript,Chrome,chrome-extension,English</td>\n",
       "      <td>31</td>\n",
       "      <td>2349</td>\n",
       "      <td>https://qiita.com/wtetsu/items/c43232c6c44918e...</td>\n",
       "    </tr>\n",
       "    <tr>\n",
       "      <th>73204</th>\n",
       "      <td>エンジニアは全員技術記事を書くことを習慣化した方がいいぞ</td>\n",
       "      <td>Qiita,翻訳,アウトプット,新人プログラマ応援</td>\n",
       "      <td>44</td>\n",
       "      <td>2090</td>\n",
       "      <td>https://qiita.com/HiromuMasuda0228/items/a71de...</td>\n",
       "    </tr>\n",
       "    <tr>\n",
       "      <th>68548</th>\n",
       "      <td>なぜ我々はいまだに文字列でコメントを書いているのか</td>\n",
       "      <td>Emacs,SublimeText3,コメント,Visual,VSCode</td>\n",
       "      <td>23</td>\n",
       "      <td>2062</td>\n",
       "      <td>https://qiita.com/tkrkt/items/2fc9a9a59ce679aa...</td>\n",
       "    </tr>\n",
       "    <tr>\n",
       "      <th>70338</th>\n",
       "      <td>もっと気軽にアウトプットできる技術ブログサービス「Qrunch（クランチ）」をリリースした【...</td>\n",
       "      <td>Ruby,Markdown,RubyOnRails,Webサービス,個人開発</td>\n",
       "      <td>34</td>\n",
       "      <td>1952</td>\n",
       "      <td>https://qiita.com/c0domisu/items/95a561d163d26...</td>\n",
       "    </tr>\n",
       "    <tr>\n",
       "      <th>10263</th>\n",
       "      <td>【今日からできる】コミットメッセージに 「プレフィックス」 をつけるだけで、開発効率が上がった話</td>\n",
       "      <td>Git,GitHub,devops,チーム,新人プログラマ応援</td>\n",
       "      <td>33</td>\n",
       "      <td>1947</td>\n",
       "      <td>https://qiita.com/numanomanu/items/45dd285b286...</td>\n",
       "    </tr>\n",
       "    <tr>\n",
       "      <th>15851</th>\n",
       "      <td>GitHub に AWS キーペアを上げると抜かれるってほんと？？？試してみよー！</td>\n",
       "      <td>GitHub,AWS</td>\n",
       "      <td>13</td>\n",
       "      <td>1900</td>\n",
       "      <td>https://qiita.com/saitotak/items/813ac6c2057ac...</td>\n",
       "    </tr>\n",
       "    <tr>\n",
       "      <th>7784</th>\n",
       "      <td>新人達を1ヶ月でガチvimmerにした方法</td>\n",
       "      <td>Vim,新人教育,Vimmer</td>\n",
       "      <td>6</td>\n",
       "      <td>1795</td>\n",
       "      <td>https://qiita.com/nyantera/items/4bf29ca6f11bc...</td>\n",
       "    </tr>\n",
       "    <tr>\n",
       "      <th>58782</th>\n",
       "      <td>ソフトウェア開発に役立つ　心理学的現象、行動経済学の概念など　15題</td>\n",
       "      <td>プログラミング,チーム開発,プロジェクト管理,開発プロセス,マネジメント</td>\n",
       "      <td>11</td>\n",
       "      <td>1762</td>\n",
       "      <td>https://qiita.com/arai-wa/items/4c7629276ced7e...</td>\n",
       "    </tr>\n",
       "    <tr>\n",
       "      <th>49714</th>\n",
       "      <td>初心者プログラマが犯しがちな過ち25選</td>\n",
       "      <td>JavaScript,初心者,プログラマ</td>\n",
       "      <td>18</td>\n",
       "      <td>1732</td>\n",
       "      <td>https://qiita.com/rana_kualu/items/379eefb3a40...</td>\n",
       "    </tr>\n",
       "    <tr>\n",
       "      <th>55159</th>\n",
       "      <td>いまさらだけどGitを基本から分かりやすくまとめてみた</td>\n",
       "      <td>Git</td>\n",
       "      <td>13</td>\n",
       "      <td>1688</td>\n",
       "      <td>https://qiita.com/gold-kou/items/7f6a3b46e2781...</td>\n",
       "    </tr>\n",
       "    <tr>\n",
       "      <th>5240</th>\n",
       "      <td>Webアプリケーションフレームワーク導入時に考慮すべき22の観点</td>\n",
       "      <td>Java,Ruby,PHP,Scala,設計</td>\n",
       "      <td>10</td>\n",
       "      <td>1672</td>\n",
       "      <td>https://qiita.com/tmknom/items/08b69594e32a92b...</td>\n",
       "    </tr>\n",
       "    <tr>\n",
       "      <th>34639</th>\n",
       "      <td>「赤の他人」の対義語は「白い恋人」 これを自動生成したい物語</td>\n",
       "      <td>Python,mecab,自然言語処理,python3,word2vec</td>\n",
       "      <td>20</td>\n",
       "      <td>1648</td>\n",
       "      <td>https://qiita.com/youwht/items/f21325ff62603e8...</td>\n",
       "    </tr>\n",
       "    <tr>\n",
       "      <th>76112</th>\n",
       "      <td>Webパフォーマンス虎の巻</td>\n",
       "      <td>JavaScript,ChromeDevTool,performance</td>\n",
       "      <td>1</td>\n",
       "      <td>1634</td>\n",
       "      <td>https://qiita.com/usagi-f/items/10f35969f08dd0...</td>\n",
       "    </tr>\n",
       "    <tr>\n",
       "      <th>47148</th>\n",
       "      <td>治安の悪い Slack Emoji を作るツールを作った</td>\n",
       "      <td>JavaScript,HTML5,canvas,Slack</td>\n",
       "      <td>16</td>\n",
       "      <td>1625</td>\n",
       "      <td>https://qiita.com/zk_phi/items/8a24b8ad9d1eabd...</td>\n",
       "    </tr>\n",
       "    <tr>\n",
       "      <th>26141</th>\n",
       "      <td>システムで「性別」の情報を扱う前に知っておくべきこと</td>\n",
       "      <td>プログラミング,Web,Database,ISO</td>\n",
       "      <td>5</td>\n",
       "      <td>1590</td>\n",
       "      <td>https://qiita.com/aoshirobo/items/32deb45cb8c8...</td>\n",
       "    </tr>\n",
       "  </tbody>\n",
       "</table>\n",
       "</div>"
      ],
      "text/plain": [
       "                                                   title  \\\n",
       "1054                             イマドキのJavaScriptの書き方2018   \n",
       "33967              開設後３週間で収益１０万円を得た個人開発サイトでやったことの全部を公開する   \n",
       "37148            2018年の最先端バックエンドエンジニアに必要なスキルについて考えてみました。   \n",
       "69409                           [2018] 個人でも使える！おすすめAPI一覧   \n",
       "33628            コーディングをするときに鼻血がでるほど便利なwebツールリスト(随時更新予定)   \n",
       "65115       Chrome拡張の高速な英語辞書ツールをつくりました(Mouse Dictionary)   \n",
       "73204                       エンジニアは全員技術記事を書くことを習慣化した方がいいぞ   \n",
       "68548                          なぜ我々はいまだに文字列でコメントを書いているのか   \n",
       "70338  もっと気軽にアウトプットできる技術ブログサービス「Qrunch（クランチ）」をリリースした【...   \n",
       "10263   【今日からできる】コミットメッセージに 「プレフィックス」 をつけるだけで、開発効率が上がった話   \n",
       "15851          GitHub に AWS キーペアを上げると抜かれるってほんと？？？試してみよー！   \n",
       "7784                               新人達を1ヶ月でガチvimmerにした方法   \n",
       "58782                 ソフトウェア開発に役立つ　心理学的現象、行動経済学の概念など　15題   \n",
       "49714                                初心者プログラマが犯しがちな過ち25選   \n",
       "55159                        いまさらだけどGitを基本から分かりやすくまとめてみた   \n",
       "5240                    Webアプリケーションフレームワーク導入時に考慮すべき22の観点   \n",
       "34639                     「赤の他人」の対義語は「白い恋人」 これを自動生成したい物語   \n",
       "76112                                      Webパフォーマンス虎の巻   \n",
       "47148                       治安の悪い Slack Emoji を作るツールを作った   \n",
       "26141                         システムで「性別」の情報を扱う前に知っておくべきこと   \n",
       "\n",
       "                                         tags_str  comments_count  \\\n",
       "1054                                   JavaScript              45   \n",
       "33967             Ruby,JavaScript,Heroku,AWS,個人開発              37   \n",
       "37148                                AWS,gcp,キャリア              15   \n",
       "69409        Python,Instagram,GoogleCloudPlatform              15   \n",
       "33628                 正規表現,Web,tool,coding,naming              18   \n",
       "65115  JavaScript,Chrome,chrome-extension,English              31   \n",
       "73204                   Qiita,翻訳,アウトプット,新人プログラマ応援              44   \n",
       "68548       Emacs,SublimeText3,コメント,Visual,VSCode              23   \n",
       "70338      Ruby,Markdown,RubyOnRails,Webサービス,個人開発              34   \n",
       "10263             Git,GitHub,devops,チーム,新人プログラマ応援              33   \n",
       "15851                                  GitHub,AWS              13   \n",
       "7784                              Vim,新人教育,Vimmer               6   \n",
       "58782        プログラミング,チーム開発,プロジェクト管理,開発プロセス,マネジメント              11   \n",
       "49714                        JavaScript,初心者,プログラマ              18   \n",
       "55159                                         Git              13   \n",
       "5240                       Java,Ruby,PHP,Scala,設計              10   \n",
       "34639        Python,mecab,自然言語処理,python3,word2vec              20   \n",
       "76112        JavaScript,ChromeDevTool,performance               1   \n",
       "47148               JavaScript,HTML5,canvas,Slack              16   \n",
       "26141                    プログラミング,Web,Database,ISO               5   \n",
       "\n",
       "       likes_count                                                url  \n",
       "1054          3583  https://qiita.com/shibukawa/items/19ab5c381bbb...  \n",
       "33967         2686  https://qiita.com/jabba/items/1a49e860a09a613b...  \n",
       "37148         2487  https://qiita.com/poly_soft/items/fb649573c19b...  \n",
       "69409         2439  https://qiita.com/mikan3rd/items/ba4737023f08b...  \n",
       "33628         2404  https://qiita.com/isuke/items/7fcc5eb0b985005b...  \n",
       "65115         2349  https://qiita.com/wtetsu/items/c43232c6c44918e...  \n",
       "73204         2090  https://qiita.com/HiromuMasuda0228/items/a71de...  \n",
       "68548         2062  https://qiita.com/tkrkt/items/2fc9a9a59ce679aa...  \n",
       "70338         1952  https://qiita.com/c0domisu/items/95a561d163d26...  \n",
       "10263         1947  https://qiita.com/numanomanu/items/45dd285b286...  \n",
       "15851         1900  https://qiita.com/saitotak/items/813ac6c2057ac...  \n",
       "7784          1795  https://qiita.com/nyantera/items/4bf29ca6f11bc...  \n",
       "58782         1762  https://qiita.com/arai-wa/items/4c7629276ced7e...  \n",
       "49714         1732  https://qiita.com/rana_kualu/items/379eefb3a40...  \n",
       "55159         1688  https://qiita.com/gold-kou/items/7f6a3b46e2781...  \n",
       "5240          1672  https://qiita.com/tmknom/items/08b69594e32a92b...  \n",
       "34639         1648  https://qiita.com/youwht/items/f21325ff62603e8...  \n",
       "76112         1634  https://qiita.com/usagi-f/items/10f35969f08dd0...  \n",
       "47148         1625  https://qiita.com/zk_phi/items/8a24b8ad9d1eabd...  \n",
       "26141         1590  https://qiita.com/aoshirobo/items/32deb45cb8c8...  "
      ]
     },
     "execution_count": 94,
     "metadata": {},
     "output_type": "execute_result"
    }
   ],
   "source": [
    "df_with_likes.sort_values(by='likes_count', ascending=False)[[\n",
    "    \"title\",\n",
    "    \"tags_str\",\n",
    "    \"comments_count\",\n",
    "    \"likes_count\",\n",
    "    \"url\"\n",
    "]].head(20)"
   ]
  },
  {
   "cell_type": "markdown",
   "metadata": {},
   "source": [
    "# 特徴量\n",
    "\n",
    "* タイトル\n",
    "  * <font color=\"red\">長さ</font> （たぶん最大250文字。実際にはせいぜい100文字以内が表示的に現実的）\n",
    "  * 文字種の数\n",
    "    * <font color=\"red\">数字の数</font>\n",
    "    * アルファベットの数（大文字・小文字は区別しない）\n",
    "    * ひらがなの数\n",
    "    * カタカナの数\n",
    "    * 漢字の数\n",
    "    * それ以外の数（記号など）\n",
    "* タグ\n",
    "  * タグの数\n",
    "  * 文字種の数（タイトルと同様）"
   ]
  },
  {
   "cell_type": "markdown",
   "metadata": {},
   "source": [
    "ちなみに最大文字数のタイトルは239文字"
   ]
  },
  {
   "cell_type": "code",
   "execution_count": 95,
   "metadata": {},
   "outputs": [
    {
     "name": "stdout",
     "output_type": "stream",
     "text": [
      "YYPHP#54「PhpStormの法人ライセンスは1台にしか入れられない？、Laravelでブログを作るには？、Chromeのみ対応のシステムをIE11対応させたいが…、みんながDockerをどんなふうに使っているのか開発のしかたなどを聞きたい、PHPはフランス語に弱い？、前前人者が作ったシステムが良くわからない、型とオブジェクト指向がマイブームで再燃しているのはなぜか？、PhpStormのEAPでコレクション型のジェネリクス表記ができるようになったよ、技術書典５の案内」\n",
      "239\n"
     ]
    }
   ],
   "source": [
    "print(max(df[\"title\"], key=len))\n",
    "print(len(max(df[\"title\"], key=len)))"
   ]
  },
  {
   "cell_type": "markdown",
   "metadata": {},
   "source": [
    "## モデリング"
   ]
  },
  {
   "cell_type": "code",
   "execution_count": 170,
   "metadata": {},
   "outputs": [],
   "source": [
    "hiraganas = [chr(x) for x in range(ord('あ'), ord('ん')+1)]\n",
    "katakanas = [chr(x) for x in range(ord('ア'), ord('ン')+1)]\n",
    "katakanas.append('ー')"
   ]
  },
  {
   "cell_type": "code",
   "execution_count": 172,
   "metadata": {},
   "outputs": [],
   "source": [
    "def count_hiraganas(s):\n",
    "    c = collections.Counter(s)\n",
    "    return {k[0]: k[1] for k in c.items() if k[0] in hiraganas}"
   ]
  },
  {
   "cell_type": "code",
   "execution_count": 173,
   "metadata": {},
   "outputs": [],
   "source": [
    "hiragana_lengths = [sum(count_hiraganas(x).values()) for x in df[\"title\"].values]"
   ]
  },
  {
   "cell_type": "code",
   "execution_count": 174,
   "metadata": {},
   "outputs": [
    {
     "data": {
      "text/plain": [
       "[1, 15, 4, 4, 5, 2, 5, 14, 10, 14]"
      ]
     },
     "execution_count": 174,
     "metadata": {},
     "output_type": "execute_result"
    }
   ],
   "source": [
    "hiragana_lengths[:10]"
   ]
  },
  {
   "cell_type": "code",
   "execution_count": 175,
   "metadata": {},
   "outputs": [],
   "source": [
    "def count_katakanas(s):\n",
    "    c = collections.Counter(s)\n",
    "    return {k[0]: k[1] for k in c.items() if k[0] in katakanas}"
   ]
  },
  {
   "cell_type": "code",
   "execution_count": 176,
   "metadata": {},
   "outputs": [],
   "source": [
    "katakana_lengths = [sum(count_katakanas(x).values()) for x in df[\"title\"].values]"
   ]
  },
  {
   "cell_type": "code",
   "execution_count": 177,
   "metadata": {},
   "outputs": [
    {
     "data": {
      "text/plain": [
       "[11, 3, 0, 13, 0, 0, 0, 4, 0, 4]"
      ]
     },
     "execution_count": 177,
     "metadata": {},
     "output_type": "execute_result"
    }
   ],
   "source": [
    "katakana_lengths[:10]"
   ]
  },
  {
   "cell_type": "code",
   "execution_count": 98,
   "metadata": {},
   "outputs": [],
   "source": [
    "def count_digits(s):\n",
    "    c = collections.Counter(s)\n",
    "    return {k[0]: k[1] for k in c.items() if (k[0] in '０１２３４５６７８９') or (k[0] in string.digits)}"
   ]
  },
  {
   "cell_type": "markdown",
   "metadata": {},
   "source": [
    "数字の文字数"
   ]
  },
  {
   "cell_type": "code",
   "execution_count": 99,
   "metadata": {},
   "outputs": [],
   "source": [
    "digit_lengths = [sum(count_digits(x).values()) for x in df[\"title\"].values]"
   ]
  },
  {
   "cell_type": "code",
   "execution_count": 100,
   "metadata": {},
   "outputs": [
    {
     "data": {
      "text/plain": [
       "[0, 0, 0, 2, 0, 0, 0, 0, 1, 1]"
      ]
     },
     "execution_count": 100,
     "metadata": {},
     "output_type": "execute_result"
    }
   ],
   "source": [
    "digit_lengths[:10]"
   ]
  },
  {
   "cell_type": "code",
   "execution_count": 101,
   "metadata": {},
   "outputs": [
    {
     "data": {
      "text/plain": [
       "array(['DynamoDB ローカルでチュートリアル', 'C++で初めてのゲーム開発する時に、気をつけて欲しいこと',\n",
       "       'LSTMの簡易まとめ', 'Mastodonで始めるPythonプログラミング！腕試しテスト50本ノック（初級編）',\n",
       "       'create-react-appでReactの開発環境を構築する', 'Hyperappを読む',\n",
       "       'matplotlib の legend(凡例) の 位置を調整する legend bbox_to_anchor loc',\n",
       "       'ノートンいれたらMacが再起動から復帰しなくなった。(復旧済み)', 'Cloud9上でJupyterを動かせる環境を作ってみた',\n",
       "       'AWSのEC2を使ってJupyterをブラウザから使えるようにする方法'], dtype=object)"
      ]
     },
     "execution_count": 101,
     "metadata": {},
     "output_type": "execute_result"
    }
   ],
   "source": [
    "df[\"title\"].values[:10]"
   ]
  },
  {
   "cell_type": "markdown",
   "metadata": {},
   "source": [
    "タイトルの文字数"
   ]
  },
  {
   "cell_type": "code",
   "execution_count": 180,
   "metadata": {},
   "outputs": [],
   "source": [
    "title_lengths = [len(x) for x in df[\"title\"].values]"
   ]
  },
  {
   "cell_type": "markdown",
   "metadata": {},
   "source": [
    "## 前処理"
   ]
  },
  {
   "cell_type": "code",
   "execution_count": 195,
   "metadata": {},
   "outputs": [
    {
     "data": {
      "text/plain": [
       "((87990, 11), 87990, 87990, 87990, 87990)"
      ]
     },
     "execution_count": 195,
     "metadata": {},
     "output_type": "execute_result"
    }
   ],
   "source": [
    "df.shape, len(title_lengths), len(digit_lengths), len(hiragana_lengths), len(katakana_lengths)"
   ]
  },
  {
   "cell_type": "code",
   "execution_count": 196,
   "metadata": {},
   "outputs": [],
   "source": [
    "df[\"title_length\"] = title_lengths\n",
    "df[\"digit_count\"] = digit_lengths\n",
    "df[\"hiragana_count\"] = hiragana_lengths\n",
    "df[\"katakana_count\"] = katakana_lengths"
   ]
  },
  {
   "cell_type": "code",
   "execution_count": 344,
   "metadata": {},
   "outputs": [],
   "source": [
    "df[\"has_digit\"] = (df[\"digit_count\"] > 0) * 1"
   ]
  },
  {
   "cell_type": "code",
   "execution_count": 345,
   "metadata": {},
   "outputs": [
    {
     "data": {
      "text/plain": [
       "0.26638254347084894"
      ]
     },
     "execution_count": 345,
     "metadata": {},
     "output_type": "execute_result"
    }
   ],
   "source": [
    "len(df[df[\"has_digit\"] == 1]) / len(df)"
   ]
  },
  {
   "cell_type": "code",
   "execution_count": 327,
   "metadata": {},
   "outputs": [
    {
     "data": {
      "text/plain": [
       "0.26638254347084894"
      ]
     },
     "execution_count": 327,
     "metadata": {},
     "output_type": "execute_result"
    }
   ],
   "source": [
    "len(df[df[\"digit_count\"] > 0]) / len(df)"
   ]
  },
  {
   "cell_type": "code",
   "execution_count": 351,
   "metadata": {
    "scrolled": false
   },
   "outputs": [
    {
     "data": {
      "text/html": [
       "<div>\n",
       "<style scoped>\n",
       "    .dataframe tbody tr th:only-of-type {\n",
       "        vertical-align: middle;\n",
       "    }\n",
       "\n",
       "    .dataframe tbody tr th {\n",
       "        vertical-align: top;\n",
       "    }\n",
       "\n",
       "    .dataframe thead th {\n",
       "        text-align: right;\n",
       "    }\n",
       "</style>\n",
       "<table border=\"1\" class=\"dataframe\">\n",
       "  <thead>\n",
       "    <tr style=\"text-align: right;\">\n",
       "      <th></th>\n",
       "      <th>title</th>\n",
       "      <th>likes_count</th>\n",
       "      <th>comments_count</th>\n",
       "      <th>has_digit</th>\n",
       "      <th>tags_str</th>\n",
       "      <th>title_length</th>\n",
       "      <th>digit_count</th>\n",
       "      <th>hiragana_count</th>\n",
       "      <th>katakana_count</th>\n",
       "    </tr>\n",
       "  </thead>\n",
       "  <tbody>\n",
       "    <tr>\n",
       "      <th>1054</th>\n",
       "      <td>イマドキのJavaScriptの書き方2018</td>\n",
       "      <td>3583</td>\n",
       "      <td>45</td>\n",
       "      <td>1</td>\n",
       "      <td>JavaScript</td>\n",
       "      <td>23</td>\n",
       "      <td>4</td>\n",
       "      <td>3</td>\n",
       "      <td>4</td>\n",
       "    </tr>\n",
       "    <tr>\n",
       "      <th>33967</th>\n",
       "      <td>開設後３週間で収益１０万円を得た個人開発サイトでやったことの全部を公開する</td>\n",
       "      <td>2686</td>\n",
       "      <td>37</td>\n",
       "      <td>1</td>\n",
       "      <td>Ruby,JavaScript,Heroku,AWS,個人開発</td>\n",
       "      <td>37</td>\n",
       "      <td>3</td>\n",
       "      <td>13</td>\n",
       "      <td>3</td>\n",
       "    </tr>\n",
       "    <tr>\n",
       "      <th>37148</th>\n",
       "      <td>2018年の最先端バックエンドエンジニアに必要なスキルについて考えてみました。</td>\n",
       "      <td>2487</td>\n",
       "      <td>15</td>\n",
       "      <td>1</td>\n",
       "      <td>AWS,gcp,キャリア</td>\n",
       "      <td>39</td>\n",
       "      <td>4</td>\n",
       "      <td>13</td>\n",
       "      <td>14</td>\n",
       "    </tr>\n",
       "    <tr>\n",
       "      <th>69409</th>\n",
       "      <td>[2018] 個人でも使える！おすすめAPI一覧</td>\n",
       "      <td>2439</td>\n",
       "      <td>15</td>\n",
       "      <td>1</td>\n",
       "      <td>Python,Instagram,GoogleCloudPlatform</td>\n",
       "      <td>24</td>\n",
       "      <td>4</td>\n",
       "      <td>8</td>\n",
       "      <td>0</td>\n",
       "    </tr>\n",
       "    <tr>\n",
       "      <th>33628</th>\n",
       "      <td>コーディングをするときに鼻血がでるほど便利なwebツールリスト(随時更新予定)</td>\n",
       "      <td>2404</td>\n",
       "      <td>18</td>\n",
       "      <td>0</td>\n",
       "      <td>正規表現,Web,tool,coding,naming</td>\n",
       "      <td>39</td>\n",
       "      <td>0</td>\n",
       "      <td>12</td>\n",
       "      <td>12</td>\n",
       "    </tr>\n",
       "    <tr>\n",
       "      <th>65115</th>\n",
       "      <td>Chrome拡張の高速な英語辞書ツールをつくりました(Mouse Dictionary)</td>\n",
       "      <td>2349</td>\n",
       "      <td>31</td>\n",
       "      <td>0</td>\n",
       "      <td>JavaScript,Chrome,chrome-extension,English</td>\n",
       "      <td>44</td>\n",
       "      <td>0</td>\n",
       "      <td>9</td>\n",
       "      <td>3</td>\n",
       "    </tr>\n",
       "    <tr>\n",
       "      <th>73204</th>\n",
       "      <td>エンジニアは全員技術記事を書くことを習慣化した方がいいぞ</td>\n",
       "      <td>2090</td>\n",
       "      <td>44</td>\n",
       "      <td>0</td>\n",
       "      <td>Qiita,翻訳,アウトプット,新人プログラマ応援</td>\n",
       "      <td>28</td>\n",
       "      <td>0</td>\n",
       "      <td>12</td>\n",
       "      <td>5</td>\n",
       "    </tr>\n",
       "    <tr>\n",
       "      <th>68548</th>\n",
       "      <td>なぜ我々はいまだに文字列でコメントを書いているのか</td>\n",
       "      <td>2062</td>\n",
       "      <td>23</td>\n",
       "      <td>0</td>\n",
       "      <td>Emacs,SublimeText3,コメント,Visual,VSCode</td>\n",
       "      <td>25</td>\n",
       "      <td>0</td>\n",
       "      <td>15</td>\n",
       "      <td>4</td>\n",
       "    </tr>\n",
       "    <tr>\n",
       "      <th>70338</th>\n",
       "      <td>もっと気軽にアウトプットできる技術ブログサービス「Qrunch（クランチ）」をリリースした【...</td>\n",
       "      <td>1952</td>\n",
       "      <td>34</td>\n",
       "      <td>0</td>\n",
       "      <td>Ruby,Markdown,RubyOnRails,Webサービス,個人開発</td>\n",
       "      <td>51</td>\n",
       "      <td>0</td>\n",
       "      <td>10</td>\n",
       "      <td>21</td>\n",
       "    </tr>\n",
       "    <tr>\n",
       "      <th>10263</th>\n",
       "      <td>【今日からできる】コミットメッセージに 「プレフィックス」 をつけるだけで、開発効率が上がった話</td>\n",
       "      <td>1947</td>\n",
       "      <td>33</td>\n",
       "      <td>0</td>\n",
       "      <td>Git,GitHub,devops,チーム,新人プログラマ応援</td>\n",
       "      <td>48</td>\n",
       "      <td>0</td>\n",
       "      <td>17</td>\n",
       "      <td>16</td>\n",
       "    </tr>\n",
       "  </tbody>\n",
       "</table>\n",
       "</div>"
      ],
      "text/plain": [
       "                                                   title  likes_count  \\\n",
       "1054                             イマドキのJavaScriptの書き方2018         3583   \n",
       "33967              開設後３週間で収益１０万円を得た個人開発サイトでやったことの全部を公開する         2686   \n",
       "37148            2018年の最先端バックエンドエンジニアに必要なスキルについて考えてみました。         2487   \n",
       "69409                           [2018] 個人でも使える！おすすめAPI一覧         2439   \n",
       "33628            コーディングをするときに鼻血がでるほど便利なwebツールリスト(随時更新予定)         2404   \n",
       "65115       Chrome拡張の高速な英語辞書ツールをつくりました(Mouse Dictionary)         2349   \n",
       "73204                       エンジニアは全員技術記事を書くことを習慣化した方がいいぞ         2090   \n",
       "68548                          なぜ我々はいまだに文字列でコメントを書いているのか         2062   \n",
       "70338  もっと気軽にアウトプットできる技術ブログサービス「Qrunch（クランチ）」をリリースした【...         1952   \n",
       "10263   【今日からできる】コミットメッセージに 「プレフィックス」 をつけるだけで、開発効率が上がった話         1947   \n",
       "\n",
       "       comments_count  has_digit                                    tags_str  \\\n",
       "1054               45          1                                  JavaScript   \n",
       "33967              37          1             Ruby,JavaScript,Heroku,AWS,個人開発   \n",
       "37148              15          1                                AWS,gcp,キャリア   \n",
       "69409              15          1        Python,Instagram,GoogleCloudPlatform   \n",
       "33628              18          0                 正規表現,Web,tool,coding,naming   \n",
       "65115              31          0  JavaScript,Chrome,chrome-extension,English   \n",
       "73204              44          0                   Qiita,翻訳,アウトプット,新人プログラマ応援   \n",
       "68548              23          0       Emacs,SublimeText3,コメント,Visual,VSCode   \n",
       "70338              34          0      Ruby,Markdown,RubyOnRails,Webサービス,個人開発   \n",
       "10263              33          0             Git,GitHub,devops,チーム,新人プログラマ応援   \n",
       "\n",
       "       title_length  digit_count  hiragana_count  katakana_count  \n",
       "1054             23            4               3               4  \n",
       "33967            37            3              13               3  \n",
       "37148            39            4              13              14  \n",
       "69409            24            4               8               0  \n",
       "33628            39            0              12              12  \n",
       "65115            44            0               9               3  \n",
       "73204            28            0              12               5  \n",
       "68548            25            0              15               4  \n",
       "70338            51            0              10              21  \n",
       "10263            48            0              17              16  "
      ]
     },
     "execution_count": 351,
     "metadata": {},
     "output_type": "execute_result"
    }
   ],
   "source": [
    "df.sort_values(by='likes_count', ascending=False)[[\n",
    "    \"title\", \"likes_count\",\n",
    "    \"comments_count\",\n",
    "    \"has_digit\",\n",
    "    \"tags_str\",\n",
    "    \"title_length\",\n",
    "    \"digit_count\",\n",
    "    \"hiragana_count\",\n",
    "    \"katakana_count\"\n",
    "]].head(10)"
   ]
  },
  {
   "cell_type": "markdown",
   "metadata": {},
   "source": [
    "モデル"
   ]
  },
  {
   "cell_type": "code",
   "execution_count": 352,
   "metadata": {},
   "outputs": [
    {
     "data": {
      "text/plain": [
       "array([0, 1])"
      ]
     },
     "execution_count": 352,
     "metadata": {},
     "output_type": "execute_result"
    }
   ],
   "source": [
    "df[\"has_digit\"].unique()"
   ]
  },
  {
   "cell_type": "code",
   "execution_count": 358,
   "metadata": {},
   "outputs": [
    {
     "data": {
      "text/plain": [
       "array([ 1, 35,  2, ...,  0,  1,  0])"
      ]
     },
     "execution_count": 358,
     "metadata": {},
     "output_type": "execute_result"
    }
   ],
   "source": [
    "df[\"likes_count\"].values"
   ]
  },
  {
   "cell_type": "code",
   "execution_count": 548,
   "metadata": {},
   "outputs": [],
   "source": [
    "df_new = df[df[\"digit_count\"]<27]"
   ]
  },
  {
   "cell_type": "code",
   "execution_count": 550,
   "metadata": {},
   "outputs": [
    {
     "data": {
      "text/plain": [
       "array([ 0,  1,  2,  3,  4,  5,  6,  7,  8,  9, 10, 11, 12, 13, 14, 15, 16,\n",
       "       17, 18, 19, 20, 21, 22, 23, 24, 25, 26])"
      ]
     },
     "execution_count": 550,
     "metadata": {},
     "output_type": "execute_result"
    }
   ],
   "source": [
    "digit_unique = df_new[\"digit_count\"].unique()\n",
    "digit_unique.sort()\n",
    "digit_unique"
   ]
  },
  {
   "cell_type": "code",
   "execution_count": 539,
   "metadata": {},
   "outputs": [],
   "source": [
    "digit_unique = df[\"digit_count\"].unique()"
   ]
  },
  {
   "cell_type": "code",
   "execution_count": 542,
   "metadata": {},
   "outputs": [
    {
     "data": {
      "text/plain": [
       "array([ 0,  1,  2,  3,  4,  5,  6,  7,  8,  9, 10, 11, 12, 13, 14, 15, 16,\n",
       "       17, 18, 19, 20, 21, 22, 23, 24, 25, 26, 28, 32, 94])"
      ]
     },
     "execution_count": 542,
     "metadata": {},
     "output_type": "execute_result"
    }
   ],
   "source": [
    "digit_unique.sort()\n",
    "digit_unique"
   ]
  },
  {
   "cell_type": "code",
   "execution_count": 571,
   "metadata": {},
   "outputs": [
    {
     "data": {
      "text/html": [
       "<div>\n",
       "<style scoped>\n",
       "    .dataframe tbody tr th:only-of-type {\n",
       "        vertical-align: middle;\n",
       "    }\n",
       "\n",
       "    .dataframe tbody tr th {\n",
       "        vertical-align: top;\n",
       "    }\n",
       "\n",
       "    .dataframe thead th {\n",
       "        text-align: right;\n",
       "    }\n",
       "</style>\n",
       "<table border=\"1\" class=\"dataframe\">\n",
       "  <thead>\n",
       "    <tr style=\"text-align: right;\">\n",
       "      <th></th>\n",
       "      <th>likes_count</th>\n",
       "      <th>comments_count</th>\n",
       "      <th>user_permanent_id</th>\n",
       "      <th>title_length</th>\n",
       "      <th>digit_count</th>\n",
       "      <th>hiragana_count</th>\n",
       "      <th>katakana_count</th>\n",
       "      <th>has_digit</th>\n",
       "    </tr>\n",
       "  </thead>\n",
       "  <tbody>\n",
       "    <tr>\n",
       "      <th>count</th>\n",
       "      <td>2325.000000</td>\n",
       "      <td>2325.000000</td>\n",
       "      <td>2325.000000</td>\n",
       "      <td>2325.000000</td>\n",
       "      <td>2325.0</td>\n",
       "      <td>2325.000000</td>\n",
       "      <td>2325.000000</td>\n",
       "      <td>2325.0</td>\n",
       "    </tr>\n",
       "    <tr>\n",
       "      <th>mean</th>\n",
       "      <td>17.466237</td>\n",
       "      <td>0.367312</td>\n",
       "      <td>140899.220215</td>\n",
       "      <td>40.652043</td>\n",
       "      <td>4.0</td>\n",
       "      <td>5.167312</td>\n",
       "      <td>4.228387</td>\n",
       "      <td>1.0</td>\n",
       "    </tr>\n",
       "    <tr>\n",
       "      <th>std</th>\n",
       "      <td>132.669167</td>\n",
       "      <td>2.714492</td>\n",
       "      <td>89800.135485</td>\n",
       "      <td>20.214975</td>\n",
       "      <td>0.0</td>\n",
       "      <td>5.224146</td>\n",
       "      <td>4.876342</td>\n",
       "      <td>0.0</td>\n",
       "    </tr>\n",
       "    <tr>\n",
       "      <th>min</th>\n",
       "      <td>0.000000</td>\n",
       "      <td>0.000000</td>\n",
       "      <td>43.000000</td>\n",
       "      <td>5.000000</td>\n",
       "      <td>4.0</td>\n",
       "      <td>0.000000</td>\n",
       "      <td>0.000000</td>\n",
       "      <td>1.0</td>\n",
       "    </tr>\n",
       "    <tr>\n",
       "      <th>25%</th>\n",
       "      <td>0.000000</td>\n",
       "      <td>0.000000</td>\n",
       "      <td>55223.000000</td>\n",
       "      <td>28.000000</td>\n",
       "      <td>4.0</td>\n",
       "      <td>1.000000</td>\n",
       "      <td>0.000000</td>\n",
       "      <td>1.0</td>\n",
       "    </tr>\n",
       "    <tr>\n",
       "      <th>50%</th>\n",
       "      <td>1.000000</td>\n",
       "      <td>0.000000</td>\n",
       "      <td>136761.000000</td>\n",
       "      <td>37.000000</td>\n",
       "      <td>4.0</td>\n",
       "      <td>4.000000</td>\n",
       "      <td>3.000000</td>\n",
       "      <td>1.0</td>\n",
       "    </tr>\n",
       "    <tr>\n",
       "      <th>75%</th>\n",
       "      <td>4.000000</td>\n",
       "      <td>0.000000</td>\n",
       "      <td>224453.000000</td>\n",
       "      <td>48.000000</td>\n",
       "      <td>4.0</td>\n",
       "      <td>7.000000</td>\n",
       "      <td>6.000000</td>\n",
       "      <td>1.0</td>\n",
       "    </tr>\n",
       "    <tr>\n",
       "      <th>max</th>\n",
       "      <td>3583.000000</td>\n",
       "      <td>102.000000</td>\n",
       "      <td>321330.000000</td>\n",
       "      <td>236.000000</td>\n",
       "      <td>4.0</td>\n",
       "      <td>89.000000</td>\n",
       "      <td>45.000000</td>\n",
       "      <td>1.0</td>\n",
       "    </tr>\n",
       "  </tbody>\n",
       "</table>\n",
       "</div>"
      ],
      "text/plain": [
       "       likes_count  comments_count  user_permanent_id  title_length  \\\n",
       "count  2325.000000     2325.000000        2325.000000   2325.000000   \n",
       "mean     17.466237        0.367312      140899.220215     40.652043   \n",
       "std     132.669167        2.714492       89800.135485     20.214975   \n",
       "min       0.000000        0.000000          43.000000      5.000000   \n",
       "25%       0.000000        0.000000       55223.000000     28.000000   \n",
       "50%       1.000000        0.000000      136761.000000     37.000000   \n",
       "75%       4.000000        0.000000      224453.000000     48.000000   \n",
       "max    3583.000000      102.000000      321330.000000    236.000000   \n",
       "\n",
       "       digit_count  hiragana_count  katakana_count  has_digit  \n",
       "count       2325.0     2325.000000     2325.000000     2325.0  \n",
       "mean           4.0        5.167312        4.228387        1.0  \n",
       "std            0.0        5.224146        4.876342        0.0  \n",
       "min            4.0        0.000000        0.000000        1.0  \n",
       "25%            4.0        1.000000        0.000000        1.0  \n",
       "50%            4.0        4.000000        3.000000        1.0  \n",
       "75%            4.0        7.000000        6.000000        1.0  \n",
       "max            4.0       89.000000       45.000000        1.0  "
      ]
     },
     "execution_count": 571,
     "metadata": {},
     "output_type": "execute_result"
    }
   ],
   "source": [
    "df[df[\"digit_count\"] == 4].describe()"
   ]
  },
  {
   "cell_type": "code",
   "execution_count": null,
   "metadata": {},
   "outputs": [],
   "source": []
  },
  {
   "cell_type": "code",
   "execution_count": 572,
   "metadata": {},
   "outputs": [
    {
     "name": "stderr",
     "output_type": "stream",
     "text": [
      "INFO (theano.gof.compilelock): Refreshing lock /Users/yuki/.theano/compiledir_Darwin-18.0.0-x86_64-i386-64bit-i386-3.6.2-64/lock_dir/lock\n"
     ]
    }
   ],
   "source": [
    "with pm.Model() as model:\n",
    "    mu = pm.HalfNormal(\"mu\", sd=1, shape=len(digit_unique))\n",
    "    obs = pm.Poisson(\"obs\", mu=mu[df_new[\"digit_count\"].values], observed=df_new[\"comments_count\"].values)"
   ]
  },
  {
   "cell_type": "code",
   "execution_count": 573,
   "metadata": {},
   "outputs": [
    {
     "name": "stderr",
     "output_type": "stream",
     "text": [
      "Auto-assigning NUTS sampler...\n",
      "Initializing NUTS using jitter+adapt_diag...\n",
      "Multiprocess sampling (2 chains in 2 jobs)\n",
      "NUTS: [mu]\n",
      "Sampling 2 chains: 100%|██████████| 2000/2000 [01:43<00:00, 19.26draws/s]\n"
     ]
    }
   ],
   "source": [
    "with model:\n",
    "    trace = pm.sample()"
   ]
  },
  {
   "cell_type": "code",
   "execution_count": 575,
   "metadata": {},
   "outputs": [
    {
     "data": {
      "image/png": "[encoded data removed]",
      "text/plain": [
       "<Figure size 864x144 with 2 Axes>"
      ]
     },
     "metadata": {
      "needs_background": "light"
     },
     "output_type": "display_data"
    }
   ],
   "source": [
    "pm.traceplot(trace);"
   ]
  },
  {
   "cell_type": "code",
   "execution_count": 576,
   "metadata": {},
   "outputs": [
    {
     "data": {
      "image/png": "[encoded data removed]",
      "text/plain": [
       "<Figure size 432x288 with 2 Axes>"
      ]
     },
     "metadata": {
      "needs_background": "light"
     },
     "output_type": "display_data"
    }
   ],
   "source": [
    "pm.forestplot(trace);"
   ]
  },
  {
   "cell_type": "code",
   "execution_count": 577,
   "metadata": {},
   "outputs": [
    {
     "data": {
      "text/html": [
       "<div>\n",
       "<style scoped>\n",
       "    .dataframe tbody tr th:only-of-type {\n",
       "        vertical-align: middle;\n",
       "    }\n",
       "\n",
       "    .dataframe tbody tr th {\n",
       "        vertical-align: top;\n",
       "    }\n",
       "\n",
       "    .dataframe thead th {\n",
       "        text-align: right;\n",
       "    }\n",
       "</style>\n",
       "<table border=\"1\" class=\"dataframe\">\n",
       "  <thead>\n",
       "    <tr style=\"text-align: right;\">\n",
       "      <th></th>\n",
       "      <th>mean</th>\n",
       "      <th>sd</th>\n",
       "      <th>mc_error</th>\n",
       "      <th>hpd_2.5</th>\n",
       "      <th>hpd_97.5</th>\n",
       "      <th>n_eff</th>\n",
       "      <th>Rhat</th>\n",
       "    </tr>\n",
       "  </thead>\n",
       "  <tbody>\n",
       "    <tr>\n",
       "      <th>mu__11</th>\n",
       "      <td>0.548674</td>\n",
       "      <td>0.078946</td>\n",
       "      <td>0.002384</td>\n",
       "      <td>0.414189</td>\n",
       "      <td>0.713198</td>\n",
       "      <td>844.381719</td>\n",
       "      <td>0.999140</td>\n",
       "    </tr>\n",
       "    <tr>\n",
       "      <th>mu__26</th>\n",
       "      <td>0.511839</td>\n",
       "      <td>0.467653</td>\n",
       "      <td>0.014197</td>\n",
       "      <td>0.000064</td>\n",
       "      <td>1.386251</td>\n",
       "      <td>944.815125</td>\n",
       "      <td>0.999053</td>\n",
       "    </tr>\n",
       "    <tr>\n",
       "      <th>mu__24</th>\n",
       "      <td>0.509633</td>\n",
       "      <td>0.432168</td>\n",
       "      <td>0.011812</td>\n",
       "      <td>0.002391</td>\n",
       "      <td>1.400582</td>\n",
       "      <td>1272.110023</td>\n",
       "      <td>1.000545</td>\n",
       "    </tr>\n",
       "    <tr>\n",
       "      <th>mu__21</th>\n",
       "      <td>0.480476</td>\n",
       "      <td>0.186605</td>\n",
       "      <td>0.005488</td>\n",
       "      <td>0.141850</td>\n",
       "      <td>0.837952</td>\n",
       "      <td>1227.075740</td>\n",
       "      <td>0.999460</td>\n",
       "    </tr>\n",
       "    <tr>\n",
       "      <th>mu__4</th>\n",
       "      <td>0.367883</td>\n",
       "      <td>0.012631</td>\n",
       "      <td>0.000312</td>\n",
       "      <td>0.342227</td>\n",
       "      <td>0.393208</td>\n",
       "      <td>1314.293433</td>\n",
       "      <td>0.999038</td>\n",
       "    </tr>\n",
       "    <tr>\n",
       "      <th>mu__19</th>\n",
       "      <td>0.362055</td>\n",
       "      <td>0.196503</td>\n",
       "      <td>0.005811</td>\n",
       "      <td>0.053924</td>\n",
       "      <td>0.739631</td>\n",
       "      <td>958.008899</td>\n",
       "      <td>0.999004</td>\n",
       "    </tr>\n",
       "    <tr>\n",
       "      <th>mu__2</th>\n",
       "      <td>0.338112</td>\n",
       "      <td>0.008267</td>\n",
       "      <td>0.000299</td>\n",
       "      <td>0.323106</td>\n",
       "      <td>0.354781</td>\n",
       "      <td>824.952664</td>\n",
       "      <td>0.999757</td>\n",
       "    </tr>\n",
       "    <tr>\n",
       "      <th>mu__12</th>\n",
       "      <td>0.336977</td>\n",
       "      <td>0.058258</td>\n",
       "      <td>0.001563</td>\n",
       "      <td>0.224409</td>\n",
       "      <td>0.450573</td>\n",
       "      <td>1032.862848</td>\n",
       "      <td>1.005347</td>\n",
       "    </tr>\n",
       "    <tr>\n",
       "      <th>mu__6</th>\n",
       "      <td>0.325046</td>\n",
       "      <td>0.024814</td>\n",
       "      <td>0.000854</td>\n",
       "      <td>0.274499</td>\n",
       "      <td>0.369229</td>\n",
       "      <td>840.051977</td>\n",
       "      <td>0.999788</td>\n",
       "    </tr>\n",
       "    <tr>\n",
       "      <th>mu__0</th>\n",
       "      <td>0.322564</td>\n",
       "      <td>0.002237</td>\n",
       "      <td>0.000067</td>\n",
       "      <td>0.318213</td>\n",
       "      <td>0.326545</td>\n",
       "      <td>1173.397386</td>\n",
       "      <td>0.999025</td>\n",
       "    </tr>\n",
       "    <tr>\n",
       "      <th>mu__1</th>\n",
       "      <td>0.317116</td>\n",
       "      <td>0.005797</td>\n",
       "      <td>0.000188</td>\n",
       "      <td>0.306009</td>\n",
       "      <td>0.328751</td>\n",
       "      <td>1017.563114</td>\n",
       "      <td>0.999007</td>\n",
       "    </tr>\n",
       "    <tr>\n",
       "      <th>mu__9</th>\n",
       "      <td>0.300475</td>\n",
       "      <td>0.039821</td>\n",
       "      <td>0.001217</td>\n",
       "      <td>0.224972</td>\n",
       "      <td>0.376898</td>\n",
       "      <td>1101.922663</td>\n",
       "      <td>0.999195</td>\n",
       "    </tr>\n",
       "    <tr>\n",
       "      <th>mu__3</th>\n",
       "      <td>0.294616</td>\n",
       "      <td>0.011815</td>\n",
       "      <td>0.000321</td>\n",
       "      <td>0.272633</td>\n",
       "      <td>0.318606</td>\n",
       "      <td>1095.389494</td>\n",
       "      <td>0.999090</td>\n",
       "    </tr>\n",
       "    <tr>\n",
       "      <th>mu__5</th>\n",
       "      <td>0.266886</td>\n",
       "      <td>0.018081</td>\n",
       "      <td>0.000485</td>\n",
       "      <td>0.233491</td>\n",
       "      <td>0.303577</td>\n",
       "      <td>1123.541954</td>\n",
       "      <td>0.999767</td>\n",
       "    </tr>\n",
       "    <tr>\n",
       "      <th>mu__17</th>\n",
       "      <td>0.261615</td>\n",
       "      <td>0.132191</td>\n",
       "      <td>0.003739</td>\n",
       "      <td>0.045529</td>\n",
       "      <td>0.502602</td>\n",
       "      <td>1284.239546</td>\n",
       "      <td>0.999069</td>\n",
       "    </tr>\n",
       "    <tr>\n",
       "      <th>mu__25</th>\n",
       "      <td>0.228886</td>\n",
       "      <td>0.235481</td>\n",
       "      <td>0.007396</td>\n",
       "      <td>0.000008</td>\n",
       "      <td>0.722151</td>\n",
       "      <td>1013.636633</td>\n",
       "      <td>1.000496</td>\n",
       "    </tr>\n",
       "    <tr>\n",
       "      <th>mu__22</th>\n",
       "      <td>0.222050</td>\n",
       "      <td>0.208418</td>\n",
       "      <td>0.005515</td>\n",
       "      <td>0.000014</td>\n",
       "      <td>0.654047</td>\n",
       "      <td>1278.683282</td>\n",
       "      <td>0.999033</td>\n",
       "    </tr>\n",
       "    <tr>\n",
       "      <th>mu__23</th>\n",
       "      <td>0.212832</td>\n",
       "      <td>0.203963</td>\n",
       "      <td>0.005576</td>\n",
       "      <td>0.000737</td>\n",
       "      <td>0.634910</td>\n",
       "      <td>1270.704063</td>\n",
       "      <td>0.999094</td>\n",
       "    </tr>\n",
       "    <tr>\n",
       "      <th>mu__10</th>\n",
       "      <td>0.187185</td>\n",
       "      <td>0.045386</td>\n",
       "      <td>0.001463</td>\n",
       "      <td>0.098485</td>\n",
       "      <td>0.269710</td>\n",
       "      <td>961.686108</td>\n",
       "      <td>1.000001</td>\n",
       "    </tr>\n",
       "    <tr>\n",
       "      <th>mu__8</th>\n",
       "      <td>0.173124</td>\n",
       "      <td>0.018845</td>\n",
       "      <td>0.000636</td>\n",
       "      <td>0.139304</td>\n",
       "      <td>0.212332</td>\n",
       "      <td>718.225902</td>\n",
       "      <td>1.000162</td>\n",
       "    </tr>\n",
       "    <tr>\n",
       "      <th>mu__18</th>\n",
       "      <td>0.169379</td>\n",
       "      <td>0.088843</td>\n",
       "      <td>0.002578</td>\n",
       "      <td>0.038302</td>\n",
       "      <td>0.338354</td>\n",
       "      <td>1103.121641</td>\n",
       "      <td>1.002104</td>\n",
       "    </tr>\n",
       "    <tr>\n",
       "      <th>mu__20</th>\n",
       "      <td>0.164634</td>\n",
       "      <td>0.162693</td>\n",
       "      <td>0.005122</td>\n",
       "      <td>0.000193</td>\n",
       "      <td>0.490035</td>\n",
       "      <td>1137.686342</td>\n",
       "      <td>0.999149</td>\n",
       "    </tr>\n",
       "    <tr>\n",
       "      <th>mu__7</th>\n",
       "      <td>0.145129</td>\n",
       "      <td>0.019054</td>\n",
       "      <td>0.000489</td>\n",
       "      <td>0.110378</td>\n",
       "      <td>0.182556</td>\n",
       "      <td>916.280709</td>\n",
       "      <td>1.000624</td>\n",
       "    </tr>\n",
       "    <tr>\n",
       "      <th>mu__14</th>\n",
       "      <td>0.080232</td>\n",
       "      <td>0.023191</td>\n",
       "      <td>0.000841</td>\n",
       "      <td>0.035249</td>\n",
       "      <td>0.124949</td>\n",
       "      <td>769.272571</td>\n",
       "      <td>1.002031</td>\n",
       "    </tr>\n",
       "    <tr>\n",
       "      <th>mu__13</th>\n",
       "      <td>0.053751</td>\n",
       "      <td>0.018447</td>\n",
       "      <td>0.000514</td>\n",
       "      <td>0.021350</td>\n",
       "      <td>0.090693</td>\n",
       "      <td>983.714079</td>\n",
       "      <td>0.999133</td>\n",
       "    </tr>\n",
       "    <tr>\n",
       "      <th>mu__16</th>\n",
       "      <td>0.038034</td>\n",
       "      <td>0.027864</td>\n",
       "      <td>0.000795</td>\n",
       "      <td>0.000823</td>\n",
       "      <td>0.094697</td>\n",
       "      <td>1222.060454</td>\n",
       "      <td>0.999467</td>\n",
       "    </tr>\n",
       "    <tr>\n",
       "      <th>mu__15</th>\n",
       "      <td>0.026535</td>\n",
       "      <td>0.014936</td>\n",
       "      <td>0.000420</td>\n",
       "      <td>0.001428</td>\n",
       "      <td>0.056079</td>\n",
       "      <td>1187.022180</td>\n",
       "      <td>0.999591</td>\n",
       "    </tr>\n",
       "  </tbody>\n",
       "</table>\n",
       "</div>"
      ],
      "text/plain": [
       "            mean        sd  mc_error   hpd_2.5  hpd_97.5        n_eff  \\\n",
       "mu__11  0.548674  0.078946  0.002384  0.414189  0.713198   844.381719   \n",
       "mu__26  0.511839  0.467653  0.014197  0.000064  1.386251   944.815125   \n",
       "mu__24  0.509633  0.432168  0.011812  0.002391  1.400582  1272.110023   \n",
       "mu__21  0.480476  0.186605  0.005488  0.141850  0.837952  1227.075740   \n",
       "mu__4   0.367883  0.012631  0.000312  0.342227  0.393208  1314.293433   \n",
       "mu__19  0.362055  0.196503  0.005811  0.053924  0.739631   958.008899   \n",
       "mu__2   0.338112  0.008267  0.000299  0.323106  0.354781   824.952664   \n",
       "mu__12  0.336977  0.058258  0.001563  0.224409  0.450573  1032.862848   \n",
       "mu__6   0.325046  0.024814  0.000854  0.274499  0.369229   840.051977   \n",
       "mu__0   0.322564  0.002237  0.000067  0.318213  0.326545  1173.397386   \n",
       "mu__1   0.317116  0.005797  0.000188  0.306009  0.328751  1017.563114   \n",
       "mu__9   0.300475  0.039821  0.001217  0.224972  0.376898  1101.922663   \n",
       "mu__3   0.294616  0.011815  0.000321  0.272633  0.318606  1095.389494   \n",
       "mu__5   0.266886  0.018081  0.000485  0.233491  0.303577  1123.541954   \n",
       "mu__17  0.261615  0.132191  0.003739  0.045529  0.502602  1284.239546   \n",
       "mu__25  0.228886  0.235481  0.007396  0.000008  0.722151  1013.636633   \n",
       "mu__22  0.222050  0.208418  0.005515  0.000014  0.654047  1278.683282   \n",
       "mu__23  0.212832  0.203963  0.005576  0.000737  0.634910  1270.704063   \n",
       "mu__10  0.187185  0.045386  0.001463  0.098485  0.269710   961.686108   \n",
       "mu__8   0.173124  0.018845  0.000636  0.139304  0.212332   718.225902   \n",
       "mu__18  0.169379  0.088843  0.002578  0.038302  0.338354  1103.121641   \n",
       "mu__20  0.164634  0.162693  0.005122  0.000193  0.490035  1137.686342   \n",
       "mu__7   0.145129  0.019054  0.000489  0.110378  0.182556   916.280709   \n",
       "mu__14  0.080232  0.023191  0.000841  0.035249  0.124949   769.272571   \n",
       "mu__13  0.053751  0.018447  0.000514  0.021350  0.090693   983.714079   \n",
       "mu__16  0.038034  0.027864  0.000795  0.000823  0.094697  1222.060454   \n",
       "mu__15  0.026535  0.014936  0.000420  0.001428  0.056079  1187.022180   \n",
       "\n",
       "            Rhat  \n",
       "mu__11  0.999140  \n",
       "mu__26  0.999053  \n",
       "mu__24  1.000545  \n",
       "mu__21  0.999460  \n",
       "mu__4   0.999038  \n",
       "mu__19  0.999004  \n",
       "mu__2   0.999757  \n",
       "mu__12  1.005347  \n",
       "mu__6   0.999788  \n",
       "mu__0   0.999025  \n",
       "mu__1   0.999007  \n",
       "mu__9   0.999195  \n",
       "mu__3   0.999090  \n",
       "mu__5   0.999767  \n",
       "mu__17  0.999069  \n",
       "mu__25  1.000496  \n",
       "mu__22  0.999033  \n",
       "mu__23  0.999094  \n",
       "mu__10  1.000001  \n",
       "mu__8   1.000162  \n",
       "mu__18  1.002104  \n",
       "mu__20  0.999149  \n",
       "mu__7   1.000624  \n",
       "mu__14  1.002031  \n",
       "mu__13  0.999133  \n",
       "mu__16  0.999467  \n",
       "mu__15  0.999591  "
      ]
     },
     "execution_count": 577,
     "metadata": {},
     "output_type": "execute_result"
    }
   ],
   "source": [
    "pm.summary(trace).sort_values(by='mean', ascending=False)"
   ]
  },
  {
   "cell_type": "code",
   "execution_count": null,
   "metadata": {},
   "outputs": [],
   "source": []
  },
  {
   "cell_type": "code",
   "execution_count": 557,
   "metadata": {},
   "outputs": [
    {
     "name": "stderr",
     "output_type": "stream",
     "text": [
      "/Users/yuki/.pyenv/versions/miniconda3-4.1.11/envs/pymc3/lib/python3.6/site-packages/matplotlib/axes/_base.py:3449: MatplotlibDeprecationWarning: \n",
      "The `ymin` argument was deprecated in Matplotlib 3.0 and will be removed in 3.2. Use `bottom` instead.\n",
      "  alternative='`bottom`', obj_type='argument')\n"
     ]
    },
    {
     "data": {
      "image/png": "[encoded data removed]",
      "text/plain": [
       "<Figure size 864x144 with 2 Axes>"
      ]
     },
     "metadata": {
      "needs_background": "light"
     },
     "output_type": "display_data"
    }
   ],
   "source": [
    "pm.traceplot(trace);"
   ]
  },
  {
   "cell_type": "code",
   "execution_count": 559,
   "metadata": {},
   "outputs": [
    {
     "data": {
      "image/png": "[encoded data removed]",
      "text/plain": [
       "<Figure size 432x288 with 2 Axes>"
      ]
     },
     "metadata": {
      "needs_background": "light"
     },
     "output_type": "display_data"
    }
   ],
   "source": [
    "pm.forestplot(trace);"
   ]
  },
  {
   "cell_type": "code",
   "execution_count": 556,
   "metadata": {},
   "outputs": [
    {
     "data": {
      "text/html": [
       "<div>\n",
       "<style scoped>\n",
       "    .dataframe tbody tr th:only-of-type {\n",
       "        vertical-align: middle;\n",
       "    }\n",
       "\n",
       "    .dataframe tbody tr th {\n",
       "        vertical-align: top;\n",
       "    }\n",
       "\n",
       "    .dataframe thead th {\n",
       "        text-align: right;\n",
       "    }\n",
       "</style>\n",
       "<table border=\"1\" class=\"dataframe\">\n",
       "  <thead>\n",
       "    <tr style=\"text-align: right;\">\n",
       "      <th></th>\n",
       "      <th>mean</th>\n",
       "      <th>sd</th>\n",
       "      <th>mc_error</th>\n",
       "      <th>hpd_2.5</th>\n",
       "      <th>hpd_97.5</th>\n",
       "      <th>n_eff</th>\n",
       "      <th>Rhat</th>\n",
       "    </tr>\n",
       "  </thead>\n",
       "  <tbody>\n",
       "    <tr>\n",
       "      <th>mu__4</th>\n",
       "      <td>17.335319</td>\n",
       "      <td>0.083497</td>\n",
       "      <td>0.002040</td>\n",
       "      <td>17.179103</td>\n",
       "      <td>17.501030</td>\n",
       "      <td>2022.914253</td>\n",
       "      <td>1.001010</td>\n",
       "    </tr>\n",
       "    <tr>\n",
       "      <th>mu__3</th>\n",
       "      <td>9.154675</td>\n",
       "      <td>0.068037</td>\n",
       "      <td>0.001424</td>\n",
       "      <td>9.019621</td>\n",
       "      <td>9.279736</td>\n",
       "      <td>2270.317197</td>\n",
       "      <td>0.999048</td>\n",
       "    </tr>\n",
       "    <tr>\n",
       "      <th>mu__2</th>\n",
       "      <td>8.653140</td>\n",
       "      <td>0.040289</td>\n",
       "      <td>0.000880</td>\n",
       "      <td>8.574257</td>\n",
       "      <td>8.735082</td>\n",
       "      <td>1953.999466</td>\n",
       "      <td>0.999365</td>\n",
       "    </tr>\n",
       "    <tr>\n",
       "      <th>mu__0</th>\n",
       "      <td>8.002117</td>\n",
       "      <td>0.010884</td>\n",
       "      <td>0.000247</td>\n",
       "      <td>7.982071</td>\n",
       "      <td>8.023765</td>\n",
       "      <td>1719.328148</td>\n",
       "      <td>0.999396</td>\n",
       "    </tr>\n",
       "    <tr>\n",
       "      <th>mu__1</th>\n",
       "      <td>7.513360</td>\n",
       "      <td>0.025189</td>\n",
       "      <td>0.000562</td>\n",
       "      <td>7.467839</td>\n",
       "      <td>7.562511</td>\n",
       "      <td>2512.753436</td>\n",
       "      <td>0.999389</td>\n",
       "    </tr>\n",
       "    <tr>\n",
       "      <th>mu__11</th>\n",
       "      <td>7.392300</td>\n",
       "      <td>0.283564</td>\n",
       "      <td>0.007008</td>\n",
       "      <td>6.836833</td>\n",
       "      <td>7.956997</td>\n",
       "      <td>2063.681565</td>\n",
       "      <td>0.999723</td>\n",
       "    </tr>\n",
       "    <tr>\n",
       "      <th>mu__5</th>\n",
       "      <td>7.169489</td>\n",
       "      <td>0.092218</td>\n",
       "      <td>0.002467</td>\n",
       "      <td>6.989563</td>\n",
       "      <td>7.339780</td>\n",
       "      <td>1609.407413</td>\n",
       "      <td>0.999299</td>\n",
       "    </tr>\n",
       "    <tr>\n",
       "      <th>mu__8</th>\n",
       "      <td>6.734393</td>\n",
       "      <td>0.123567</td>\n",
       "      <td>0.002642</td>\n",
       "      <td>6.518210</td>\n",
       "      <td>6.996302</td>\n",
       "      <td>2580.406428</td>\n",
       "      <td>0.999615</td>\n",
       "    </tr>\n",
       "    <tr>\n",
       "      <th>mu__10</th>\n",
       "      <td>5.326136</td>\n",
       "      <td>0.218884</td>\n",
       "      <td>0.004990</td>\n",
       "      <td>4.911210</td>\n",
       "      <td>5.755755</td>\n",
       "      <td>1905.809243</td>\n",
       "      <td>0.999017</td>\n",
       "    </tr>\n",
       "    <tr>\n",
       "      <th>mu__6</th>\n",
       "      <td>5.287454</td>\n",
       "      <td>0.089247</td>\n",
       "      <td>0.001916</td>\n",
       "      <td>5.096547</td>\n",
       "      <td>5.447587</td>\n",
       "      <td>2124.557537</td>\n",
       "      <td>0.999011</td>\n",
       "    </tr>\n",
       "    <tr>\n",
       "      <th>mu__7</th>\n",
       "      <td>4.214022</td>\n",
       "      <td>0.105721</td>\n",
       "      <td>0.002586</td>\n",
       "      <td>3.999858</td>\n",
       "      <td>4.415682</td>\n",
       "      <td>1903.621535</td>\n",
       "      <td>0.999039</td>\n",
       "    </tr>\n",
       "    <tr>\n",
       "      <th>mu__17</th>\n",
       "      <td>3.169926</td>\n",
       "      <td>0.406157</td>\n",
       "      <td>0.009265</td>\n",
       "      <td>2.343262</td>\n",
       "      <td>3.969078</td>\n",
       "      <td>1886.137679</td>\n",
       "      <td>1.002403</td>\n",
       "    </tr>\n",
       "    <tr>\n",
       "      <th>mu__19</th>\n",
       "      <td>3.148329</td>\n",
       "      <td>0.447009</td>\n",
       "      <td>0.013416</td>\n",
       "      <td>2.305393</td>\n",
       "      <td>4.076321</td>\n",
       "      <td>1278.314592</td>\n",
       "      <td>0.999315</td>\n",
       "    </tr>\n",
       "    <tr>\n",
       "      <th>mu__24</th>\n",
       "      <td>2.646857</td>\n",
       "      <td>0.640651</td>\n",
       "      <td>0.016178</td>\n",
       "      <td>1.500113</td>\n",
       "      <td>3.928550</td>\n",
       "      <td>1686.868634</td>\n",
       "      <td>0.999138</td>\n",
       "    </tr>\n",
       "    <tr>\n",
       "      <th>mu__9</th>\n",
       "      <td>1.736537</td>\n",
       "      <td>0.101200</td>\n",
       "      <td>0.002180</td>\n",
       "      <td>1.550885</td>\n",
       "      <td>1.940009</td>\n",
       "      <td>2176.984587</td>\n",
       "      <td>0.999323</td>\n",
       "    </tr>\n",
       "    <tr>\n",
       "      <th>mu__25</th>\n",
       "      <td>1.436435</td>\n",
       "      <td>0.425214</td>\n",
       "      <td>0.009942</td>\n",
       "      <td>0.664177</td>\n",
       "      <td>2.276354</td>\n",
       "      <td>2709.046024</td>\n",
       "      <td>0.999236</td>\n",
       "    </tr>\n",
       "    <tr>\n",
       "      <th>mu__12</th>\n",
       "      <td>1.154936</td>\n",
       "      <td>0.108665</td>\n",
       "      <td>0.002397</td>\n",
       "      <td>0.934762</td>\n",
       "      <td>1.352350</td>\n",
       "      <td>2342.930359</td>\n",
       "      <td>0.999132</td>\n",
       "    </tr>\n",
       "    <tr>\n",
       "      <th>mu__21</th>\n",
       "      <td>0.923816</td>\n",
       "      <td>0.257485</td>\n",
       "      <td>0.006586</td>\n",
       "      <td>0.481042</td>\n",
       "      <td>1.462231</td>\n",
       "      <td>1673.993267</td>\n",
       "      <td>1.000583</td>\n",
       "    </tr>\n",
       "    <tr>\n",
       "      <th>mu__26</th>\n",
       "      <td>0.897447</td>\n",
       "      <td>0.530728</td>\n",
       "      <td>0.011234</td>\n",
       "      <td>0.058095</td>\n",
       "      <td>1.926420</td>\n",
       "      <td>2101.946300</td>\n",
       "      <td>0.999035</td>\n",
       "    </tr>\n",
       "    <tr>\n",
       "      <th>mu__20</th>\n",
       "      <td>0.854528</td>\n",
       "      <td>0.327999</td>\n",
       "      <td>0.007781</td>\n",
       "      <td>0.241875</td>\n",
       "      <td>1.453225</td>\n",
       "      <td>1484.884792</td>\n",
       "      <td>0.999070</td>\n",
       "    </tr>\n",
       "    <tr>\n",
       "      <th>mu__22</th>\n",
       "      <td>0.804749</td>\n",
       "      <td>0.342567</td>\n",
       "      <td>0.007523</td>\n",
       "      <td>0.225660</td>\n",
       "      <td>1.500119</td>\n",
       "      <td>2776.974033</td>\n",
       "      <td>0.999346</td>\n",
       "    </tr>\n",
       "    <tr>\n",
       "      <th>mu__13</th>\n",
       "      <td>0.571105</td>\n",
       "      <td>0.059305</td>\n",
       "      <td>0.001406</td>\n",
       "      <td>0.448039</td>\n",
       "      <td>0.684639</td>\n",
       "      <td>1893.280418</td>\n",
       "      <td>0.999140</td>\n",
       "    </tr>\n",
       "    <tr>\n",
       "      <th>mu__14</th>\n",
       "      <td>0.480318</td>\n",
       "      <td>0.059423</td>\n",
       "      <td>0.001512</td>\n",
       "      <td>0.375591</td>\n",
       "      <td>0.596502</td>\n",
       "      <td>1724.675988</td>\n",
       "      <td>0.999270</td>\n",
       "    </tr>\n",
       "    <tr>\n",
       "      <th>mu__18</th>\n",
       "      <td>0.468056</td>\n",
       "      <td>0.130158</td>\n",
       "      <td>0.003010</td>\n",
       "      <td>0.248594</td>\n",
       "      <td>0.744922</td>\n",
       "      <td>1794.610616</td>\n",
       "      <td>0.999013</td>\n",
       "    </tr>\n",
       "    <tr>\n",
       "      <th>mu__15</th>\n",
       "      <td>0.402885</td>\n",
       "      <td>0.062742</td>\n",
       "      <td>0.001613</td>\n",
       "      <td>0.291643</td>\n",
       "      <td>0.519250</td>\n",
       "      <td>1400.946349</td>\n",
       "      <td>1.000407</td>\n",
       "    </tr>\n",
       "    <tr>\n",
       "      <th>mu__16</th>\n",
       "      <td>0.333003</td>\n",
       "      <td>0.083050</td>\n",
       "      <td>0.001875</td>\n",
       "      <td>0.170414</td>\n",
       "      <td>0.482512</td>\n",
       "      <td>2137.557241</td>\n",
       "      <td>0.999001</td>\n",
       "    </tr>\n",
       "    <tr>\n",
       "      <th>mu__23</th>\n",
       "      <td>0.230561</td>\n",
       "      <td>0.211753</td>\n",
       "      <td>0.005536</td>\n",
       "      <td>0.000027</td>\n",
       "      <td>0.683862</td>\n",
       "      <td>1421.321503</td>\n",
       "      <td>0.999020</td>\n",
       "    </tr>\n",
       "  </tbody>\n",
       "</table>\n",
       "</div>"
      ],
      "text/plain": [
       "             mean        sd  mc_error    hpd_2.5   hpd_97.5        n_eff  \\\n",
       "mu__4   17.335319  0.083497  0.002040  17.179103  17.501030  2022.914253   \n",
       "mu__3    9.154675  0.068037  0.001424   9.019621   9.279736  2270.317197   \n",
       "mu__2    8.653140  0.040289  0.000880   8.574257   8.735082  1953.999466   \n",
       "mu__0    8.002117  0.010884  0.000247   7.982071   8.023765  1719.328148   \n",
       "mu__1    7.513360  0.025189  0.000562   7.467839   7.562511  2512.753436   \n",
       "mu__11   7.392300  0.283564  0.007008   6.836833   7.956997  2063.681565   \n",
       "mu__5    7.169489  0.092218  0.002467   6.989563   7.339780  1609.407413   \n",
       "mu__8    6.734393  0.123567  0.002642   6.518210   6.996302  2580.406428   \n",
       "mu__10   5.326136  0.218884  0.004990   4.911210   5.755755  1905.809243   \n",
       "mu__6    5.287454  0.089247  0.001916   5.096547   5.447587  2124.557537   \n",
       "mu__7    4.214022  0.105721  0.002586   3.999858   4.415682  1903.621535   \n",
       "mu__17   3.169926  0.406157  0.009265   2.343262   3.969078  1886.137679   \n",
       "mu__19   3.148329  0.447009  0.013416   2.305393   4.076321  1278.314592   \n",
       "mu__24   2.646857  0.640651  0.016178   1.500113   3.928550  1686.868634   \n",
       "mu__9    1.736537  0.101200  0.002180   1.550885   1.940009  2176.984587   \n",
       "mu__25   1.436435  0.425214  0.009942   0.664177   2.276354  2709.046024   \n",
       "mu__12   1.154936  0.108665  0.002397   0.934762   1.352350  2342.930359   \n",
       "mu__21   0.923816  0.257485  0.006586   0.481042   1.462231  1673.993267   \n",
       "mu__26   0.897447  0.530728  0.011234   0.058095   1.926420  2101.946300   \n",
       "mu__20   0.854528  0.327999  0.007781   0.241875   1.453225  1484.884792   \n",
       "mu__22   0.804749  0.342567  0.007523   0.225660   1.500119  2776.974033   \n",
       "mu__13   0.571105  0.059305  0.001406   0.448039   0.684639  1893.280418   \n",
       "mu__14   0.480318  0.059423  0.001512   0.375591   0.596502  1724.675988   \n",
       "mu__18   0.468056  0.130158  0.003010   0.248594   0.744922  1794.610616   \n",
       "mu__15   0.402885  0.062742  0.001613   0.291643   0.519250  1400.946349   \n",
       "mu__16   0.333003  0.083050  0.001875   0.170414   0.482512  2137.557241   \n",
       "mu__23   0.230561  0.211753  0.005536   0.000027   0.683862  1421.321503   \n",
       "\n",
       "            Rhat  \n",
       "mu__4   1.001010  \n",
       "mu__3   0.999048  \n",
       "mu__2   0.999365  \n",
       "mu__0   0.999396  \n",
       "mu__1   0.999389  \n",
       "mu__11  0.999723  \n",
       "mu__5   0.999299  \n",
       "mu__8   0.999615  \n",
       "mu__10  0.999017  \n",
       "mu__6   0.999011  \n",
       "mu__7   0.999039  \n",
       "mu__17  1.002403  \n",
       "mu__19  0.999315  \n",
       "mu__24  0.999138  \n",
       "mu__9   0.999323  \n",
       "mu__25  0.999236  \n",
       "mu__12  0.999132  \n",
       "mu__21  1.000583  \n",
       "mu__26  0.999035  \n",
       "mu__20  0.999070  \n",
       "mu__22  0.999346  \n",
       "mu__13  0.999140  \n",
       "mu__14  0.999270  \n",
       "mu__18  0.999013  \n",
       "mu__15  1.000407  \n",
       "mu__16  0.999001  \n",
       "mu__23  0.999020  "
      ]
     },
     "execution_count": 556,
     "metadata": {},
     "output_type": "execute_result"
    }
   ],
   "source": [
    "pm.summary(trace).sort_values(by='mean', ascending=False)"
   ]
  },
  {
   "cell_type": "code",
   "execution_count": 560,
   "metadata": {},
   "outputs": [
    {
     "name": "stderr",
     "output_type": "stream",
     "text": [
      "/Users/yuki/.pyenv/versions/miniconda3-4.1.11/envs/pymc3/lib/python3.6/site-packages/ipykernel_launcher.py:2: DeprecationWarning: sample_ppc() is deprecated.  Please use sample_posterior_predictive()\n",
      "  \n",
      "100%|██████████| 1000/1000 [00:27<00:00, 36.00it/s]\n"
     ]
    }
   ],
   "source": [
    "with model:\n",
    "    ppc = pm.sample_ppc(trace)"
   ]
  },
  {
   "cell_type": "code",
   "execution_count": 566,
   "metadata": {},
   "outputs": [
    {
     "data": {
      "text/plain": [
       "(array([4.6380e+03, 2.3330e+04, 4.2408e+04, 1.2774e+04, 3.6300e+03,\n",
       "        7.1300e+02, 3.9900e+02, 7.4000e+01, 1.9000e+01, 1.0000e+00]),\n",
       " array([ 0. ,  3.5,  7. , 10.5, 14. , 17.5, 21. , 24.5, 28. , 31.5, 35. ]),\n",
       " <a list of 10 Patch objects>)"
      ]
     },
     "execution_count": 566,
     "metadata": {},
     "output_type": "execute_result"
    },
    {
     "data": {
      "image/png": "[encoded data removed]",
      "text/plain": [
       "<Figure size 432x288 with 1 Axes>"
      ]
     },
     "metadata": {
      "needs_background": "light"
     },
     "output_type": "display_data"
    }
   ],
   "source": [
    "plt.hist(ppc[\"obs\"][0])"
   ]
  },
  {
   "cell_type": "code",
   "execution_count": null,
   "metadata": {},
   "outputs": [],
   "source": []
  },
  {
   "cell_type": "code",
   "execution_count": null,
   "metadata": {},
   "outputs": [],
   "source": []
  },
  {
   "cell_type": "code",
   "execution_count": 508,
   "metadata": {},
   "outputs": [],
   "source": [
    "with pm.Model() as model:\n",
    "    mu = pm.HalfNormal(\"mu\", sd=1, shape=len(df[\"has_digit\"].unique()))\n",
    "    obs = pm.Poisson(\"obs\", mu=mu[df[\"has_digit\"].values], observed=df[\"likes_count\"].values, shape=2)\n",
    "#     trace = pm.sample()"
   ]
  },
  {
   "cell_type": "code",
   "execution_count": 509,
   "metadata": {},
   "outputs": [
    {
     "data": {
      "text/latex": [
       "$$\n",
       "            \\begin{array}{rcl}\n",
       "            \\text{mu} &\\sim & \\text{HalfNormal}(\\mathit{sd}=1.0)\\\\\\text{obs} &\\sim & \\text{Poisson}(\\mathit{mu}=f(\\text{mu},~array))\n",
       "            \\end{array}\n",
       "            $$"
      ],
      "text/plain": [
       "<pymc3.model.Model at 0x12f6a5240>"
      ]
     },
     "execution_count": 509,
     "metadata": {},
     "output_type": "execute_result"
    }
   ],
   "source": [
    "model"
   ]
  },
  {
   "cell_type": "code",
   "execution_count": 510,
   "metadata": {},
   "outputs": [
    {
     "name": "stderr",
     "output_type": "stream",
     "text": [
      "Auto-assigning NUTS sampler...\n",
      "Initializing NUTS using jitter+adapt_diag...\n",
      "Multiprocess sampling (2 chains in 2 jobs)\n",
      "NUTS: [mu]\n",
      "Sampling 2 chains: 100%|██████████| 2000/2000 [00:27<00:00, 73.96draws/s] \n",
      "The acceptance probability does not match the target. It is 0.892120777325306, but should be close to 0.8. Try to increase the number of tuning steps.\n",
      "The acceptance probability does not match the target. It is 0.8883217536928478, but should be close to 0.8. Try to increase the number of tuning steps.\n"
     ]
    }
   ],
   "source": [
    "with model:\n",
    "    trace = pm.sample()\n",
    "#     vi_fit = pm.fit()\n",
    "#     vi_trace = vi_fit.sample(2000)"
   ]
  },
  {
   "cell_type": "code",
   "execution_count": null,
   "metadata": {},
   "outputs": [],
   "source": []
  },
  {
   "cell_type": "code",
   "execution_count": 511,
   "metadata": {},
   "outputs": [
    {
     "name": "stderr",
     "output_type": "stream",
     "text": [
      "/Users/yuki/.pyenv/versions/miniconda3-4.1.11/envs/pymc3/lib/python3.6/site-packages/matplotlib/axes/_base.py:3449: MatplotlibDeprecationWarning: \n",
      "The `ymin` argument was deprecated in Matplotlib 3.0 and will be removed in 3.2. Use `bottom` instead.\n",
      "  alternative='`bottom`', obj_type='argument')\n"
     ]
    },
    {
     "data": {
      "image/png": "[encoded data removed]",
      "text/plain": [
       "<Figure size 864x144 with 2 Axes>"
      ]
     },
     "metadata": {
      "needs_background": "light"
     },
     "output_type": "display_data"
    }
   ],
   "source": [
    "pm.traceplot(trace);"
   ]
  },
  {
   "cell_type": "code",
   "execution_count": 517,
   "metadata": {},
   "outputs": [
    {
     "data": {
      "image/png": "[encoded data removed]",
      "text/plain": [
       "<Figure size 432x288 with 2 Axes>"
      ]
     },
     "metadata": {
      "needs_background": "light"
     },
     "output_type": "display_data"
    }
   ],
   "source": [
    "pm.forestplot(trace);"
   ]
  },
  {
   "cell_type": "code",
   "execution_count": 512,
   "metadata": {},
   "outputs": [
    {
     "data": {
      "text/html": [
       "<div>\n",
       "<style scoped>\n",
       "    .dataframe tbody tr th:only-of-type {\n",
       "        vertical-align: middle;\n",
       "    }\n",
       "\n",
       "    .dataframe tbody tr th {\n",
       "        vertical-align: top;\n",
       "    }\n",
       "\n",
       "    .dataframe thead th {\n",
       "        text-align: right;\n",
       "    }\n",
       "</style>\n",
       "<table border=\"1\" class=\"dataframe\">\n",
       "  <thead>\n",
       "    <tr style=\"text-align: right;\">\n",
       "      <th></th>\n",
       "      <th>mean</th>\n",
       "      <th>sd</th>\n",
       "      <th>mc_error</th>\n",
       "      <th>hpd_2.5</th>\n",
       "      <th>hpd_97.5</th>\n",
       "      <th>n_eff</th>\n",
       "      <th>Rhat</th>\n",
       "    </tr>\n",
       "  </thead>\n",
       "  <tbody>\n",
       "    <tr>\n",
       "      <th>mu__0</th>\n",
       "      <td>8.001984</td>\n",
       "      <td>0.01027</td>\n",
       "      <td>0.000302</td>\n",
       "      <td>7.983030</td>\n",
       "      <td>8.021989</td>\n",
       "      <td>1020.720414</td>\n",
       "      <td>0.999568</td>\n",
       "    </tr>\n",
       "    <tr>\n",
       "      <th>mu__1</th>\n",
       "      <td>8.540561</td>\n",
       "      <td>0.01945</td>\n",
       "      <td>0.000585</td>\n",
       "      <td>8.502789</td>\n",
       "      <td>8.575482</td>\n",
       "      <td>1037.013359</td>\n",
       "      <td>0.999119</td>\n",
       "    </tr>\n",
       "  </tbody>\n",
       "</table>\n",
       "</div>"
      ],
      "text/plain": [
       "           mean       sd  mc_error   hpd_2.5  hpd_97.5        n_eff      Rhat\n",
       "mu__0  8.001984  0.01027  0.000302  7.983030  8.021989  1020.720414  0.999568\n",
       "mu__1  8.540561  0.01945  0.000585  8.502789  8.575482  1037.013359  0.999119"
      ]
     },
     "execution_count": 512,
     "metadata": {},
     "output_type": "execute_result"
    }
   ],
   "source": [
    "pm.summary(trace)"
   ]
  },
  {
   "cell_type": "code",
   "execution_count": 528,
   "metadata": {},
   "outputs": [
    {
     "data": {
      "text/plain": [
       "(array([  3.,  16.,  65., 139., 208., 253., 210.,  80.,  18.,   8.]),\n",
       " array([8.47472431, 8.48742914, 8.50013398, 8.51283881, 8.52554364,\n",
       "        8.53824847, 8.5509533 , 8.56365813, 8.57636296, 8.58906779,\n",
       "        8.60177262]),\n",
       " <a list of 10 Patch objects>)"
      ]
     },
     "execution_count": 528,
     "metadata": {},
     "output_type": "execute_result"
    },
    {
     "data": {
      "image/png": "[encoded data removed]",
      "text/plain": [
       "<Figure size 432x288 with 1 Axes>"
      ]
     },
     "metadata": {
      "needs_background": "light"
     },
     "output_type": "display_data"
    }
   ],
   "source": [
    "plt.hist(trace[\"mu\"].T[0])\n",
    "plt.hist(trace[\"mu\"].T[1])"
   ]
  },
  {
   "cell_type": "code",
   "execution_count": null,
   "metadata": {},
   "outputs": [],
   "source": []
  },
  {
   "cell_type": "code",
   "execution_count": null,
   "metadata": {},
   "outputs": [],
   "source": []
  },
  {
   "cell_type": "code",
   "execution_count": null,
   "metadata": {},
   "outputs": [],
   "source": []
  },
  {
   "cell_type": "code",
   "execution_count": 513,
   "metadata": {},
   "outputs": [
    {
     "name": "stderr",
     "output_type": "stream",
     "text": [
      "/Users/yuki/.pyenv/versions/miniconda3-4.1.11/envs/pymc3/lib/python3.6/site-packages/ipykernel_launcher.py:2: DeprecationWarning: sample_ppc() is deprecated.  Please use sample_posterior_predictive()\n",
      "  \n",
      "100%|██████████| 1000/1000 [00:30<00:00, 32.99it/s]\n"
     ]
    }
   ],
   "source": [
    "with model:\n",
    "    ppc = pm.sample_ppc(trace)"
   ]
  },
  {
   "cell_type": "code",
   "execution_count": 516,
   "metadata": {},
   "outputs": [
    {
     "data": {
      "text/plain": [
       "(1000, 87990)"
      ]
     },
     "execution_count": 516,
     "metadata": {},
     "output_type": "execute_result"
    }
   ],
   "source": [
    "ppc[\"obs\"].shape"
   ]
  },
  {
   "cell_type": "code",
   "execution_count": null,
   "metadata": {},
   "outputs": [],
   "source": []
  },
  {
   "cell_type": "code",
   "execution_count": 507,
   "metadata": {},
   "outputs": [
    {
     "data": {
      "text/plain": [
       "array([8.01541846, 8.57966168])"
      ]
     },
     "execution_count": 507,
     "metadata": {},
     "output_type": "execute_result"
    }
   ],
   "source": [
    "trace[\"mu\"][0]"
   ]
  },
  {
   "cell_type": "code",
   "execution_count": null,
   "metadata": {},
   "outputs": [],
   "source": []
  },
  {
   "cell_type": "code",
   "execution_count": null,
   "metadata": {},
   "outputs": [],
   "source": []
  },
  {
   "cell_type": "code",
   "execution_count": 493,
   "metadata": {},
   "outputs": [
    {
     "data": {
      "text/plain": [
       "(2000, 87990)"
      ]
     },
     "execution_count": 493,
     "metadata": {},
     "output_type": "execute_result"
    }
   ],
   "source": [
    "ppc[\"obs\"].shape"
   ]
  },
  {
   "cell_type": "code",
   "execution_count": 497,
   "metadata": {},
   "outputs": [
    {
     "data": {
      "text/plain": [
       "array([ 8, 13,  7, ...,  6,  7,  3])"
      ]
     },
     "execution_count": 497,
     "metadata": {},
     "output_type": "execute_result"
    }
   ],
   "source": [
    "ppc['obs'][10]"
   ]
  },
  {
   "cell_type": "code",
   "execution_count": 481,
   "metadata": {},
   "outputs": [
    {
     "data": {
      "text/plain": [
       "(87990,)"
      ]
     },
     "execution_count": 481,
     "metadata": {},
     "output_type": "execute_result"
    }
   ],
   "source": [
    "ppc['obs'][0].shape"
   ]
  },
  {
   "cell_type": "code",
   "execution_count": 483,
   "metadata": {},
   "outputs": [
    {
     "data": {
      "text/plain": [
       "(array([1.0750e+03, 7.0350e+03, 3.0064e+04, 2.3271e+04, 1.5724e+04,\n",
       "        9.0050e+03, 1.4180e+03, 3.6100e+02, 3.4000e+01, 3.0000e+00]),\n",
       " array([ 0. ,  2.4,  4.8,  7.2,  9.6, 12. , 14.4, 16.8, 19.2, 21.6, 24. ]),\n",
       " <a list of 10 Patch objects>)"
      ]
     },
     "execution_count": 483,
     "metadata": {},
     "output_type": "execute_result"
    },
    {
     "data": {
      "image/png": "[encoded data removed]",
      "text/plain": [
       "<Figure size 432x288 with 1 Axes>"
      ]
     },
     "metadata": {
      "needs_background": "light"
     },
     "output_type": "display_data"
    }
   ],
   "source": [
    "plt.hist(ppc['obs'][1])"
   ]
  },
  {
   "cell_type": "code",
   "execution_count": 482,
   "metadata": {},
   "outputs": [
    {
     "data": {
      "text/plain": [
       "(array([1.1220e+03, 7.0810e+03, 2.9807e+04, 2.3225e+04, 1.5920e+04,\n",
       "        9.0630e+03, 1.4090e+03, 3.3400e+02, 2.5000e+01, 4.0000e+00]),\n",
       " array([ 0. ,  2.4,  4.8,  7.2,  9.6, 12. , 14.4, 16.8, 19.2, 21.6, 24. ]),\n",
       " <a list of 10 Patch objects>)"
      ]
     },
     "execution_count": 482,
     "metadata": {},
     "output_type": "execute_result"
    },
    {
     "data": {
      "image/png": "[encoded data removed]",
      "text/plain": [
       "<Figure size 432x288 with 1 Axes>"
      ]
     },
     "metadata": {
      "needs_background": "light"
     },
     "output_type": "display_data"
    }
   ],
   "source": [
    "plt.hist(ppc['obs'][0])"
   ]
  },
  {
   "cell_type": "code",
   "execution_count": null,
   "metadata": {},
   "outputs": [],
   "source": []
  },
  {
   "cell_type": "code",
   "execution_count": 465,
   "metadata": {},
   "outputs": [
    {
     "data": {
      "image/png": "[encoded data removed]",
      "text/plain": [
       "<Figure size 864x144 with 2 Axes>"
      ]
     },
     "metadata": {
      "needs_background": "light"
     },
     "output_type": "display_data"
    }
   ],
   "source": [
    "pm.traceplot(vi_trace);"
   ]
  },
  {
   "cell_type": "code",
   "execution_count": 466,
   "metadata": {},
   "outputs": [
    {
     "data": {
      "text/html": [
       "<div>\n",
       "<style scoped>\n",
       "    .dataframe tbody tr th:only-of-type {\n",
       "        vertical-align: middle;\n",
       "    }\n",
       "\n",
       "    .dataframe tbody tr th {\n",
       "        vertical-align: top;\n",
       "    }\n",
       "\n",
       "    .dataframe thead th {\n",
       "        text-align: right;\n",
       "    }\n",
       "</style>\n",
       "<table border=\"1\" class=\"dataframe\">\n",
       "  <thead>\n",
       "    <tr style=\"text-align: right;\">\n",
       "      <th></th>\n",
       "      <th>mean</th>\n",
       "      <th>sd</th>\n",
       "      <th>mc_error</th>\n",
       "      <th>hpd_2.5</th>\n",
       "      <th>hpd_97.5</th>\n",
       "    </tr>\n",
       "  </thead>\n",
       "  <tbody>\n",
       "    <tr>\n",
       "      <th>mu__0</th>\n",
       "      <td>2.190561</td>\n",
       "      <td>0.583016</td>\n",
       "      <td>0.014203</td>\n",
       "      <td>1.103882</td>\n",
       "      <td>3.371471</td>\n",
       "    </tr>\n",
       "    <tr>\n",
       "      <th>mu__1</th>\n",
       "      <td>2.209112</td>\n",
       "      <td>0.568474</td>\n",
       "      <td>0.012967</td>\n",
       "      <td>1.106001</td>\n",
       "      <td>3.328382</td>\n",
       "    </tr>\n",
       "  </tbody>\n",
       "</table>\n",
       "</div>"
      ],
      "text/plain": [
       "           mean        sd  mc_error   hpd_2.5  hpd_97.5\n",
       "mu__0  2.190561  0.583016  0.014203  1.103882  3.371471\n",
       "mu__1  2.209112  0.568474  0.012967  1.106001  3.328382"
      ]
     },
     "execution_count": 466,
     "metadata": {},
     "output_type": "execute_result"
    }
   ],
   "source": [
    "pm.summary(vi_trace)"
   ]
  },
  {
   "cell_type": "code",
   "execution_count": null,
   "metadata": {},
   "outputs": [],
   "source": []
  },
  {
   "cell_type": "code",
   "execution_count": 459,
   "metadata": {},
   "outputs": [
    {
     "name": "stderr",
     "output_type": "stream",
     "text": [
      "/Users/yuki/.pyenv/versions/miniconda3-4.1.11/envs/pymc3/lib/python3.6/site-packages/matplotlib/axes/_base.py:3449: MatplotlibDeprecationWarning: \n",
      "The `ymin` argument was deprecated in Matplotlib 3.0 and will be removed in 3.2. Use `bottom` instead.\n",
      "  alternative='`bottom`', obj_type='argument')\n"
     ]
    },
    {
     "data": {
      "image/png": "[encoded data removed]",
      "text/plain": [
       "<Figure size 864x144 with 2 Axes>"
      ]
     },
     "metadata": {
      "needs_background": "light"
     },
     "output_type": "display_data"
    }
   ],
   "source": [
    "pm.traceplot(vi_trace);"
   ]
  },
  {
   "cell_type": "code",
   "execution_count": 460,
   "metadata": {},
   "outputs": [
    {
     "data": {
      "text/html": [
       "<div>\n",
       "<style scoped>\n",
       "    .dataframe tbody tr th:only-of-type {\n",
       "        vertical-align: middle;\n",
       "    }\n",
       "\n",
       "    .dataframe tbody tr th {\n",
       "        vertical-align: top;\n",
       "    }\n",
       "\n",
       "    .dataframe thead th {\n",
       "        text-align: right;\n",
       "    }\n",
       "</style>\n",
       "<table border=\"1\" class=\"dataframe\">\n",
       "  <thead>\n",
       "    <tr style=\"text-align: right;\">\n",
       "      <th></th>\n",
       "      <th>mean</th>\n",
       "      <th>sd</th>\n",
       "      <th>mc_error</th>\n",
       "      <th>hpd_2.5</th>\n",
       "      <th>hpd_97.5</th>\n",
       "    </tr>\n",
       "  </thead>\n",
       "  <tbody>\n",
       "    <tr>\n",
       "      <th>mu__0</th>\n",
       "      <td>0.387808</td>\n",
       "      <td>0.236436</td>\n",
       "      <td>0.005609</td>\n",
       "      <td>-0.043311</td>\n",
       "      <td>0.869763</td>\n",
       "    </tr>\n",
       "    <tr>\n",
       "      <th>mu__1</th>\n",
       "      <td>0.372050</td>\n",
       "      <td>0.221821</td>\n",
       "      <td>0.005175</td>\n",
       "      <td>-0.045529</td>\n",
       "      <td>0.809979</td>\n",
       "    </tr>\n",
       "  </tbody>\n",
       "</table>\n",
       "</div>"
      ],
      "text/plain": [
       "           mean        sd  mc_error   hpd_2.5  hpd_97.5\n",
       "mu__0  0.387808  0.236436  0.005609 -0.043311  0.869763\n",
       "mu__1  0.372050  0.221821  0.005175 -0.045529  0.809979"
      ]
     },
     "execution_count": 460,
     "metadata": {},
     "output_type": "execute_result"
    }
   ],
   "source": [
    "pm.summary(vi_trace)"
   ]
  },
  {
   "cell_type": "code",
   "execution_count": null,
   "metadata": {},
   "outputs": [],
   "source": []
  },
  {
   "cell_type": "code",
   "execution_count": 461,
   "metadata": {},
   "outputs": [
    {
     "data": {
      "text/plain": [
       "(array([ 26.,  89., 217., 439., 492., 428., 220.,  72.,  15.,   2.]),\n",
       " array([-0.27738703, -0.13193794,  0.01351115,  0.15896024,  0.30440933,\n",
       "         0.44985842,  0.59530751,  0.74075661,  0.8862057 ,  1.03165479,\n",
       "         1.17710388]),\n",
       " <a list of 10 Patch objects>)"
      ]
     },
     "execution_count": 461,
     "metadata": {},
     "output_type": "execute_result"
    },
    {
     "data": {
      "image/png": "[encoded data removed]",
      "text/plain": [
       "<Figure size 864x576 with 1 Axes>"
      ]
     },
     "metadata": {
      "needs_background": "light"
     },
     "output_type": "display_data"
    }
   ],
   "source": [
    "plt.figure(figsize=(12, 8))\n",
    "plt.hist(np.array(vi_trace[\"mu\"]).T[0])\n",
    "plt.hist(np.array(vi_trace[\"mu\"]).T[1], alpha=0.5)"
   ]
  },
  {
   "cell_type": "code",
   "execution_count": null,
   "metadata": {},
   "outputs": [],
   "source": []
  },
  {
   "cell_type": "code",
   "execution_count": 452,
   "metadata": {
    "scrolled": true
   },
   "outputs": [
    {
     "data": {
      "text/plain": [
       "array([ 0.06414121,  0.54576125,  0.62380323,  0.78577293,  0.22557535,\n",
       "        0.4811728 ,  0.80420962,  0.54667956,  0.45717384, -0.16888543,\n",
       "       -0.2033618 ,  0.07850365, -0.03425633,  0.62733177,  0.68464336,\n",
       "        0.84410739,  0.30965208,  0.22547841,  0.45741988,  0.51838446,\n",
       "       -0.03751038,  0.47706274,  0.03473148,  0.31500875,  0.464345  ,\n",
       "        0.03368954,  0.29031941,  0.68558771,  0.15973629,  0.52868239,\n",
       "        0.34226347,  0.08097019,  0.75299164,  0.30581821,  0.32715324,\n",
       "        0.50840373,  0.2460359 ,  0.38910677,  0.46847294, -0.07436036,\n",
       "        0.31869776,  0.6906851 ,  0.07118634,  0.42225922, -0.07216355,\n",
       "        0.40998658,  0.20374288,  0.59817196,  0.04281564,  0.65380316,\n",
       "        0.57390537,  0.65658017,  0.22448205,  0.41676664,  0.30466543,\n",
       "        0.37273374,  0.49604209,  0.22737568,  0.2838783 , -0.17050996,\n",
       "        0.46468289,  0.36594699,  0.52146257,  0.39226183,  0.54692457,\n",
       "        0.47732677,  0.13320045,  0.44093247,  0.15456664, -0.07902216,\n",
       "        0.28992633, -0.11608344,  0.70301431,  0.86458009,  0.32928336,\n",
       "        0.38269445,  0.3337345 ,  0.42767832,  0.50506265,  0.27918059,\n",
       "        0.30974979,  0.45665754,  1.07888751,  0.34335715,  0.26149218,\n",
       "        0.6584431 ,  0.54386561,  0.44301747, -0.04536395,  0.33785059,\n",
       "        0.38796923,  0.27708444,  0.48110081,  0.22779832,  0.44674211,\n",
       "        0.10298206,  0.60743939,  0.04024479,  0.23885922,  0.75194223,\n",
       "        0.50895151,  0.32008263,  0.22887556,  0.62154396,  0.40409755,\n",
       "        0.57738969,  0.03314157,  0.1978528 ,  0.36160039,  0.53865424,\n",
       "        0.54004762,  0.46167721,  0.25980147,  0.30486014,  0.38771308,\n",
       "        0.11859825,  0.66078904,  0.11920437,  0.81665494,  0.38959587,\n",
       "        0.52113221,  0.49419189,  0.37417939,  0.65544526, -0.02110268,\n",
       "        0.49690628,  0.57428888,  0.45257805,  0.12728309,  0.36932585,\n",
       "        0.30217017,  0.69727812,  0.40949781,  0.23650067,  0.378413  ,\n",
       "        0.75648555,  0.57416566, -0.02903677,  0.24714485,  0.3466666 ,\n",
       "        0.22436831,  0.6921    ,  0.31035557,  0.34882704,  0.72181387,\n",
       "        0.51203016,  0.4216085 ,  0.29014347,  0.3039732 ,  0.60074497,\n",
       "        0.24235624,  0.7749606 ,  0.09196797,  0.75375746,  0.51390822,\n",
       "        0.73675272,  0.10525401,  0.57684163,  0.14397329,  0.38804544,\n",
       "        0.37964142, -0.08582604,  0.23813045,  0.49719129,  0.38754966,\n",
       "        0.61897674,  0.31689124,  0.58359659,  0.14112503,  0.5531917 ,\n",
       "        0.38703451,  0.4191696 ,  0.40602885,  0.3974867 ,  0.22448679,\n",
       "        0.31547029,  0.68545955,  0.67439805,  0.45746602, -0.07796836,\n",
       "        0.72150382,  0.356826  ,  0.52954282,  0.1840589 ,  0.30939271,\n",
       "        0.42579805,  0.45903432,  0.25692284,  0.25182891,  0.54635572,\n",
       "        0.62741149,  0.53016659,  0.36713938,  0.49064599,  0.15957127,\n",
       "        0.09083196,  0.39194858,  0.30885958,  0.13754371,  0.70489735,\n",
       "        0.19098411,  0.49887633,  0.33660763,  0.34723657,  0.67491228,\n",
       "        0.36048067,  0.72599316,  0.40112258,  0.81597258,  0.4766733 ,\n",
       "        0.31602441,  0.33486304,  0.61196256,  0.3594067 , -0.12046771,\n",
       "        0.62077659,  0.16010488,  0.66180337,  0.55103255, -0.11492469,\n",
       "        0.37896258,  0.02344909,  0.73354558, -0.03797092, -0.2157119 ,\n",
       "        0.34581576,  0.25995222,  0.08052566,  0.20515783,  0.27223165,\n",
       "       -0.12705256, -0.11043707,  0.0850626 ,  0.2622797 ,  0.2278949 ,\n",
       "        0.16848095,  0.47406838,  0.79826468,  0.32862831,  0.64437761,\n",
       "        0.30767487,  0.05515425,  0.01068968,  0.17765797,  0.31597692,\n",
       "        0.24404387,  0.37669728,  0.88804097,  0.10480369,  0.26604236,\n",
       "        0.51592066,  0.41427158,  0.26014079,  0.51573699,  0.0436143 ,\n",
       "        0.22715176,  0.38332823,  0.05054562,  0.32174493,  0.19795389,\n",
       "        0.09927776,  0.69249294,  0.31921755,  0.46893085,  0.24423104,\n",
       "        0.35343509,  0.8629985 , -0.05990744,  0.87463494,  0.67284577,\n",
       "        0.07058189,  0.28059838,  0.01332427,  0.62912375,  0.61525251,\n",
       "        0.09726866,  0.14902345,  0.22504933,  0.18889451,  0.65695285,\n",
       "        0.50676673,  0.8762811 ,  0.78992609,  0.86320575,  0.116259  ,\n",
       "        0.39324483,  0.74161542,  0.27516226,  0.75132972,  0.34981641,\n",
       "        0.21494853,  0.55743059,  0.81260108, -0.19168768,  0.14258879,\n",
       "       -0.09632701,  0.30788399,  0.3758943 ,  0.63830246,  0.3450725 ,\n",
       "        0.61357277, -0.20776891,  0.30067606,  0.44199221,  0.14787931,\n",
       "        0.30039002,  0.36310075,  0.41609981,  0.34589241,  0.79943942,\n",
       "        0.25352399,  0.36000227,  0.60314084,  0.6310955 ,  0.56817651,\n",
       "        0.36700265,  0.66635903,  0.32581105, -0.0286211 , -0.1516545 ,\n",
       "        0.2509423 ,  0.53668934,  0.10006429,  0.44328274,  0.59358826,\n",
       "        0.35245851,  0.95865289,  0.4758966 ,  0.66121417,  0.16807807,\n",
       "        0.49404446,  0.30671377,  0.23104105,  0.3488708 ,  0.38931366,\n",
       "        0.25872623,  0.56675583,  0.30771037,  0.63169018,  0.27245696,\n",
       "        0.41718573,  0.48909963,  0.03264527,  0.24717468,  0.60264659,\n",
       "        0.71824526,  0.31325423,  0.49706282,  0.38790617,  0.30629775,\n",
       "        0.23559204,  0.03524412,  0.07871695,  0.51346375,  0.46673341,\n",
       "        0.56210013,  0.63131968,  0.41429184,  0.24284046,  0.25786348,\n",
       "        0.3680561 ,  0.53234807,  0.47197652,  0.64967955,  0.51405977,\n",
       "        0.21132967,  0.2366574 ,  0.23686933,  0.31336521,  0.19379145,\n",
       "        0.04789451,  0.35370993,  0.45284449,  0.07486637,  0.36498247,\n",
       "        0.34909828,  0.44996997,  0.29156265,  0.42345406,  0.15157183,\n",
       "        0.18453989, -0.01185397,  0.00162326,  0.43855653,  0.47389931,\n",
       "        0.38597811,  0.40713529,  0.52142136,  0.30037285,  0.45925704,\n",
       "        0.30962104,  0.68883571,  0.56542902,  0.62734079,  0.4412407 ,\n",
       "        0.35865328,  0.29907396,  0.4291443 ,  0.39070567,  0.50871803,\n",
       "        0.56471642,  0.69748788,  0.05897141,  0.78460398,  0.15049402,\n",
       "        0.00204787,  0.97887249,  0.12401709,  0.32663202,  0.34875995,\n",
       "        0.2877608 ,  0.3620342 ,  0.31989136,  0.23526577,  0.48854246,\n",
       "        0.34472551,  0.72663812,  0.59522961,  0.26461199,  0.43606368,\n",
       "        0.06505969,  0.29563143,  0.02266477,  0.45602711,  0.42161082,\n",
       "        0.31577872,  0.4239436 ,  0.5575632 ,  0.47133895,  0.83683088,\n",
       "        0.25984624,  0.36064414,  0.74270458,  0.09784865,  0.8237466 ,\n",
       "        0.34205654,  0.35159957,  0.64466564,  0.218758  ,  0.25412   ,\n",
       "        0.24658252,  0.37974399,  0.39652502,  0.3145474 ,  0.51483913,\n",
       "        0.40208694,  0.2979922 ,  0.33166376,  0.73221333,  0.41448574,\n",
       "        0.7042228 ,  0.14607163,  0.35721014, -0.00349887,  0.35810962,\n",
       "        0.22753567,  0.2746117 ,  0.23240709,  0.45724086,  0.49573368,\n",
       "       -0.05142782,  0.28090717,  0.28322614,  0.46014207,  0.48760409,\n",
       "        0.37045881,  0.70154177,  0.56750229,  0.28582399,  0.30005856,\n",
       "        0.16791516,  0.10107492,  0.23685859,  0.26154612,  0.47219542,\n",
       "        0.11594093,  0.7325108 ,  0.57917227,  0.26176392,  0.40910041,\n",
       "       -0.07758606,  0.27665263,  0.4015015 ,  0.15706411,  0.47223749,\n",
       "        0.66314292,  0.55300358,  0.43441608,  0.29357409,  0.20885602,\n",
       "        0.16427712,  0.41818625,  0.46798241,  0.13092915,  0.40228008,\n",
       "        0.26100141,  0.11445643,  0.43634572,  0.22362838,  0.45270059])"
      ]
     },
     "execution_count": 452,
     "metadata": {},
     "output_type": "execute_result"
    }
   ],
   "source": [
    "np.array(vi_trace[\"mu\"]).T[1]"
   ]
  },
  {
   "cell_type": "code",
   "execution_count": 436,
   "metadata": {},
   "outputs": [
    {
     "name": "stderr",
     "output_type": "stream",
     "text": [
      "/Users/yuki/.pyenv/versions/miniconda3-4.1.11/envs/pymc3/lib/python3.6/site-packages/ipykernel_launcher.py:2: DeprecationWarning: sample_ppc() is deprecated.  Please use sample_posterior_predictive()\n",
      "  \n"
     ]
    },
    {
     "ename": "TypeError",
     "evalue": "sample_posterior_predictive() missing 1 required positional argument: 'trace'",
     "output_type": "error",
     "traceback": [
      "\u001b[0;31m---------------------------------------------------------------------------\u001b[0m",
      "\u001b[0;31mTypeError\u001b[0m                                 Traceback (most recent call last)",
      "\u001b[0;32m<ipython-input-436-fc95c5141599>\u001b[0m in \u001b[0;36m<module>\u001b[0;34m\u001b[0m\n\u001b[1;32m      1\u001b[0m \u001b[0;32mwith\u001b[0m \u001b[0mmodel\u001b[0m\u001b[0;34m:\u001b[0m\u001b[0;34m\u001b[0m\u001b[0m\n\u001b[0;32m----> 2\u001b[0;31m     \u001b[0mppc\u001b[0m \u001b[0;34m=\u001b[0m \u001b[0mpm\u001b[0m\u001b[0;34m.\u001b[0m\u001b[0msample_ppc\u001b[0m\u001b[0;34m(\u001b[0m\u001b[0;34m)\u001b[0m\u001b[0;34m\u001b[0m\u001b[0m\n\u001b[0m",
      "\u001b[0;32m~/.pyenv/versions/miniconda3-4.1.11/envs/pymc3/lib/python3.6/site-packages/pymc3-3.5-py3.6.egg/pymc3/sampling.py\u001b[0m in \u001b[0;36msample_ppc\u001b[0;34m(*args, **kwargs)\u001b[0m\n\u001b[1;32m   1149\u001b[0m     \u001b[0mmessage\u001b[0m \u001b[0;34m=\u001b[0m \u001b[0;34m'sample_ppc() is deprecated.  Please use sample_posterior_predictive()'\u001b[0m\u001b[0;34m\u001b[0m\u001b[0m\n\u001b[1;32m   1150\u001b[0m     \u001b[0mwarnings\u001b[0m\u001b[0;34m.\u001b[0m\u001b[0mwarn\u001b[0m\u001b[0;34m(\u001b[0m\u001b[0mmessage\u001b[0m\u001b[0;34m,\u001b[0m \u001b[0mDeprecationWarning\u001b[0m\u001b[0;34m,\u001b[0m \u001b[0mstacklevel\u001b[0m\u001b[0;34m=\u001b[0m\u001b[0;36m2\u001b[0m\u001b[0;34m)\u001b[0m\u001b[0;34m\u001b[0m\u001b[0m\n\u001b[0;32m-> 1151\u001b[0;31m     \u001b[0;32mreturn\u001b[0m \u001b[0msample_posterior_predictive\u001b[0m\u001b[0;34m(\u001b[0m\u001b[0;34m*\u001b[0m\u001b[0margs\u001b[0m\u001b[0;34m,\u001b[0m \u001b[0;34m**\u001b[0m\u001b[0mkwargs\u001b[0m\u001b[0;34m)\u001b[0m\u001b[0;34m\u001b[0m\u001b[0m\n\u001b[0m\u001b[1;32m   1152\u001b[0m \u001b[0;34m\u001b[0m\u001b[0m\n\u001b[1;32m   1153\u001b[0m \u001b[0;34m\u001b[0m\u001b[0m\n",
      "\u001b[0;31mTypeError\u001b[0m: sample_posterior_predictive() missing 1 required positional argument: 'trace'"
     ]
    }
   ],
   "source": [
    "with model:\n",
    "    ppc = pm.sample_ppc(vi_trace)"
   ]
  },
  {
   "cell_type": "code",
   "execution_count": null,
   "metadata": {},
   "outputs": [],
   "source": []
  },
  {
   "cell_type": "code",
   "execution_count": 409,
   "metadata": {},
   "outputs": [
    {
     "data": {
      "image/png": "[encoded data removed]",
      "text/plain": [
       "<Figure size 864x144 with 2 Axes>"
      ]
     },
     "metadata": {
      "needs_background": "light"
     },
     "output_type": "display_data"
    }
   ],
   "source": [
    "pm.traceplot(vi_trace);"
   ]
  },
  {
   "cell_type": "code",
   "execution_count": 410,
   "metadata": {},
   "outputs": [
    {
     "data": {
      "text/html": [
       "<div>\n",
       "<style scoped>\n",
       "    .dataframe tbody tr th:only-of-type {\n",
       "        vertical-align: middle;\n",
       "    }\n",
       "\n",
       "    .dataframe tbody tr th {\n",
       "        vertical-align: top;\n",
       "    }\n",
       "\n",
       "    .dataframe thead th {\n",
       "        text-align: right;\n",
       "    }\n",
       "</style>\n",
       "<table border=\"1\" class=\"dataframe\">\n",
       "  <thead>\n",
       "    <tr style=\"text-align: right;\">\n",
       "      <th></th>\n",
       "      <th>mean</th>\n",
       "      <th>sd</th>\n",
       "      <th>mc_error</th>\n",
       "      <th>hpd_2.5</th>\n",
       "      <th>hpd_97.5</th>\n",
       "    </tr>\n",
       "  </thead>\n",
       "  <tbody>\n",
       "    <tr>\n",
       "      <th>mu__0</th>\n",
       "      <td>2.253416</td>\n",
       "      <td>0.602228</td>\n",
       "      <td>0.025606</td>\n",
       "      <td>1.120459</td>\n",
       "      <td>3.435941</td>\n",
       "    </tr>\n",
       "    <tr>\n",
       "      <th>mu__1</th>\n",
       "      <td>2.275901</td>\n",
       "      <td>0.584038</td>\n",
       "      <td>0.023724</td>\n",
       "      <td>1.254840</td>\n",
       "      <td>3.515338</td>\n",
       "    </tr>\n",
       "  </tbody>\n",
       "</table>\n",
       "</div>"
      ],
      "text/plain": [
       "           mean        sd  mc_error   hpd_2.5  hpd_97.5\n",
       "mu__0  2.253416  0.602228  0.025606  1.120459  3.435941\n",
       "mu__1  2.275901  0.584038  0.023724  1.254840  3.515338"
      ]
     },
     "execution_count": 410,
     "metadata": {},
     "output_type": "execute_result"
    }
   ],
   "source": [
    "pm.summary(vi_trace)"
   ]
  },
  {
   "cell_type": "code",
   "execution_count": null,
   "metadata": {},
   "outputs": [],
   "source": []
  },
  {
   "cell_type": "code",
   "execution_count": 404,
   "metadata": {},
   "outputs": [
    {
     "data": {
      "image/png": "[encoded data removed]",
      "text/plain": [
       "<Figure size 864x144 with 2 Axes>"
      ]
     },
     "metadata": {
      "needs_background": "light"
     },
     "output_type": "display_data"
    }
   ],
   "source": [
    "pm.traceplot(vi_trace);"
   ]
  },
  {
   "cell_type": "code",
   "execution_count": 405,
   "metadata": {},
   "outputs": [
    {
     "data": {
      "text/html": [
       "<div>\n",
       "<style scoped>\n",
       "    .dataframe tbody tr th:only-of-type {\n",
       "        vertical-align: middle;\n",
       "    }\n",
       "\n",
       "    .dataframe tbody tr th {\n",
       "        vertical-align: top;\n",
       "    }\n",
       "\n",
       "    .dataframe thead th {\n",
       "        text-align: right;\n",
       "    }\n",
       "</style>\n",
       "<table border=\"1\" class=\"dataframe\">\n",
       "  <thead>\n",
       "    <tr style=\"text-align: right;\">\n",
       "      <th></th>\n",
       "      <th>mean</th>\n",
       "      <th>sd</th>\n",
       "      <th>mc_error</th>\n",
       "      <th>hpd_2.5</th>\n",
       "      <th>hpd_97.5</th>\n",
       "    </tr>\n",
       "  </thead>\n",
       "  <tbody>\n",
       "    <tr>\n",
       "      <th>mu__0</th>\n",
       "      <td>0.36068</td>\n",
       "      <td>0.240940</td>\n",
       "      <td>0.010329</td>\n",
       "      <td>-0.100091</td>\n",
       "      <td>0.779858</td>\n",
       "    </tr>\n",
       "    <tr>\n",
       "      <th>mu__1</th>\n",
       "      <td>0.33959</td>\n",
       "      <td>0.226962</td>\n",
       "      <td>0.010156</td>\n",
       "      <td>-0.095618</td>\n",
       "      <td>0.754214</td>\n",
       "    </tr>\n",
       "  </tbody>\n",
       "</table>\n",
       "</div>"
      ],
      "text/plain": [
       "          mean        sd  mc_error   hpd_2.5  hpd_97.5\n",
       "mu__0  0.36068  0.240940  0.010329 -0.100091  0.779858\n",
       "mu__1  0.33959  0.226962  0.010156 -0.095618  0.754214"
      ]
     },
     "execution_count": 405,
     "metadata": {},
     "output_type": "execute_result"
    }
   ],
   "source": [
    "pm.summary(vi_trace)"
   ]
  },
  {
   "cell_type": "code",
   "execution_count": null,
   "metadata": {},
   "outputs": [],
   "source": []
  },
  {
   "cell_type": "code",
   "execution_count": 396,
   "metadata": {},
   "outputs": [
    {
     "data": {
      "image/png": "[encoded data removed]",
      "text/plain": [
       "<Figure size 864x144 with 2 Axes>"
      ]
     },
     "metadata": {
      "needs_background": "light"
     },
     "output_type": "display_data"
    }
   ],
   "source": [
    "pm.traceplot(trace);"
   ]
  },
  {
   "cell_type": "code",
   "execution_count": 398,
   "metadata": {},
   "outputs": [
    {
     "data": {
      "image/png": "[encoded data removed]",
      "text/plain": [
       "<Figure size 432x288 with 2 Axes>"
      ]
     },
     "metadata": {
      "needs_background": "light"
     },
     "output_type": "display_data"
    }
   ],
   "source": [
    "pm.forestplot(trace);"
   ]
  },
  {
   "cell_type": "code",
   "execution_count": 397,
   "metadata": {},
   "outputs": [
    {
     "data": {
      "text/html": [
       "<div>\n",
       "<style scoped>\n",
       "    .dataframe tbody tr th:only-of-type {\n",
       "        vertical-align: middle;\n",
       "    }\n",
       "\n",
       "    .dataframe tbody tr th {\n",
       "        vertical-align: top;\n",
       "    }\n",
       "\n",
       "    .dataframe thead th {\n",
       "        text-align: right;\n",
       "    }\n",
       "</style>\n",
       "<table border=\"1\" class=\"dataframe\">\n",
       "  <thead>\n",
       "    <tr style=\"text-align: right;\">\n",
       "      <th></th>\n",
       "      <th>mean</th>\n",
       "      <th>sd</th>\n",
       "      <th>mc_error</th>\n",
       "      <th>hpd_2.5</th>\n",
       "      <th>hpd_97.5</th>\n",
       "      <th>n_eff</th>\n",
       "      <th>Rhat</th>\n",
       "    </tr>\n",
       "  </thead>\n",
       "  <tbody>\n",
       "    <tr>\n",
       "      <th>mu__0</th>\n",
       "      <td>8.002941</td>\n",
       "      <td>0.011514</td>\n",
       "      <td>0.000249</td>\n",
       "      <td>7.979559</td>\n",
       "      <td>8.026058</td>\n",
       "      <td>2133.562958</td>\n",
       "      <td>1.001983</td>\n",
       "    </tr>\n",
       "    <tr>\n",
       "      <th>mu__1</th>\n",
       "      <td>8.544399</td>\n",
       "      <td>0.018554</td>\n",
       "      <td>0.000403</td>\n",
       "      <td>8.507839</td>\n",
       "      <td>8.579247</td>\n",
       "      <td>2118.960781</td>\n",
       "      <td>1.000250</td>\n",
       "    </tr>\n",
       "  </tbody>\n",
       "</table>\n",
       "</div>"
      ],
      "text/plain": [
       "           mean        sd  mc_error   hpd_2.5  hpd_97.5        n_eff      Rhat\n",
       "mu__0  8.002941  0.011514  0.000249  7.979559  8.026058  2133.562958  1.001983\n",
       "mu__1  8.544399  0.018554  0.000403  8.507839  8.579247  2118.960781  1.000250"
      ]
     },
     "execution_count": 397,
     "metadata": {},
     "output_type": "execute_result"
    }
   ],
   "source": [
    "pm.summary(trace)"
   ]
  },
  {
   "cell_type": "code",
   "execution_count": null,
   "metadata": {},
   "outputs": [],
   "source": []
  },
  {
   "cell_type": "code",
   "execution_count": null,
   "metadata": {},
   "outputs": [],
   "source": []
  },
  {
   "cell_type": "code",
   "execution_count": null,
   "metadata": {},
   "outputs": [],
   "source": []
  },
  {
   "cell_type": "code",
   "execution_count": null,
   "metadata": {},
   "outputs": [],
   "source": []
  },
  {
   "cell_type": "code",
   "execution_count": 317,
   "metadata": {},
   "outputs": [],
   "source": [
    "# fml = 'comments_count ~ title_length + digit_count + hiragana_count + katakana_count'\n",
    "fml = 'likes_count ~ title_length + digit_count'"
   ]
  },
  {
   "cell_type": "code",
   "execution_count": 318,
   "metadata": {},
   "outputs": [],
   "source": [
    "with pm.Model() as glm_model:\n",
    "    pm.glm.GLM.from_formula(fml, df, family=pm.glm.families.Poisson())"
   ]
  },
  {
   "cell_type": "code",
   "execution_count": 319,
   "metadata": {},
   "outputs": [
    {
     "name": "stderr",
     "output_type": "stream",
     "text": [
      "INFO (theano.gof.compilelock): Refreshing lock /Users/yuki/.theano/compiledir_Darwin-18.0.0-x86_64-i386-64bit-i386-3.6.2-64/lock_dir/lock\n"
     ]
    },
    {
     "data": {
      "text/latex": [
       "$$\n",
       "            \\begin{array}{rcl}\n",
       "            \\text{Intercept} &\\sim & \\text{Flat}()\\\\\\text{title_length} &\\sim & \\text{Normal}(\\mathit{mu}=0,~\\mathit{sd}=1000.0)\\\\\\text{digit_count} &\\sim & \\text{Normal}(\\mathit{mu}=0,~\\mathit{sd}=1000.0)\\\\\\text{mu} &\\sim & \\text{HalfCauchy}(\\mathit{beta}=10)\\\\\\text{y} &\\sim & \\text{Poisson}(\\mathit{mu}=f(f(f(array,~f(\\text{Intercept},~\\text{title_length},~\\text{digit_count})),~f())))\n",
       "            \\end{array}\n",
       "            $$"
      ],
      "text/plain": [
       "<pymc3.model.Model at 0x14075ab38>"
      ]
     },
     "execution_count": 319,
     "metadata": {},
     "output_type": "execute_result"
    }
   ],
   "source": [
    "glm_model"
   ]
  },
  {
   "cell_type": "code",
   "execution_count": 320,
   "metadata": {},
   "outputs": [],
   "source": [
    "# with glm_model:\n",
    "#     glm_trace_sample = pm.sample()"
   ]
  },
  {
   "cell_type": "code",
   "execution_count": 321,
   "metadata": {},
   "outputs": [
    {
     "name": "stderr",
     "output_type": "stream",
     "text": [
      "Average Loss = 2.1923e+58: 100%|██████████| 10000/10000 [00:38<00:00, 258.36it/s]\n",
      "Finished [100%]: Average Loss = 2.1923e+58\n"
     ]
    }
   ],
   "source": [
    "with glm_model:\n",
    "    glm_fit = pm.fit()\n",
    "    glm_trace = glm_fit.sample()"
   ]
  },
  {
   "cell_type": "code",
   "execution_count": 322,
   "metadata": {},
   "outputs": [
    {
     "name": "stderr",
     "output_type": "stream",
     "text": [
      "/Users/yuki/.pyenv/versions/miniconda3-4.1.11/envs/pymc3/lib/python3.6/site-packages/matplotlib/axes/_base.py:3449: MatplotlibDeprecationWarning: \n",
      "The `ymin` argument was deprecated in Matplotlib 3.0 and will be removed in 3.2. Use `bottom` instead.\n",
      "  alternative='`bottom`', obj_type='argument')\n"
     ]
    },
    {
     "data": {
      "image/png": "[encoded data removed]",
      "text/plain": [
       "<Figure size 864x576 with 8 Axes>"
      ]
     },
     "metadata": {
      "needs_background": "light"
     },
     "output_type": "display_data"
    }
   ],
   "source": [
    "pm.traceplot(glm_trace);"
   ]
  },
  {
   "cell_type": "code",
   "execution_count": 323,
   "metadata": {},
   "outputs": [
    {
     "data": {
      "text/html": [
       "<div>\n",
       "<style scoped>\n",
       "    .dataframe tbody tr th:only-of-type {\n",
       "        vertical-align: middle;\n",
       "    }\n",
       "\n",
       "    .dataframe tbody tr th {\n",
       "        vertical-align: top;\n",
       "    }\n",
       "\n",
       "    .dataframe thead th {\n",
       "        text-align: right;\n",
       "    }\n",
       "</style>\n",
       "<table border=\"1\" class=\"dataframe\">\n",
       "  <thead>\n",
       "    <tr style=\"text-align: right;\">\n",
       "      <th></th>\n",
       "      <th>mean</th>\n",
       "      <th>sd</th>\n",
       "      <th>mc_error</th>\n",
       "      <th>hpd_2.5</th>\n",
       "      <th>hpd_97.5</th>\n",
       "    </tr>\n",
       "  </thead>\n",
       "  <tbody>\n",
       "    <tr>\n",
       "      <th>Intercept</th>\n",
       "      <td>-0.393206</td>\n",
       "      <td>0.697130</td>\n",
       "      <td>0.032888</td>\n",
       "      <td>-1.685610</td>\n",
       "      <td>0.935763</td>\n",
       "    </tr>\n",
       "    <tr>\n",
       "      <th>title_length</th>\n",
       "      <td>-0.415710</td>\n",
       "      <td>0.329274</td>\n",
       "      <td>0.013066</td>\n",
       "      <td>-1.047940</td>\n",
       "      <td>0.211420</td>\n",
       "    </tr>\n",
       "    <tr>\n",
       "      <th>digit_count</th>\n",
       "      <td>-0.453849</td>\n",
       "      <td>0.586315</td>\n",
       "      <td>0.027517</td>\n",
       "      <td>-1.660119</td>\n",
       "      <td>0.652416</td>\n",
       "    </tr>\n",
       "    <tr>\n",
       "      <th>mu</th>\n",
       "      <td>23.241153</td>\n",
       "      <td>80.130745</td>\n",
       "      <td>3.685616</td>\n",
       "      <td>0.100471</td>\n",
       "      <td>84.534005</td>\n",
       "    </tr>\n",
       "  </tbody>\n",
       "</table>\n",
       "</div>"
      ],
      "text/plain": [
       "                   mean         sd  mc_error   hpd_2.5   hpd_97.5\n",
       "Intercept     -0.393206   0.697130  0.032888 -1.685610   0.935763\n",
       "title_length  -0.415710   0.329274  0.013066 -1.047940   0.211420\n",
       "digit_count   -0.453849   0.586315  0.027517 -1.660119   0.652416\n",
       "mu            23.241153  80.130745  3.685616  0.100471  84.534005"
      ]
     },
     "execution_count": 323,
     "metadata": {},
     "output_type": "execute_result"
    }
   ],
   "source": [
    "pm.summary(glm_trace)"
   ]
  },
  {
   "cell_type": "code",
   "execution_count": null,
   "metadata": {},
   "outputs": [],
   "source": []
  },
  {
   "cell_type": "code",
   "execution_count": 308,
   "metadata": {},
   "outputs": [],
   "source": [
    "summary_mean = pm.summary(glm_trace)[\"mean\"]\n",
    "intercept = summary_mean[\"Intercept\"]\n",
    "coef_0 = summary_mean[\"title_length\"]\n",
    "coef_1 = summary_mean[\"digit_count\"]\n",
    "coef_2 = summary_mean[\"hiragana_count\"]\n",
    "coef_3 = summary_mean[\"katakana_count\"]"
   ]
  },
  {
   "cell_type": "code",
   "execution_count": 309,
   "metadata": {},
   "outputs": [
    {
     "data": {
      "text/plain": [
       "(-0.4171452510670624,\n",
       " -0.45596614824751386,\n",
       " -0.4158830557149711,\n",
       " -0.42661265192315906,\n",
       " -0.417050504816913)"
      ]
     },
     "execution_count": 309,
     "metadata": {},
     "output_type": "execute_result"
    }
   ],
   "source": [
    "intercept, coef_0, coef_1, coef_2, coef_3"
   ]
  },
  {
   "cell_type": "code",
   "execution_count": 310,
   "metadata": {},
   "outputs": [],
   "source": [
    "target = \"イマドキのJavaScriptの書き方2018\""
   ]
  },
  {
   "cell_type": "code",
   "execution_count": 312,
   "metadata": {},
   "outputs": [
    {
     "data": {
      "text/plain": [
       "4"
      ]
     },
     "execution_count": 312,
     "metadata": {},
     "output_type": "execute_result"
    }
   ],
   "source": [
    "sum(count_digits(target).values())"
   ]
  },
  {
   "cell_type": "code",
   "execution_count": 316,
   "metadata": {},
   "outputs": [
    {
     "data": {
      "text/plain": [
       "-15.515938858656893"
      ]
     },
     "execution_count": 316,
     "metadata": {},
     "output_type": "execute_result"
    }
   ],
   "source": [
    "(intercept +\n",
    "       coef_0 * len(target) +\n",
    "       coef_1 * sum(count_digits(target).values()) + \n",
    "       coef_2 * sum(count_hiraganas(target).values()) + \n",
    "       coef_3 * sum(count_katakanas(target).values())\n",
    ")"
   ]
  },
  {
   "cell_type": "code",
   "execution_count": 314,
   "metadata": {},
   "outputs": [
    {
     "data": {
      "text/plain": [
       "1.826052973263291e-07"
      ]
     },
     "execution_count": 314,
     "metadata": {},
     "output_type": "execute_result"
    }
   ],
   "source": [
    "np.exp(intercept +\n",
    "       coef_0 * len(target) +\n",
    "       coef_1 * sum(count_digits(target).values()) + \n",
    "       coef_2 * sum(count_hiraganas(target).values()) + \n",
    "       coef_3 * sum(count_katakanas(target).values())\n",
    "      )"
   ]
  },
  {
   "cell_type": "code",
   "execution_count": null,
   "metadata": {},
   "outputs": [],
   "source": []
  },
  {
   "cell_type": "code",
   "execution_count": null,
   "metadata": {},
   "outputs": [],
   "source": []
  },
  {
   "cell_type": "code",
   "execution_count": 214,
   "metadata": {},
   "outputs": [],
   "source": [
    "model = pm.Model()\n",
    "\n",
    "with model:\n",
    "        # define priors, weakly informative Normal\n",
    "    intercept = pm.Flat(\"intercept\")\n",
    "    b1 = pm.Normal('b1', mu=0, sd=1000)\n",
    "#     b2 = pm.Normal('b2', mu=0, sd=1000)\n",
    "\n",
    "    # define linear model and exp link function\n",
    "    theta = intercept + b1 * title_lengths\n",
    "#     comments = pm.Poisson(\"comments\", mu=np.exp(theta), observed=df[\"comments_count\"].values)\n",
    "    likes = pm.Poisson(\"likes\", mu=np.exp(theta), observed=df[\"likes_count\"].values)"
   ]
  },
  {
   "cell_type": "code",
   "execution_count": 215,
   "metadata": {},
   "outputs": [
    {
     "data": {
      "text/latex": [
       "$$\n",
       "            \\begin{array}{rcl}\n",
       "            \\text{intercept} &\\sim & \\text{Flat}()\\\\\\text{b1} &\\sim & \\text{Normal}(\\mathit{mu}=0,~\\mathit{sd}=1000.0)\\\\\\text{likes} &\\sim & \\text{Poisson}(\\mathit{mu}=f(f(f(\\text{intercept}),~f(f(\\text{b1}),~array))))\n",
       "            \\end{array}\n",
       "            $$"
      ],
      "text/plain": [
       "<pymc3.model.Model at 0x12cefe588>"
      ]
     },
     "execution_count": 215,
     "metadata": {},
     "output_type": "execute_result"
    }
   ],
   "source": [
    "model"
   ]
  },
  {
   "cell_type": "code",
   "execution_count": 219,
   "metadata": {},
   "outputs": [
    {
     "name": "stderr",
     "output_type": "stream",
     "text": [
      "Average Loss = 8.0409e+64: 100%|██████████| 10000/10000 [00:31<00:00, 312.74it/s]\n",
      "Finished [100%]: Average Loss = 8.0409e+64\n",
      "INFO (theano.gof.compilelock): Refreshing lock /Users/yuki/.theano/compiledir_Darwin-18.0.0-x86_64-i386-64bit-i386-3.6.2-64/lock_dir/lock\n"
     ]
    }
   ],
   "source": [
    "with model:\n",
    "    fit_vi = pm.fit()\n",
    "    trace = fit_vi.sample()"
   ]
  },
  {
   "cell_type": "code",
   "execution_count": 220,
   "metadata": {},
   "outputs": [
    {
     "name": "stderr",
     "output_type": "stream",
     "text": [
      "/Users/yuki/.pyenv/versions/miniconda3-4.1.11/envs/pymc3/lib/python3.6/site-packages/matplotlib/axes/_base.py:3449: MatplotlibDeprecationWarning: \n",
      "The `ymin` argument was deprecated in Matplotlib 3.0 and will be removed in 3.2. Use `bottom` instead.\n",
      "  alternative='`bottom`', obj_type='argument')\n"
     ]
    },
    {
     "data": {
      "image/png": "[encoded data removed]",
      "text/plain": [
       "<Figure size 864x288 with 4 Axes>"
      ]
     },
     "metadata": {
      "needs_background": "light"
     },
     "output_type": "display_data"
    }
   ],
   "source": [
    "pm.traceplot(trace);"
   ]
  },
  {
   "cell_type": "code",
   "execution_count": 221,
   "metadata": {},
   "outputs": [
    {
     "data": {
      "text/html": [
       "<div>\n",
       "<style scoped>\n",
       "    .dataframe tbody tr th:only-of-type {\n",
       "        vertical-align: middle;\n",
       "    }\n",
       "\n",
       "    .dataframe tbody tr th {\n",
       "        vertical-align: top;\n",
       "    }\n",
       "\n",
       "    .dataframe thead th {\n",
       "        text-align: right;\n",
       "    }\n",
       "</style>\n",
       "<table border=\"1\" class=\"dataframe\">\n",
       "  <thead>\n",
       "    <tr style=\"text-align: right;\">\n",
       "      <th></th>\n",
       "      <th>mean</th>\n",
       "      <th>sd</th>\n",
       "      <th>mc_error</th>\n",
       "      <th>hpd_2.5</th>\n",
       "      <th>hpd_97.5</th>\n",
       "    </tr>\n",
       "  </thead>\n",
       "  <tbody>\n",
       "    <tr>\n",
       "      <th>intercept</th>\n",
       "      <td>-0.297299</td>\n",
       "      <td>0.652772</td>\n",
       "      <td>0.026713</td>\n",
       "      <td>-1.640595</td>\n",
       "      <td>0.843674</td>\n",
       "    </tr>\n",
       "    <tr>\n",
       "      <th>b1</th>\n",
       "      <td>-0.319565</td>\n",
       "      <td>0.313950</td>\n",
       "      <td>0.014925</td>\n",
       "      <td>-1.041712</td>\n",
       "      <td>0.222924</td>\n",
       "    </tr>\n",
       "  </tbody>\n",
       "</table>\n",
       "</div>"
      ],
      "text/plain": [
       "               mean        sd  mc_error   hpd_2.5  hpd_97.5\n",
       "intercept -0.297299  0.652772  0.026713 -1.640595  0.843674\n",
       "b1        -0.319565  0.313950  0.014925 -1.041712  0.222924"
      ]
     },
     "execution_count": 221,
     "metadata": {},
     "output_type": "execute_result"
    }
   ],
   "source": [
    "pm.summary(trace)"
   ]
  },
  {
   "cell_type": "code",
   "execution_count": 222,
   "metadata": {},
   "outputs": [
    {
     "data": {
      "text/html": [
       "<div>\n",
       "<style scoped>\n",
       "    .dataframe tbody tr th:only-of-type {\n",
       "        vertical-align: middle;\n",
       "    }\n",
       "\n",
       "    .dataframe tbody tr th {\n",
       "        vertical-align: top;\n",
       "    }\n",
       "\n",
       "    .dataframe thead th {\n",
       "        text-align: right;\n",
       "    }\n",
       "</style>\n",
       "<table border=\"1\" class=\"dataframe\">\n",
       "  <thead>\n",
       "    <tr style=\"text-align: right;\">\n",
       "      <th></th>\n",
       "      <th>mean</th>\n",
       "      <th>sd</th>\n",
       "      <th>hpd_2.5</th>\n",
       "      <th>hpd_97.5</th>\n",
       "    </tr>\n",
       "  </thead>\n",
       "  <tbody>\n",
       "    <tr>\n",
       "      <th>intercept</th>\n",
       "      <td>0.742822</td>\n",
       "      <td>1.920859</td>\n",
       "      <td>0.193865</td>\n",
       "      <td>2.324894</td>\n",
       "    </tr>\n",
       "    <tr>\n",
       "      <th>b1</th>\n",
       "      <td>0.726465</td>\n",
       "      <td>1.368822</td>\n",
       "      <td>0.352850</td>\n",
       "      <td>1.249725</td>\n",
       "    </tr>\n",
       "  </tbody>\n",
       "</table>\n",
       "</div>"
      ],
      "text/plain": [
       "               mean        sd   hpd_2.5  hpd_97.5\n",
       "intercept  0.742822  1.920859  0.193865  2.324894\n",
       "b1         0.726465  1.368822  0.352850  1.249725"
      ]
     },
     "execution_count": 222,
     "metadata": {},
     "output_type": "execute_result"
    }
   ],
   "source": [
    "np.exp(pm.summary(trace))[['mean', 'sd', 'hpd_2.5','hpd_97.5']]"
   ]
  },
  {
   "cell_type": "markdown",
   "metadata": {},
   "source": [
    "sample1"
   ]
  },
  {
   "cell_type": "code",
   "execution_count": 295,
   "metadata": {},
   "outputs": [],
   "source": [
    "target = \"イマドキのJavaScriptの書き方2018\""
   ]
  },
  {
   "cell_type": "code",
   "execution_count": 127,
   "metadata": {},
   "outputs": [
    {
     "data": {
      "text/html": [
       "<div>\n",
       "<style scoped>\n",
       "    .dataframe tbody tr th:only-of-type {\n",
       "        vertical-align: middle;\n",
       "    }\n",
       "\n",
       "    .dataframe tbody tr th {\n",
       "        vertical-align: top;\n",
       "    }\n",
       "\n",
       "    .dataframe thead th {\n",
       "        text-align: right;\n",
       "    }\n",
       "</style>\n",
       "<table border=\"1\" class=\"dataframe\">\n",
       "  <thead>\n",
       "    <tr style=\"text-align: right;\">\n",
       "      <th></th>\n",
       "      <th>title</th>\n",
       "      <th>id</th>\n",
       "      <th>created_at</th>\n",
       "      <th>updated_at</th>\n",
       "      <th>likes_count</th>\n",
       "      <th>comments_count</th>\n",
       "      <th>tags_str</th>\n",
       "      <th>user_id</th>\n",
       "      <th>user_permanent_id</th>\n",
       "      <th>url</th>\n",
       "    </tr>\n",
       "  </thead>\n",
       "  <tbody>\n",
       "    <tr>\n",
       "      <th>1054</th>\n",
       "      <td>イマドキのJavaScriptの書き方2018</td>\n",
       "      <td>19ab5c381bbb2e09d0d9</td>\n",
       "      <td>2017-12-26T14:31:16+09:00</td>\n",
       "      <td>2018-11-17T12:08:09+09:00</td>\n",
       "      <td>3583</td>\n",
       "      <td>45</td>\n",
       "      <td>JavaScript</td>\n",
       "      <td>shibukawa</td>\n",
       "      <td>6105</td>\n",
       "      <td>https://qiita.com/shibukawa/items/19ab5c381bbb...</td>\n",
       "    </tr>\n",
       "  </tbody>\n",
       "</table>\n",
       "</div>"
      ],
      "text/plain": [
       "                        title                    id  \\\n",
       "1054  イマドキのJavaScriptの書き方2018  19ab5c381bbb2e09d0d9   \n",
       "\n",
       "                     created_at                 updated_at  likes_count  \\\n",
       "1054  2017-12-26T14:31:16+09:00  2018-11-17T12:08:09+09:00         3583   \n",
       "\n",
       "      comments_count    tags_str    user_id  user_permanent_id  \\\n",
       "1054              45  JavaScript  shibukawa               6105   \n",
       "\n",
       "                                                    url  \n",
       "1054  https://qiita.com/shibukawa/items/19ab5c381bbb...  "
      ]
     },
     "execution_count": 127,
     "metadata": {},
     "output_type": "execute_result"
    }
   ],
   "source": [
    "taget_item = df[df[\"title\"] == target]\n",
    "taget_item"
   ]
  },
  {
   "cell_type": "code",
   "execution_count": 128,
   "metadata": {},
   "outputs": [
    {
     "data": {
      "text/plain": [
       "45"
      ]
     },
     "execution_count": 128,
     "metadata": {},
     "output_type": "execute_result"
    }
   ],
   "source": [
    "int(taget_item.comments_count)"
   ]
  },
  {
   "cell_type": "code",
   "execution_count": 134,
   "metadata": {},
   "outputs": [
    {
     "name": "stdout",
     "output_type": "stream",
     "text": [
      "actual    comments_count: 45\n",
      "predicted comments_count: 35\n"
     ]
    }
   ],
   "source": [
    "pred_count = np.exp(trace[\"b0\"].mean()) + np.exp(trace[\"b1\"].mean()) * len(target) + np.exp(trace[\"b2\"].mean()) * sum(count_digits(target).values())\n",
    "print(\"actual    comments_count: {:.0f}\".format(int(taget_item.comments_count)))\n",
    "print(\"predicted comments_count: {:.0f}\".format(pred_count))"
   ]
  },
  {
   "cell_type": "markdown",
   "metadata": {},
   "source": [
    "sample2"
   ]
  },
  {
   "cell_type": "code",
   "execution_count": 136,
   "metadata": {},
   "outputs": [
    {
     "name": "stdout",
     "output_type": "stream",
     "text": [
      "actual    comments_count: 0\n",
      "predicted comments_count: 47\n"
     ]
    }
   ],
   "source": [
    "target = \"毎月 500 時間の社内ルーティンワークを GAS を使って自動化した話\"\n",
    "pred_count = np.exp(trace[\"b0\"].mean()) + np.exp(trace[\"b1\"].mean()) * len(target) + np.exp(trace[\"b2\"].mean()) * sum(count_digits(target).values())\n",
    "print(\"actual    comments_count: {:.0f}\".format(0))\n",
    "print(\"predicted comments_count: {:.0f}\".format(pred_count))"
   ]
  },
  {
   "cell_type": "code",
   "execution_count": null,
   "metadata": {},
   "outputs": [],
   "source": []
  },
  {
   "cell_type": "code",
   "execution_count": null,
   "metadata": {},
   "outputs": [],
   "source": []
  }
 ],
 "metadata": {
  "kernelspec": {
   "display_name": "Python 3",
   "language": "python",
   "name": "python3"
  },
  "language_info": {
   "codemirror_mode": {
    "name": "ipython",
    "version": 3
   },
   "file_extension": ".py",
   "mimetype": "text/x-python",
   "name": "python",
   "nbconvert_exporter": "python",
   "pygments_lexer": "ipython3",
   "version": "3.6.2"
  }
 },
 "nbformat": 4,
 "nbformat_minor": 2
}
