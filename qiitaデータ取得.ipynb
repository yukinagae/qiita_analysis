{
 "cells": [
  {
   "cell_type": "markdown",
   "metadata": {},
   "source": [
    "# Qiita\n",
    "\n",
    "see: https://qiita.com/nkmk/items/fbac13cd05b80334eb2b\n",
    "\n",
    "see: https://qiita.com/SugarShootingStar/items/bba0fab1e55936e7234a"
   ]
  },
  {
   "cell_type": "markdown",
   "metadata": {},
   "source": [
    "データ取得"
   ]
  },
  {
   "cell_type": "code",
   "execution_count": null,
   "metadata": {},
   "outputs": [],
   "source": [
    "import os\n",
    "import time\n",
    "\n",
    "import pandas as pd\n",
    "import requests\n",
    "\n",
    "url = 'https://qiita.com/api/v2/items'\n",
    "\n",
    "h = {'Authorization': 'Bearer <token>'}\n",
    "\n",
    "start = '2017-12-15'\n",
    "end = '2018-12-15'\n",
    "\n",
    "date_list = [d.strftime('%Y-%m-%d') for d in pd.date_range(start, end, freq='SM')]\n",
    "\n",
    "start_list = date_list[:-1]\n",
    "end_list = date_list[1:]\n",
    "\n",
    "result_dir_path = 'results'\n",
    "sleep_sec = 3.6\n",
    "\n",
    "\n",
    "def get_simple_df(df):\n",
    "    df['tags_str'] = df['tags'].apply(\n",
    "        lambda tags: ','.join(tag['name'] for tag in tags if not tag['name'] == '\\x00')\n",
    "    )\n",
    "    df['title'] = df['title'].str.replace('\\r', '')\n",
    "    return df[['title', 'id', 'created_at', 'updated_at','likes_count', 'comments_count', 'tags_str', 'user_id', 'user_permanent_id', 'url']]\n",
    "\n",
    "\n",
    "for start, end in zip(start_list, end_list):\n",
    "    p = {\n",
    "        'per_page': 100,\n",
    "        'query': 'created:>{} created:<{}'.format(start, end)\n",
    "    }\n",
    "    \n",
    "    print(\"started\")\n",
    "\n",
    "    time.sleep(sleep_sec)\n",
    "    r = requests.get(url, params=p, headers=h)\n",
    "    total_count = int(r.headers['Total-Count'])\n",
    "\n",
    "    print(total_count)\n",
    "    \n",
    "    if total_count == 0:\n",
    "        continue\n",
    "\n",
    "    df_list = [get_simple_df(pd.io.json.json_normalize(r.json(), sep='_'))]\n",
    "    \n",
    "    print(\"a\")\n",
    "\n",
    "    if total_count > 100:\n",
    "        for i in range(2, (total_count - 1) // 100 + 2):\n",
    "            print(i)\n",
    "            p['page'] = i\n",
    "            time.sleep(sleep_sec)\n",
    "            r = requests.get(url, params=p, headers=h)\n",
    "            df_list.append(get_simple_df(pd.io.json.json_normalize(r.json(), sep='_')))\n",
    "\n",
    "    a = pd.concat(df_list, ignore_index=True)\n",
    "    print(len(a))\n",
    "    a.to_csv(os.path.join(result_dir_path, start + '.csv'), index=False)\n",
    "\n",
    "df_all = [pd.read_csv(os.path.join(result_dir_path, start_date + '.csv')) for start_date in start_list]\n",
    "pd.concat(df_all, ignore_index=True).to_csv(os.path.join(result_dir_path, 'summary.csv'), index=False)"
   ]
  }
 ],
 "metadata": {
  "kernelspec": {
   "display_name": "Python 3",
   "language": "python",
   "name": "python3"
  },
  "language_info": {
   "codemirror_mode": {
    "name": "ipython",
    "version": 3
   },
   "file_extension": ".py",
   "mimetype": "text/x-python",
   "name": "python",
   "nbconvert_exporter": "python",
   "pygments_lexer": "ipython3",
   "version": "3.7.0"
  }
 },
 "nbformat": 4,
 "nbformat_minor": 2
}
